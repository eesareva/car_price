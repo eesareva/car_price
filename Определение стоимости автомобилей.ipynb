{
 "cells": [
  {
   "cell_type": "markdown",
   "metadata": {},
   "source": [
    "# Определение стоимости автомобилей"
   ]
  },
  {
   "cell_type": "markdown",
   "metadata": {},
   "source": [
    "Сервис по продаже автомобилей с пробегом «Не бит, не крашен» разрабатывает приложение для привлечения новых клиентов. В нём можно быстро узнать рыночную стоимость своего автомобиля. В вашем распоряжении исторические данные: технические характеристики, комплектации и цены автомобилей. Вам нужно построить модель для определения стоимости. \n",
    "\n",
    "Заказчику важны:\n",
    "\n",
    "- качество предсказания;\n",
    "- скорость предсказания;\n",
    "- время обучения."
   ]
  },
  {
   "cell_type": "markdown",
   "metadata": {},
   "source": [
    "**Цель исследования**\n",
    "\n",
    "Определить, рыночную стоимость автомобиля\n",
    "\n",
    "---\n",
    "\n",
    "**Задачи исследования**\n",
    "\n",
    "Построить модель, которая умеет её определять\n",
    "\n",
    "---\n",
    "\n",
    "**Исходные данные**  \n",
    "\n",
    "Данные находятся в файле `/datasets/autos.csv`\n",
    "\n",
    "- **DateCrawled** — дата скачивания анкеты из базы\n",
    "- **VehicleType** — тип автомобильного кузова\n",
    "- **RegistrationYear** — год регистрации автомобиля\n",
    "- **Gearbox** — тип коробки передач\n",
    "- **Power** — мощность (л. с.)\n",
    "- **Model** — модель автомобиля\n",
    "- **Kilometer** — пробег (км)\n",
    "- **RegistrationMonth** — месяц регистрации автомобиля\n",
    "- **FuelType** — тип топлива\n",
    "- **Brand** — марка автомобиля\n",
    "- **Repaired** — была машина в ремонте или нет\n",
    "- **DateCreated** — дата создания анкеты\n",
    "- **NumberOfPictures** — количество фотографий автомобиля\n",
    "- **PostalCode** — почтовый индекс владельца анкеты (пользователя)\n",
    "- **LastSeen** — дата последней активности пользователя\n",
    "- **Price** — цена (евро) (Целевой признак)"
   ]
  },
  {
   "cell_type": "markdown",
   "metadata": {},
   "source": [
    "## Подготовка данных"
   ]
  },
  {
   "cell_type": "code",
   "execution_count": 1,
   "metadata": {},
   "outputs": [],
   "source": [
    "!pip install phik -q\n",
    "!pip install scikit-learn==1.1.3 -q\n",
    "!pip install lightgbm -q"
   ]
  },
  {
   "cell_type": "code",
   "execution_count": 2,
   "metadata": {},
   "outputs": [],
   "source": [
    "#Подключение библиотек\n",
    "import pandas as pd\n",
    "import matplotlib.pyplot as plt\n",
    "import seaborn as sns\n",
    "import numpy as np\n",
    "import phik\n",
    "import time\n",
    "import lightgbm as lgb\n",
    "\n",
    "from phik.report import plot_correlation_matrix\n",
    "from phik import report\n",
    "\n",
    "from sklearn.model_selection import train_test_split\n",
    "from sklearn.linear_model import LinearRegression\n",
    "from sklearn.tree import DecisionTreeRegressor\n",
    "\n",
    "from sklearn.preprocessing import (\n",
    "    OneHotEncoder, \n",
    "    StandardScaler,\n",
    "    OrdinalEncoder\n",
    ")\n",
    "from sklearn.metrics import mean_squared_error"
   ]
  },
  {
   "cell_type": "markdown",
   "metadata": {},
   "source": [
    "### Загрузка данных"
   ]
  },
  {
   "cell_type": "code",
   "execution_count": 3,
   "metadata": {},
   "outputs": [],
   "source": [
    "data = pd.read_csv('/datasets/autos.csv')"
   ]
  },
  {
   "cell_type": "markdown",
   "metadata": {},
   "source": [
    "### Предобработка данных"
   ]
  },
  {
   "cell_type": "code",
   "execution_count": 4,
   "metadata": {},
   "outputs": [],
   "source": [
    "# В целях оптимизации, напишем функцию для получения общей информации о датасете\n",
    "def describe_df(df, name):\n",
    "    print('размер датафрейма', name, ':', df.shape)\n",
    "    print('_'*125)\n",
    "    \n",
    "    print('Первые 5 строк датафрейма', name)\n",
    "    display(df.head())\n",
    "    print('_'*125)\n",
    "    \n",
    "    print('Последнии 5 строк датафрейма', name)\n",
    "    display(df.tail())\n",
    "    print('_'*125)\n",
    "    \n",
    "    print('Информация о датафрейме', name)\n",
    "    df.info()\n",
    "    print('_'*125)\n",
    "        \n",
    "    print('Описание датафрейма', name)\n",
    "    display(df.describe().T)\n",
    "    print('_'*125)\n",
    "    \n",
    "    print('Количество явных дубликатов в датафрейте', name, ':', df.duplicated().sum())\n",
    "    print('Количество пропусков в датафрейте', name, ':', '\\n', df.isna().sum())\n",
    "    \n",
    "    print('*'*125)"
   ]
  },
  {
   "cell_type": "code",
   "execution_count": 5,
   "metadata": {},
   "outputs": [],
   "source": [
    "#Объявим константы\n",
    "\n",
    "RANDOM_STATE = 42"
   ]
  },
  {
   "cell_type": "code",
   "execution_count": 6,
   "metadata": {
    "scrolled": false
   },
   "outputs": [
    {
     "name": "stdout",
     "output_type": "stream",
     "text": [
      "размер датафрейма data : (354369, 16)\n",
      "_____________________________________________________________________________________________________________________________\n",
      "Первые 5 строк датафрейма data\n"
     ]
    },
    {
     "data": {
      "text/html": [
       "<div>\n",
       "<style scoped>\n",
       "    .dataframe tbody tr th:only-of-type {\n",
       "        vertical-align: middle;\n",
       "    }\n",
       "\n",
       "    .dataframe tbody tr th {\n",
       "        vertical-align: top;\n",
       "    }\n",
       "\n",
       "    .dataframe thead th {\n",
       "        text-align: right;\n",
       "    }\n",
       "</style>\n",
       "<table border=\"1\" class=\"dataframe\">\n",
       "  <thead>\n",
       "    <tr style=\"text-align: right;\">\n",
       "      <th></th>\n",
       "      <th>DateCrawled</th>\n",
       "      <th>Price</th>\n",
       "      <th>VehicleType</th>\n",
       "      <th>RegistrationYear</th>\n",
       "      <th>Gearbox</th>\n",
       "      <th>Power</th>\n",
       "      <th>Model</th>\n",
       "      <th>Kilometer</th>\n",
       "      <th>RegistrationMonth</th>\n",
       "      <th>FuelType</th>\n",
       "      <th>Brand</th>\n",
       "      <th>Repaired</th>\n",
       "      <th>DateCreated</th>\n",
       "      <th>NumberOfPictures</th>\n",
       "      <th>PostalCode</th>\n",
       "      <th>LastSeen</th>\n",
       "    </tr>\n",
       "  </thead>\n",
       "  <tbody>\n",
       "    <tr>\n",
       "      <th>0</th>\n",
       "      <td>2016-03-24 11:52:17</td>\n",
       "      <td>480</td>\n",
       "      <td>NaN</td>\n",
       "      <td>1993</td>\n",
       "      <td>manual</td>\n",
       "      <td>0</td>\n",
       "      <td>golf</td>\n",
       "      <td>150000</td>\n",
       "      <td>0</td>\n",
       "      <td>petrol</td>\n",
       "      <td>volkswagen</td>\n",
       "      <td>NaN</td>\n",
       "      <td>2016-03-24 00:00:00</td>\n",
       "      <td>0</td>\n",
       "      <td>70435</td>\n",
       "      <td>2016-04-07 03:16:57</td>\n",
       "    </tr>\n",
       "    <tr>\n",
       "      <th>1</th>\n",
       "      <td>2016-03-24 10:58:45</td>\n",
       "      <td>18300</td>\n",
       "      <td>coupe</td>\n",
       "      <td>2011</td>\n",
       "      <td>manual</td>\n",
       "      <td>190</td>\n",
       "      <td>NaN</td>\n",
       "      <td>125000</td>\n",
       "      <td>5</td>\n",
       "      <td>gasoline</td>\n",
       "      <td>audi</td>\n",
       "      <td>yes</td>\n",
       "      <td>2016-03-24 00:00:00</td>\n",
       "      <td>0</td>\n",
       "      <td>66954</td>\n",
       "      <td>2016-04-07 01:46:50</td>\n",
       "    </tr>\n",
       "    <tr>\n",
       "      <th>2</th>\n",
       "      <td>2016-03-14 12:52:21</td>\n",
       "      <td>9800</td>\n",
       "      <td>suv</td>\n",
       "      <td>2004</td>\n",
       "      <td>auto</td>\n",
       "      <td>163</td>\n",
       "      <td>grand</td>\n",
       "      <td>125000</td>\n",
       "      <td>8</td>\n",
       "      <td>gasoline</td>\n",
       "      <td>jeep</td>\n",
       "      <td>NaN</td>\n",
       "      <td>2016-03-14 00:00:00</td>\n",
       "      <td>0</td>\n",
       "      <td>90480</td>\n",
       "      <td>2016-04-05 12:47:46</td>\n",
       "    </tr>\n",
       "    <tr>\n",
       "      <th>3</th>\n",
       "      <td>2016-03-17 16:54:04</td>\n",
       "      <td>1500</td>\n",
       "      <td>small</td>\n",
       "      <td>2001</td>\n",
       "      <td>manual</td>\n",
       "      <td>75</td>\n",
       "      <td>golf</td>\n",
       "      <td>150000</td>\n",
       "      <td>6</td>\n",
       "      <td>petrol</td>\n",
       "      <td>volkswagen</td>\n",
       "      <td>no</td>\n",
       "      <td>2016-03-17 00:00:00</td>\n",
       "      <td>0</td>\n",
       "      <td>91074</td>\n",
       "      <td>2016-03-17 17:40:17</td>\n",
       "    </tr>\n",
       "    <tr>\n",
       "      <th>4</th>\n",
       "      <td>2016-03-31 17:25:20</td>\n",
       "      <td>3600</td>\n",
       "      <td>small</td>\n",
       "      <td>2008</td>\n",
       "      <td>manual</td>\n",
       "      <td>69</td>\n",
       "      <td>fabia</td>\n",
       "      <td>90000</td>\n",
       "      <td>7</td>\n",
       "      <td>gasoline</td>\n",
       "      <td>skoda</td>\n",
       "      <td>no</td>\n",
       "      <td>2016-03-31 00:00:00</td>\n",
       "      <td>0</td>\n",
       "      <td>60437</td>\n",
       "      <td>2016-04-06 10:17:21</td>\n",
       "    </tr>\n",
       "  </tbody>\n",
       "</table>\n",
       "</div>"
      ],
      "text/plain": [
       "           DateCrawled  Price VehicleType  RegistrationYear Gearbox  Power  \\\n",
       "0  2016-03-24 11:52:17    480         NaN              1993  manual      0   \n",
       "1  2016-03-24 10:58:45  18300       coupe              2011  manual    190   \n",
       "2  2016-03-14 12:52:21   9800         suv              2004    auto    163   \n",
       "3  2016-03-17 16:54:04   1500       small              2001  manual     75   \n",
       "4  2016-03-31 17:25:20   3600       small              2008  manual     69   \n",
       "\n",
       "   Model  Kilometer  RegistrationMonth  FuelType       Brand Repaired  \\\n",
       "0   golf     150000                  0    petrol  volkswagen      NaN   \n",
       "1    NaN     125000                  5  gasoline        audi      yes   \n",
       "2  grand     125000                  8  gasoline        jeep      NaN   \n",
       "3   golf     150000                  6    petrol  volkswagen       no   \n",
       "4  fabia      90000                  7  gasoline       skoda       no   \n",
       "\n",
       "           DateCreated  NumberOfPictures  PostalCode             LastSeen  \n",
       "0  2016-03-24 00:00:00                 0       70435  2016-04-07 03:16:57  \n",
       "1  2016-03-24 00:00:00                 0       66954  2016-04-07 01:46:50  \n",
       "2  2016-03-14 00:00:00                 0       90480  2016-04-05 12:47:46  \n",
       "3  2016-03-17 00:00:00                 0       91074  2016-03-17 17:40:17  \n",
       "4  2016-03-31 00:00:00                 0       60437  2016-04-06 10:17:21  "
      ]
     },
     "metadata": {},
     "output_type": "display_data"
    },
    {
     "name": "stdout",
     "output_type": "stream",
     "text": [
      "_____________________________________________________________________________________________________________________________\n",
      "Последнии 5 строк датафрейма data\n"
     ]
    },
    {
     "data": {
      "text/html": [
       "<div>\n",
       "<style scoped>\n",
       "    .dataframe tbody tr th:only-of-type {\n",
       "        vertical-align: middle;\n",
       "    }\n",
       "\n",
       "    .dataframe tbody tr th {\n",
       "        vertical-align: top;\n",
       "    }\n",
       "\n",
       "    .dataframe thead th {\n",
       "        text-align: right;\n",
       "    }\n",
       "</style>\n",
       "<table border=\"1\" class=\"dataframe\">\n",
       "  <thead>\n",
       "    <tr style=\"text-align: right;\">\n",
       "      <th></th>\n",
       "      <th>DateCrawled</th>\n",
       "      <th>Price</th>\n",
       "      <th>VehicleType</th>\n",
       "      <th>RegistrationYear</th>\n",
       "      <th>Gearbox</th>\n",
       "      <th>Power</th>\n",
       "      <th>Model</th>\n",
       "      <th>Kilometer</th>\n",
       "      <th>RegistrationMonth</th>\n",
       "      <th>FuelType</th>\n",
       "      <th>Brand</th>\n",
       "      <th>Repaired</th>\n",
       "      <th>DateCreated</th>\n",
       "      <th>NumberOfPictures</th>\n",
       "      <th>PostalCode</th>\n",
       "      <th>LastSeen</th>\n",
       "    </tr>\n",
       "  </thead>\n",
       "  <tbody>\n",
       "    <tr>\n",
       "      <th>354364</th>\n",
       "      <td>2016-03-21 09:50:58</td>\n",
       "      <td>0</td>\n",
       "      <td>NaN</td>\n",
       "      <td>2005</td>\n",
       "      <td>manual</td>\n",
       "      <td>0</td>\n",
       "      <td>colt</td>\n",
       "      <td>150000</td>\n",
       "      <td>7</td>\n",
       "      <td>petrol</td>\n",
       "      <td>mitsubishi</td>\n",
       "      <td>yes</td>\n",
       "      <td>2016-03-21 00:00:00</td>\n",
       "      <td>0</td>\n",
       "      <td>2694</td>\n",
       "      <td>2016-03-21 10:42:49</td>\n",
       "    </tr>\n",
       "    <tr>\n",
       "      <th>354365</th>\n",
       "      <td>2016-03-14 17:48:27</td>\n",
       "      <td>2200</td>\n",
       "      <td>NaN</td>\n",
       "      <td>2005</td>\n",
       "      <td>NaN</td>\n",
       "      <td>0</td>\n",
       "      <td>NaN</td>\n",
       "      <td>20000</td>\n",
       "      <td>1</td>\n",
       "      <td>NaN</td>\n",
       "      <td>sonstige_autos</td>\n",
       "      <td>NaN</td>\n",
       "      <td>2016-03-14 00:00:00</td>\n",
       "      <td>0</td>\n",
       "      <td>39576</td>\n",
       "      <td>2016-04-06 00:46:52</td>\n",
       "    </tr>\n",
       "    <tr>\n",
       "      <th>354366</th>\n",
       "      <td>2016-03-05 19:56:21</td>\n",
       "      <td>1199</td>\n",
       "      <td>convertible</td>\n",
       "      <td>2000</td>\n",
       "      <td>auto</td>\n",
       "      <td>101</td>\n",
       "      <td>fortwo</td>\n",
       "      <td>125000</td>\n",
       "      <td>3</td>\n",
       "      <td>petrol</td>\n",
       "      <td>smart</td>\n",
       "      <td>no</td>\n",
       "      <td>2016-03-05 00:00:00</td>\n",
       "      <td>0</td>\n",
       "      <td>26135</td>\n",
       "      <td>2016-03-11 18:17:12</td>\n",
       "    </tr>\n",
       "    <tr>\n",
       "      <th>354367</th>\n",
       "      <td>2016-03-19 18:57:12</td>\n",
       "      <td>9200</td>\n",
       "      <td>bus</td>\n",
       "      <td>1996</td>\n",
       "      <td>manual</td>\n",
       "      <td>102</td>\n",
       "      <td>transporter</td>\n",
       "      <td>150000</td>\n",
       "      <td>3</td>\n",
       "      <td>gasoline</td>\n",
       "      <td>volkswagen</td>\n",
       "      <td>no</td>\n",
       "      <td>2016-03-19 00:00:00</td>\n",
       "      <td>0</td>\n",
       "      <td>87439</td>\n",
       "      <td>2016-04-07 07:15:26</td>\n",
       "    </tr>\n",
       "    <tr>\n",
       "      <th>354368</th>\n",
       "      <td>2016-03-20 19:41:08</td>\n",
       "      <td>3400</td>\n",
       "      <td>wagon</td>\n",
       "      <td>2002</td>\n",
       "      <td>manual</td>\n",
       "      <td>100</td>\n",
       "      <td>golf</td>\n",
       "      <td>150000</td>\n",
       "      <td>6</td>\n",
       "      <td>gasoline</td>\n",
       "      <td>volkswagen</td>\n",
       "      <td>NaN</td>\n",
       "      <td>2016-03-20 00:00:00</td>\n",
       "      <td>0</td>\n",
       "      <td>40764</td>\n",
       "      <td>2016-03-24 12:45:21</td>\n",
       "    </tr>\n",
       "  </tbody>\n",
       "</table>\n",
       "</div>"
      ],
      "text/plain": [
       "                DateCrawled  Price  VehicleType  RegistrationYear Gearbox  \\\n",
       "354364  2016-03-21 09:50:58      0          NaN              2005  manual   \n",
       "354365  2016-03-14 17:48:27   2200          NaN              2005     NaN   \n",
       "354366  2016-03-05 19:56:21   1199  convertible              2000    auto   \n",
       "354367  2016-03-19 18:57:12   9200          bus              1996  manual   \n",
       "354368  2016-03-20 19:41:08   3400        wagon              2002  manual   \n",
       "\n",
       "        Power        Model  Kilometer  RegistrationMonth  FuelType  \\\n",
       "354364      0         colt     150000                  7    petrol   \n",
       "354365      0          NaN      20000                  1       NaN   \n",
       "354366    101       fortwo     125000                  3    petrol   \n",
       "354367    102  transporter     150000                  3  gasoline   \n",
       "354368    100         golf     150000                  6  gasoline   \n",
       "\n",
       "                 Brand Repaired          DateCreated  NumberOfPictures  \\\n",
       "354364      mitsubishi      yes  2016-03-21 00:00:00                 0   \n",
       "354365  sonstige_autos      NaN  2016-03-14 00:00:00                 0   \n",
       "354366           smart       no  2016-03-05 00:00:00                 0   \n",
       "354367      volkswagen       no  2016-03-19 00:00:00                 0   \n",
       "354368      volkswagen      NaN  2016-03-20 00:00:00                 0   \n",
       "\n",
       "        PostalCode             LastSeen  \n",
       "354364        2694  2016-03-21 10:42:49  \n",
       "354365       39576  2016-04-06 00:46:52  \n",
       "354366       26135  2016-03-11 18:17:12  \n",
       "354367       87439  2016-04-07 07:15:26  \n",
       "354368       40764  2016-03-24 12:45:21  "
      ]
     },
     "metadata": {},
     "output_type": "display_data"
    },
    {
     "name": "stdout",
     "output_type": "stream",
     "text": [
      "_____________________________________________________________________________________________________________________________\n",
      "Информация о датафрейме data\n",
      "<class 'pandas.core.frame.DataFrame'>\n",
      "RangeIndex: 354369 entries, 0 to 354368\n",
      "Data columns (total 16 columns):\n",
      " #   Column             Non-Null Count   Dtype \n",
      "---  ------             --------------   ----- \n",
      " 0   DateCrawled        354369 non-null  object\n",
      " 1   Price              354369 non-null  int64 \n",
      " 2   VehicleType        316879 non-null  object\n",
      " 3   RegistrationYear   354369 non-null  int64 \n",
      " 4   Gearbox            334536 non-null  object\n",
      " 5   Power              354369 non-null  int64 \n",
      " 6   Model              334664 non-null  object\n",
      " 7   Kilometer          354369 non-null  int64 \n",
      " 8   RegistrationMonth  354369 non-null  int64 \n",
      " 9   FuelType           321474 non-null  object\n",
      " 10  Brand              354369 non-null  object\n",
      " 11  Repaired           283215 non-null  object\n",
      " 12  DateCreated        354369 non-null  object\n",
      " 13  NumberOfPictures   354369 non-null  int64 \n",
      " 14  PostalCode         354369 non-null  int64 \n",
      " 15  LastSeen           354369 non-null  object\n",
      "dtypes: int64(7), object(9)\n",
      "memory usage: 43.3+ MB\n",
      "_____________________________________________________________________________________________________________________________\n",
      "Описание датафрейма data\n"
     ]
    },
    {
     "data": {
      "text/html": [
       "<div>\n",
       "<style scoped>\n",
       "    .dataframe tbody tr th:only-of-type {\n",
       "        vertical-align: middle;\n",
       "    }\n",
       "\n",
       "    .dataframe tbody tr th {\n",
       "        vertical-align: top;\n",
       "    }\n",
       "\n",
       "    .dataframe thead th {\n",
       "        text-align: right;\n",
       "    }\n",
       "</style>\n",
       "<table border=\"1\" class=\"dataframe\">\n",
       "  <thead>\n",
       "    <tr style=\"text-align: right;\">\n",
       "      <th></th>\n",
       "      <th>count</th>\n",
       "      <th>mean</th>\n",
       "      <th>std</th>\n",
       "      <th>min</th>\n",
       "      <th>25%</th>\n",
       "      <th>50%</th>\n",
       "      <th>75%</th>\n",
       "      <th>max</th>\n",
       "    </tr>\n",
       "  </thead>\n",
       "  <tbody>\n",
       "    <tr>\n",
       "      <th>Price</th>\n",
       "      <td>354369.0</td>\n",
       "      <td>4416.656776</td>\n",
       "      <td>4514.158514</td>\n",
       "      <td>0.0</td>\n",
       "      <td>1050.0</td>\n",
       "      <td>2700.0</td>\n",
       "      <td>6400.0</td>\n",
       "      <td>20000.0</td>\n",
       "    </tr>\n",
       "    <tr>\n",
       "      <th>RegistrationYear</th>\n",
       "      <td>354369.0</td>\n",
       "      <td>2004.234448</td>\n",
       "      <td>90.227958</td>\n",
       "      <td>1000.0</td>\n",
       "      <td>1999.0</td>\n",
       "      <td>2003.0</td>\n",
       "      <td>2008.0</td>\n",
       "      <td>9999.0</td>\n",
       "    </tr>\n",
       "    <tr>\n",
       "      <th>Power</th>\n",
       "      <td>354369.0</td>\n",
       "      <td>110.094337</td>\n",
       "      <td>189.850405</td>\n",
       "      <td>0.0</td>\n",
       "      <td>69.0</td>\n",
       "      <td>105.0</td>\n",
       "      <td>143.0</td>\n",
       "      <td>20000.0</td>\n",
       "    </tr>\n",
       "    <tr>\n",
       "      <th>Kilometer</th>\n",
       "      <td>354369.0</td>\n",
       "      <td>128211.172535</td>\n",
       "      <td>37905.341530</td>\n",
       "      <td>5000.0</td>\n",
       "      <td>125000.0</td>\n",
       "      <td>150000.0</td>\n",
       "      <td>150000.0</td>\n",
       "      <td>150000.0</td>\n",
       "    </tr>\n",
       "    <tr>\n",
       "      <th>RegistrationMonth</th>\n",
       "      <td>354369.0</td>\n",
       "      <td>5.714645</td>\n",
       "      <td>3.726421</td>\n",
       "      <td>0.0</td>\n",
       "      <td>3.0</td>\n",
       "      <td>6.0</td>\n",
       "      <td>9.0</td>\n",
       "      <td>12.0</td>\n",
       "    </tr>\n",
       "    <tr>\n",
       "      <th>NumberOfPictures</th>\n",
       "      <td>354369.0</td>\n",
       "      <td>0.000000</td>\n",
       "      <td>0.000000</td>\n",
       "      <td>0.0</td>\n",
       "      <td>0.0</td>\n",
       "      <td>0.0</td>\n",
       "      <td>0.0</td>\n",
       "      <td>0.0</td>\n",
       "    </tr>\n",
       "    <tr>\n",
       "      <th>PostalCode</th>\n",
       "      <td>354369.0</td>\n",
       "      <td>50508.689087</td>\n",
       "      <td>25783.096248</td>\n",
       "      <td>1067.0</td>\n",
       "      <td>30165.0</td>\n",
       "      <td>49413.0</td>\n",
       "      <td>71083.0</td>\n",
       "      <td>99998.0</td>\n",
       "    </tr>\n",
       "  </tbody>\n",
       "</table>\n",
       "</div>"
      ],
      "text/plain": [
       "                      count           mean           std     min       25%  \\\n",
       "Price              354369.0    4416.656776   4514.158514     0.0    1050.0   \n",
       "RegistrationYear   354369.0    2004.234448     90.227958  1000.0    1999.0   \n",
       "Power              354369.0     110.094337    189.850405     0.0      69.0   \n",
       "Kilometer          354369.0  128211.172535  37905.341530  5000.0  125000.0   \n",
       "RegistrationMonth  354369.0       5.714645      3.726421     0.0       3.0   \n",
       "NumberOfPictures   354369.0       0.000000      0.000000     0.0       0.0   \n",
       "PostalCode         354369.0   50508.689087  25783.096248  1067.0   30165.0   \n",
       "\n",
       "                        50%       75%       max  \n",
       "Price                2700.0    6400.0   20000.0  \n",
       "RegistrationYear     2003.0    2008.0    9999.0  \n",
       "Power                 105.0     143.0   20000.0  \n",
       "Kilometer          150000.0  150000.0  150000.0  \n",
       "RegistrationMonth       6.0       9.0      12.0  \n",
       "NumberOfPictures        0.0       0.0       0.0  \n",
       "PostalCode          49413.0   71083.0   99998.0  "
      ]
     },
     "metadata": {},
     "output_type": "display_data"
    },
    {
     "name": "stdout",
     "output_type": "stream",
     "text": [
      "_____________________________________________________________________________________________________________________________\n",
      "Количество явных дубликатов в датафрейте data : 4\n",
      "Количество пропусков в датафрейте data : \n",
      " DateCrawled              0\n",
      "Price                    0\n",
      "VehicleType          37490\n",
      "RegistrationYear         0\n",
      "Gearbox              19833\n",
      "Power                    0\n",
      "Model                19705\n",
      "Kilometer                0\n",
      "RegistrationMonth        0\n",
      "FuelType             32895\n",
      "Brand                    0\n",
      "Repaired             71154\n",
      "DateCreated              0\n",
      "NumberOfPictures         0\n",
      "PostalCode               0\n",
      "LastSeen                 0\n",
      "dtype: int64\n",
      "*****************************************************************************************************************************\n"
     ]
    }
   ],
   "source": [
    "#Вызовем функцию для датасета 'data'\n",
    "describe_df(data, 'data')"
   ]
  },
  {
   "cell_type": "code",
   "execution_count": 7,
   "metadata": {},
   "outputs": [
    {
     "data": {
      "text/html": [
       "<div>\n",
       "<style scoped>\n",
       "    .dataframe tbody tr th:only-of-type {\n",
       "        vertical-align: middle;\n",
       "    }\n",
       "\n",
       "    .dataframe tbody tr th {\n",
       "        vertical-align: top;\n",
       "    }\n",
       "\n",
       "    .dataframe thead th {\n",
       "        text-align: right;\n",
       "    }\n",
       "</style>\n",
       "<table border=\"1\" class=\"dataframe\">\n",
       "  <thead>\n",
       "    <tr style=\"text-align: right;\">\n",
       "      <th></th>\n",
       "      <th>DateCrawled</th>\n",
       "      <th>Price</th>\n",
       "      <th>VehicleType</th>\n",
       "      <th>RegistrationYear</th>\n",
       "      <th>Gearbox</th>\n",
       "      <th>Power</th>\n",
       "      <th>Model</th>\n",
       "      <th>Kilometer</th>\n",
       "      <th>RegistrationMonth</th>\n",
       "      <th>FuelType</th>\n",
       "      <th>Brand</th>\n",
       "      <th>Repaired</th>\n",
       "      <th>DateCreated</th>\n",
       "      <th>NumberOfPictures</th>\n",
       "      <th>PostalCode</th>\n",
       "      <th>LastSeen</th>\n",
       "    </tr>\n",
       "  </thead>\n",
       "  <tbody>\n",
       "    <tr>\n",
       "      <th>0</th>\n",
       "      <td>2016-03-24 11:52:17</td>\n",
       "      <td>480</td>\n",
       "      <td>NaN</td>\n",
       "      <td>1993</td>\n",
       "      <td>manual</td>\n",
       "      <td>0</td>\n",
       "      <td>golf</td>\n",
       "      <td>150000</td>\n",
       "      <td>0</td>\n",
       "      <td>petrol</td>\n",
       "      <td>volkswagen</td>\n",
       "      <td>NaN</td>\n",
       "      <td>2016-03-24 00:00:00</td>\n",
       "      <td>0</td>\n",
       "      <td>70435</td>\n",
       "      <td>2016-04-07 03:16:57</td>\n",
       "    </tr>\n",
       "    <tr>\n",
       "      <th>1</th>\n",
       "      <td>2016-03-24 10:58:45</td>\n",
       "      <td>18300</td>\n",
       "      <td>coupe</td>\n",
       "      <td>2011</td>\n",
       "      <td>manual</td>\n",
       "      <td>190</td>\n",
       "      <td>NaN</td>\n",
       "      <td>125000</td>\n",
       "      <td>5</td>\n",
       "      <td>gasoline</td>\n",
       "      <td>audi</td>\n",
       "      <td>yes</td>\n",
       "      <td>2016-03-24 00:00:00</td>\n",
       "      <td>0</td>\n",
       "      <td>66954</td>\n",
       "      <td>2016-04-07 01:46:50</td>\n",
       "    </tr>\n",
       "    <tr>\n",
       "      <th>2</th>\n",
       "      <td>2016-03-14 12:52:21</td>\n",
       "      <td>9800</td>\n",
       "      <td>suv</td>\n",
       "      <td>2004</td>\n",
       "      <td>auto</td>\n",
       "      <td>163</td>\n",
       "      <td>grand</td>\n",
       "      <td>125000</td>\n",
       "      <td>8</td>\n",
       "      <td>gasoline</td>\n",
       "      <td>jeep</td>\n",
       "      <td>NaN</td>\n",
       "      <td>2016-03-14 00:00:00</td>\n",
       "      <td>0</td>\n",
       "      <td>90480</td>\n",
       "      <td>2016-04-05 12:47:46</td>\n",
       "    </tr>\n",
       "    <tr>\n",
       "      <th>3</th>\n",
       "      <td>2016-03-17 16:54:04</td>\n",
       "      <td>1500</td>\n",
       "      <td>small</td>\n",
       "      <td>2001</td>\n",
       "      <td>manual</td>\n",
       "      <td>75</td>\n",
       "      <td>golf</td>\n",
       "      <td>150000</td>\n",
       "      <td>6</td>\n",
       "      <td>petrol</td>\n",
       "      <td>volkswagen</td>\n",
       "      <td>no</td>\n",
       "      <td>2016-03-17 00:00:00</td>\n",
       "      <td>0</td>\n",
       "      <td>91074</td>\n",
       "      <td>2016-03-17 17:40:17</td>\n",
       "    </tr>\n",
       "    <tr>\n",
       "      <th>4</th>\n",
       "      <td>2016-03-31 17:25:20</td>\n",
       "      <td>3600</td>\n",
       "      <td>small</td>\n",
       "      <td>2008</td>\n",
       "      <td>manual</td>\n",
       "      <td>69</td>\n",
       "      <td>fabia</td>\n",
       "      <td>90000</td>\n",
       "      <td>7</td>\n",
       "      <td>gasoline</td>\n",
       "      <td>skoda</td>\n",
       "      <td>no</td>\n",
       "      <td>2016-03-31 00:00:00</td>\n",
       "      <td>0</td>\n",
       "      <td>60437</td>\n",
       "      <td>2016-04-06 10:17:21</td>\n",
       "    </tr>\n",
       "  </tbody>\n",
       "</table>\n",
       "</div>"
      ],
      "text/plain": [
       "           DateCrawled  Price VehicleType  RegistrationYear Gearbox  Power  \\\n",
       "0  2016-03-24 11:52:17    480         NaN              1993  manual      0   \n",
       "1  2016-03-24 10:58:45  18300       coupe              2011  manual    190   \n",
       "2  2016-03-14 12:52:21   9800         suv              2004    auto    163   \n",
       "3  2016-03-17 16:54:04   1500       small              2001  manual     75   \n",
       "4  2016-03-31 17:25:20   3600       small              2008  manual     69   \n",
       "\n",
       "   Model  Kilometer  RegistrationMonth  FuelType       Brand Repaired  \\\n",
       "0   golf     150000                  0    petrol  volkswagen      NaN   \n",
       "1    NaN     125000                  5  gasoline        audi      yes   \n",
       "2  grand     125000                  8  gasoline        jeep      NaN   \n",
       "3   golf     150000                  6    petrol  volkswagen       no   \n",
       "4  fabia      90000                  7  gasoline       skoda       no   \n",
       "\n",
       "           DateCreated  NumberOfPictures  PostalCode             LastSeen  \n",
       "0  2016-03-24 00:00:00                 0       70435  2016-04-07 03:16:57  \n",
       "1  2016-03-24 00:00:00                 0       66954  2016-04-07 01:46:50  \n",
       "2  2016-03-14 00:00:00                 0       90480  2016-04-05 12:47:46  \n",
       "3  2016-03-17 00:00:00                 0       91074  2016-03-17 17:40:17  \n",
       "4  2016-03-31 00:00:00                 0       60437  2016-04-06 10:17:21  "
      ]
     },
     "execution_count": 7,
     "metadata": {},
     "output_type": "execute_result"
    }
   ],
   "source": [
    "data.head()"
   ]
  },
  {
   "cell_type": "markdown",
   "metadata": {},
   "source": [
    "Среди признаков имеются неинформативные:\n",
    "- **DateCrawled** — дата скачивания анкеты из базы\n",
    "- **RegistrationMonth** — месяц регистрации автомобиля\n",
    "- **DateCreated** — дата создания анкеты\n",
    "- **NumberOfPictures** — количество фотографий автомобиля\n",
    "- **PostalCode** — почтовый индекс владельца анкеты (пользователя)\n",
    "- **LastSeen** — дата последней активности пользователя\n",
    "\n",
    "Удалим их"
   ]
  },
  {
   "cell_type": "code",
   "execution_count": 8,
   "metadata": {},
   "outputs": [
    {
     "data": {
      "text/html": [
       "<div>\n",
       "<style scoped>\n",
       "    .dataframe tbody tr th:only-of-type {\n",
       "        vertical-align: middle;\n",
       "    }\n",
       "\n",
       "    .dataframe tbody tr th {\n",
       "        vertical-align: top;\n",
       "    }\n",
       "\n",
       "    .dataframe thead th {\n",
       "        text-align: right;\n",
       "    }\n",
       "</style>\n",
       "<table border=\"1\" class=\"dataframe\">\n",
       "  <thead>\n",
       "    <tr style=\"text-align: right;\">\n",
       "      <th></th>\n",
       "      <th>Price</th>\n",
       "      <th>VehicleType</th>\n",
       "      <th>RegistrationYear</th>\n",
       "      <th>Gearbox</th>\n",
       "      <th>Power</th>\n",
       "      <th>Model</th>\n",
       "      <th>Kilometer</th>\n",
       "      <th>FuelType</th>\n",
       "      <th>Brand</th>\n",
       "      <th>Repaired</th>\n",
       "    </tr>\n",
       "  </thead>\n",
       "  <tbody>\n",
       "    <tr>\n",
       "      <th>0</th>\n",
       "      <td>480</td>\n",
       "      <td>NaN</td>\n",
       "      <td>1993</td>\n",
       "      <td>manual</td>\n",
       "      <td>0</td>\n",
       "      <td>golf</td>\n",
       "      <td>150000</td>\n",
       "      <td>petrol</td>\n",
       "      <td>volkswagen</td>\n",
       "      <td>NaN</td>\n",
       "    </tr>\n",
       "  </tbody>\n",
       "</table>\n",
       "</div>"
      ],
      "text/plain": [
       "   Price VehicleType  RegistrationYear Gearbox  Power Model  Kilometer  \\\n",
       "0    480         NaN              1993  manual      0  golf     150000   \n",
       "\n",
       "  FuelType       Brand Repaired  \n",
       "0   petrol  volkswagen      NaN  "
      ]
     },
     "execution_count": 8,
     "metadata": {},
     "output_type": "execute_result"
    }
   ],
   "source": [
    "data = data.drop(['DateCrawled', 'RegistrationMonth', 'DateCreated', 'NumberOfPictures', 'PostalCode', 'LastSeen'], axis=1)\n",
    "data.head(1)"
   ]
  },
  {
   "cell_type": "code",
   "execution_count": 9,
   "metadata": {},
   "outputs": [
    {
     "data": {
      "text/html": [
       "<div>\n",
       "<style scoped>\n",
       "    .dataframe tbody tr th:only-of-type {\n",
       "        vertical-align: middle;\n",
       "    }\n",
       "\n",
       "    .dataframe tbody tr th {\n",
       "        vertical-align: top;\n",
       "    }\n",
       "\n",
       "    .dataframe thead th {\n",
       "        text-align: right;\n",
       "    }\n",
       "</style>\n",
       "<table border=\"1\" class=\"dataframe\">\n",
       "  <thead>\n",
       "    <tr style=\"text-align: right;\">\n",
       "      <th></th>\n",
       "      <th>price</th>\n",
       "      <th>vehicle_type</th>\n",
       "      <th>registration_year</th>\n",
       "      <th>gearbox</th>\n",
       "      <th>power</th>\n",
       "      <th>model</th>\n",
       "      <th>kilometer</th>\n",
       "      <th>fuel_type</th>\n",
       "      <th>brand</th>\n",
       "      <th>repaired</th>\n",
       "    </tr>\n",
       "  </thead>\n",
       "  <tbody>\n",
       "    <tr>\n",
       "      <th>0</th>\n",
       "      <td>480</td>\n",
       "      <td>NaN</td>\n",
       "      <td>1993</td>\n",
       "      <td>manual</td>\n",
       "      <td>0</td>\n",
       "      <td>golf</td>\n",
       "      <td>150000</td>\n",
       "      <td>petrol</td>\n",
       "      <td>volkswagen</td>\n",
       "      <td>NaN</td>\n",
       "    </tr>\n",
       "  </tbody>\n",
       "</table>\n",
       "</div>"
      ],
      "text/plain": [
       "   price vehicle_type  registration_year gearbox  power model  kilometer  \\\n",
       "0    480          NaN               1993  manual      0  golf     150000   \n",
       "\n",
       "  fuel_type       brand repaired  \n",
       "0    petrol  volkswagen      NaN  "
      ]
     },
     "execution_count": 9,
     "metadata": {},
     "output_type": "execute_result"
    }
   ],
   "source": [
    "# Приведем название столбцов в единому стилю написания snake_case\n",
    "\n",
    "data = data.rename(columns={'VehicleType':'vehicle_type', \n",
    "                        'RegistrationYear':'registration_year', \n",
    "                        'Gearbox':'gearbox', \n",
    "                        'Power':'power', \n",
    "                        'Model':'model', \n",
    "                        'Kilometer':'kilometer',\n",
    "                        'FuelType': 'fuel_type',\n",
    "                        'Brand':'brand',\n",
    "                        'Repaired':'repaired',\n",
    "                        'Price':'price'})\n",
    "\n",
    "data.head(1)"
   ]
  },
  {
   "cell_type": "code",
   "execution_count": 10,
   "metadata": {},
   "outputs": [
    {
     "name": "stdout",
     "output_type": "stream",
     "text": [
      "Количество дубликатов: 45040\n",
      "Доля дубликатов, составляет: 0.1270991537070116\n"
     ]
    }
   ],
   "source": [
    "#Посчитаем сколько появилось дубликатов, после удаления неинформативных столбцов\n",
    "\n",
    "print('Количество дубликатов:', data.duplicated().sum())\n",
    "print('Доля дубликатов, составляет:', data.duplicated().sum()/data.shape[0])"
   ]
  },
  {
   "cell_type": "markdown",
   "metadata": {},
   "source": [
    "После удаления неинформативных признаков, количество явных дубликатов увеличилось с 4 до 45 000. Это вполне логично, ведь цена на автомобиль, не зависит от почтового индекса владельца или дата скачивания анкеты из базы. "
   ]
  },
  {
   "cell_type": "code",
   "execution_count": 11,
   "metadata": {},
   "outputs": [
    {
     "data": {
      "text/plain": [
       "0"
      ]
     },
     "execution_count": 11,
     "metadata": {},
     "output_type": "execute_result"
    }
   ],
   "source": [
    "# В удалим явные дубликаты\n",
    "\n",
    "data.drop_duplicates(inplace=True)  \n",
    "data.duplicated().sum()"
   ]
  },
  {
   "cell_type": "markdown",
   "metadata": {},
   "source": [
    "#### Вывод по предобработке данных\n",
    "\n",
    "Данные в таблицах соответствуют описанию.\n",
    "\n",
    "На этапе предобработки данных:\n",
    "- удалили неинформативные признаки\n",
    "- привели название столбцов в единому стилю написания snake_case\n",
    "- удалили явные дубликаты\n",
    "- убедились, что типы столбцов указаны верно\n",
    "\n",
    "В данных есть пропуски, проработаем их на этапе исследовательского анализа данных\n"
   ]
  },
  {
   "cell_type": "markdown",
   "metadata": {},
   "source": [
    "### Исследовательский анализ данных"
   ]
  },
  {
   "cell_type": "code",
   "execution_count": 12,
   "metadata": {},
   "outputs": [],
   "source": [
    "# В целях оптимизации, напишем функцию для получения общей информации о столбце\n",
    "def describe_column(df, column):\n",
    "    print('Количество строк',  ':', df[column].shape[0])\n",
    "    print('_'*125)\n",
    "        \n",
    "    print('Описание данных')\n",
    "    display(df[column].describe().T)\n",
    "    print('_'*125)\n",
    "    \n",
    "    print('Количество уникальных значений:', df[column].unique().shape[0])\n",
    "    print('Количество пропусков в датафрейте', df[column].isna().sum())\n",
    "    print('_'*125)\n",
    "    \n",
    "    if type(df[column].loc[1]) == str:\n",
    "        print('Уникальные значения')\n",
    "        print(df[column].value_counts())\n",
    "    \n",
    "    print('*'*125)"
   ]
  },
  {
   "cell_type": "code",
   "execution_count": 13,
   "metadata": {},
   "outputs": [],
   "source": [
    "# Напишем функцию построения гистограммы и диграммы размаха для количественных данных\n",
    "def hix_box_plot(df, column):\n",
    "    fig, ax = plt.subplots(nrows=1, ncols=2, figsize=(16,6))\n",
    "    fig.suptitle(f'Обзор данных {column}', fontsize = 20, fontweight='bold')\n",
    "    \n",
    "    df[column].plot(ax=ax[0], kind='hist')\n",
    "     \n",
    "    sns.boxplot(df[column], ax=ax[1])\n",
    "    \n",
    "    ax[0].set_title('Гистограмма')\n",
    "    ax[0].set_xlabel(column)\n",
    "    \n",
    "    ax[1].set_title('Диграмма размаха')\n",
    "    ax[1].set_xlabel(column)"
   ]
  },
  {
   "cell_type": "code",
   "execution_count": 14,
   "metadata": {},
   "outputs": [],
   "source": [
    "# Напишем функцию построения графика для категориальных данных\n",
    "\n",
    "def bar_pie_plot(df, column):\n",
    "\n",
    "    fig, ax = plt.subplots(nrows=1, ncols=2, figsize=(16,6))\n",
    "    fig.suptitle(f'Обзор данных {column}', fontsize = 20, fontweight='bold')\n",
    "    \n",
    "    df.groupby(column)[column].count().plot(ax=ax[0], kind='bar')\n",
    "    \n",
    "    df.groupby(column)[column].count().plot(ax=ax[1], kind='pie', autopct='%1.0f%%')\n",
    "    \n",
    "        \n",
    "    ax[0].set_title(f'Количественная диограмма')\n",
    "    ax[1].set_title(f'Круговая диограмма')\n",
    "    \n",
    "    \n",
    "    ax[0].tick_params(axis='x', labelrotation=90, labelsize = 15) \n",
    "    ax[1].set_ylabel('')"
   ]
  },
  {
   "cell_type": "markdown",
   "metadata": {},
   "source": [
    "#### price — цена (евро)"
   ]
  },
  {
   "cell_type": "code",
   "execution_count": 15,
   "metadata": {},
   "outputs": [
    {
     "name": "stdout",
     "output_type": "stream",
     "text": [
      "Количество строк : 309329\n",
      "_____________________________________________________________________________________________________________________________\n",
      "Описание данных\n"
     ]
    },
    {
     "data": {
      "text/plain": [
       "count    309329.000000\n",
       "mean       4486.937196\n",
       "std        4564.852796\n",
       "min           0.000000\n",
       "25%        1100.000000\n",
       "50%        2800.000000\n",
       "75%        6500.000000\n",
       "max       20000.000000\n",
       "Name: price, dtype: float64"
      ]
     },
     "metadata": {},
     "output_type": "display_data"
    },
    {
     "name": "stdout",
     "output_type": "stream",
     "text": [
      "_____________________________________________________________________________________________________________________________\n",
      "Количество уникальных значений: 3731\n",
      "Количество пропусков в датафрейте 0\n",
      "_____________________________________________________________________________________________________________________________\n",
      "*****************************************************************************************************************************\n"
     ]
    }
   ],
   "source": [
    "#Выведем общую информацую \n",
    "describe_column(data,'price')"
   ]
  },
  {
   "cell_type": "markdown",
   "metadata": {},
   "source": [
    "Видим, что есть автомобили, которые отдают бесплатно. Посчитаем их количество"
   ]
  },
  {
   "cell_type": "code",
   "execution_count": 16,
   "metadata": {},
   "outputs": [
    {
     "name": "stdout",
     "output_type": "stream",
     "text": [
      "Количество бесплатных автомобилей, составляет: 8904\n",
      "Доля бесплатных автомобилей, составляет: 0.028784885995170192\n"
     ]
    }
   ],
   "source": [
    "#бесплатные автомобили\n",
    "print('Количество бесплатных автомобилей, составляет:', data[data['price'] == 0].shape[0])\n",
    "print('Доля бесплатных автомобилей, составляет:', data[data['price'] == 0].shape[0]/data.shape[0])"
   ]
  },
  {
   "cell_type": "markdown",
   "metadata": {},
   "source": [
    "Процент автомобилей, которые отдают бесплатно достаточно высок (2,8 %). Но в этой категории могут быть как автомобили, совсем не пригодные к езде и чтобы не заморачиваться с утилизацией хозяин ее отдает на запчасти, либо хозяину интересен обмен автомобиля и он решил таким образом задать цену."
   ]
  },
  {
   "cell_type": "code",
   "execution_count": 17,
   "metadata": {},
   "outputs": [],
   "source": [
    "# Удалим бесплатные автомобили\n",
    "data = data[data['price'] > 0]"
   ]
  },
  {
   "cell_type": "code",
   "execution_count": 18,
   "metadata": {},
   "outputs": [
    {
     "name": "stderr",
     "output_type": "stream",
     "text": [
      "/opt/conda/lib/python3.9/site-packages/seaborn/_decorators.py:36: FutureWarning: Pass the following variable as a keyword arg: x. From version 0.12, the only valid positional argument will be `data`, and passing other arguments without an explicit keyword will result in an error or misinterpretation.\n",
      "  warnings.warn(\n"
     ]
    },
    {
     "data": {
      "image/png": "[encoded data removed]",
      "text/plain": [
       "<Figure size 1152x432 with 2 Axes>"
      ]
     },
     "metadata": {
      "needs_background": "light"
     },
     "output_type": "display_data"
    }
   ],
   "source": [
    "#Построим графики\n",
    "hix_box_plot(data,'price')"
   ]
  },
  {
   "cell_type": "code",
   "execution_count": 19,
   "metadata": {},
   "outputs": [
    {
     "name": "stdout",
     "output_type": "stream",
     "text": [
      "Количество выбросов, составляет: 13615\n",
      "Доля выбросов, составляет: 0.045319131230756426\n"
     ]
    }
   ],
   "source": [
    "#Процент выбросов в столбце price\n",
    "print('Количество выбросов, составляет:', data[data['price'] > 15000].shape[0])\n",
    "print('Доля выбросов, составляет:', data[data['price'] > 15000].shape[0]/data.shape[0])"
   ]
  },
  {
   "cell_type": "markdown",
   "metadata": {},
   "source": [
    "**Вывод** В столбце `Price — цена (евро)`, удалили автомобили, чья стоимость равняется нулю. В столбце так же остались выбросы (автомобили дороже 15000 евро). Данные значения реалистичны, поэтому на данном этапе удалять не будем"
   ]
  },
  {
   "cell_type": "markdown",
   "metadata": {},
   "source": [
    "#### vehicle_type — тип автомобильного кузова"
   ]
  },
  {
   "cell_type": "code",
   "execution_count": 20,
   "metadata": {},
   "outputs": [
    {
     "name": "stdout",
     "output_type": "stream",
     "text": [
      "Количество строк : 300425\n",
      "_____________________________________________________________________________________________________________________________\n",
      "Описание данных\n"
     ]
    },
    {
     "data": {
      "text/plain": [
       "count     268755\n",
       "unique         8\n",
       "top        sedan\n",
       "freq       76513\n",
       "Name: vehicle_type, dtype: object"
      ]
     },
     "metadata": {},
     "output_type": "display_data"
    },
    {
     "name": "stdout",
     "output_type": "stream",
     "text": [
      "_____________________________________________________________________________________________________________________________\n",
      "Количество уникальных значений: 9\n",
      "Количество пропусков в датафрейте 31670\n",
      "_____________________________________________________________________________________________________________________________\n",
      "Уникальные значения\n",
      "sedan          76513\n",
      "small          66008\n",
      "wagon          55081\n",
      "bus            25455\n",
      "convertible    17893\n",
      "coupe          14234\n",
      "suv            10596\n",
      "other           2975\n",
      "Name: vehicle_type, dtype: int64\n",
      "*****************************************************************************************************************************\n"
     ]
    }
   ],
   "source": [
    "#Выведем общую информацую \n",
    "describe_column(data,'vehicle_type')"
   ]
  },
  {
   "cell_type": "markdown",
   "metadata": {},
   "source": [
    "В данных огромное количество пропусков, вводить для них отдельную категорию не вижу смысла, так как есть категория other. тип Для автомобилей где не указан тип кузова проставим категорию other.            "
   ]
  },
  {
   "cell_type": "code",
   "execution_count": 21,
   "metadata": {},
   "outputs": [],
   "source": [
    "# Заменим пропуски на other\n",
    "\n",
    "data.vehicle_type.fillna('other', inplace=True)"
   ]
  },
  {
   "cell_type": "code",
   "execution_count": 22,
   "metadata": {},
   "outputs": [
    {
     "data": {
      "image/png": "[encoded data removed]",
      "text/plain": [
       "<Figure size 1152x432 with 2 Axes>"
      ]
     },
     "metadata": {
      "needs_background": "light"
     },
     "output_type": "display_data"
    }
   ],
   "source": [
    "#Построим график \n",
    "bar_pie_plot(data, 'vehicle_type')"
   ]
  },
  {
   "cell_type": "markdown",
   "metadata": {},
   "source": [
    "**Вывод** В столбце `vehicle_type — тип автомобильного кузова`, пропущенные значения заменили на 'other'"
   ]
  },
  {
   "cell_type": "markdown",
   "metadata": {},
   "source": [
    "#### registration_year — год регистрации автомобиля"
   ]
  },
  {
   "cell_type": "code",
   "execution_count": 23,
   "metadata": {},
   "outputs": [
    {
     "name": "stdout",
     "output_type": "stream",
     "text": [
      "Количество строк : 300425\n",
      "_____________________________________________________________________________________________________________________________\n",
      "Описание данных\n"
     ]
    },
    {
     "data": {
      "text/plain": [
       "count    300425.000000\n",
       "mean       2004.244916\n",
       "std          83.004128\n",
       "min        1000.000000\n",
       "25%        1999.000000\n",
       "50%        2003.000000\n",
       "75%        2008.000000\n",
       "max        9999.000000\n",
       "Name: registration_year, dtype: float64"
      ]
     },
     "metadata": {},
     "output_type": "display_data"
    },
    {
     "name": "stdout",
     "output_type": "stream",
     "text": [
      "_____________________________________________________________________________________________________________________________\n",
      "Количество уникальных значений: 140\n",
      "Количество пропусков в датафрейте 0\n",
      "_____________________________________________________________________________________________________________________________\n",
      "*****************************************************************************************************************************\n"
     ]
    }
   ],
   "source": [
    "#Выведем общую информацую \n",
    "describe_column(data,'registration_year')"
   ]
  },
  {
   "cell_type": "code",
   "execution_count": 24,
   "metadata": {},
   "outputs": [
    {
     "name": "stderr",
     "output_type": "stream",
     "text": [
      "/opt/conda/lib/python3.9/site-packages/seaborn/_decorators.py:36: FutureWarning: Pass the following variable as a keyword arg: x. From version 0.12, the only valid positional argument will be `data`, and passing other arguments without an explicit keyword will result in an error or misinterpretation.\n",
      "  warnings.warn(\n"
     ]
    },
    {
     "data": {
      "image/png": "[encoded data removed]",
      "text/plain": [
       "<Figure size 1152x432 with 2 Axes>"
      ]
     },
     "metadata": {
      "needs_background": "light"
     },
     "output_type": "display_data"
    }
   ],
   "source": [
    "#Построим графики\n",
    "hix_box_plot(data,'registration_year')"
   ]
  },
  {
   "cell_type": "markdown",
   "metadata": {},
   "source": [
    "Поскольку в описании проекта не указано за какой период наши данные, будем ограничивать год 2023."
   ]
  },
  {
   "cell_type": "code",
   "execution_count": 25,
   "metadata": {},
   "outputs": [
    {
     "name": "stdout",
     "output_type": "stream",
     "text": [
      "Количество автомобилей выпущенных после 2023: 83\n",
      "Доля автомобилей выпущенных после 2023, составляет: 0.0002762752766913539\n"
     ]
    }
   ],
   "source": [
    "#Посчитаем сколько автомобилей зарегистрированных после 2023 года\n",
    "\n",
    "print('Количество автомобилей выпущенных после 2023:', data[data['registration_year'] > 2023].shape[0])\n",
    "print('Доля автомобилей выпущенных после 2023, составляет:', data[data['registration_year'] > 2023].shape[0]/data.shape[0])"
   ]
  },
  {
   "cell_type": "code",
   "execution_count": 26,
   "metadata": {},
   "outputs": [],
   "source": [
    "# Удалим автомобили зарегистрированные после 2023 года\n",
    "data = data[data['registration_year'] < 2023]"
   ]
  },
  {
   "cell_type": "code",
   "execution_count": 27,
   "metadata": {
    "scrolled": true
   },
   "outputs": [
    {
     "data": {
      "text/plain": [
       "[1000,\n",
       " 1001,\n",
       " 1039,\n",
       " 1111,\n",
       " 1234,\n",
       " 1255,\n",
       " 1300,\n",
       " 1400,\n",
       " 1500,\n",
       " 1600,\n",
       " 1602,\n",
       " 1800,\n",
       " 1910,\n",
       " 1923,\n",
       " 1925,\n",
       " 1927,\n",
       " 1928,\n",
       " 1929,\n",
       " 1930,\n",
       " 1931,\n",
       " 1932,\n",
       " 1933,\n",
       " 1934,\n",
       " 1935,\n",
       " 1936,\n",
       " 1937,\n",
       " 1938,\n",
       " 1940,\n",
       " 1941,\n",
       " 1942,\n",
       " 1943,\n",
       " 1944,\n",
       " 1945,\n",
       " 1946,\n",
       " 1947,\n",
       " 1948,\n",
       " 1949,\n",
       " 1950,\n",
       " 1951,\n",
       " 1952,\n",
       " 1953,\n",
       " 1954,\n",
       " 1955,\n",
       " 1956,\n",
       " 1957,\n",
       " 1958,\n",
       " 1959,\n",
       " 1960,\n",
       " 1961,\n",
       " 1962,\n",
       " 1963,\n",
       " 1964,\n",
       " 1965,\n",
       " 1966,\n",
       " 1967,\n",
       " 1968,\n",
       " 1969,\n",
       " 1970,\n",
       " 1971,\n",
       " 1972,\n",
       " 1973,\n",
       " 1974,\n",
       " 1975,\n",
       " 1976,\n",
       " 1977,\n",
       " 1978,\n",
       " 1979,\n",
       " 1980,\n",
       " 1981,\n",
       " 1982,\n",
       " 1983,\n",
       " 1984,\n",
       " 1985,\n",
       " 1986,\n",
       " 1987,\n",
       " 1988,\n",
       " 1989,\n",
       " 1990,\n",
       " 1991,\n",
       " 1992,\n",
       " 1993,\n",
       " 1994,\n",
       " 1995,\n",
       " 1996,\n",
       " 1997,\n",
       " 1998,\n",
       " 1999,\n",
       " 2000,\n",
       " 2001,\n",
       " 2002,\n",
       " 2003,\n",
       " 2004,\n",
       " 2005,\n",
       " 2006,\n",
       " 2007,\n",
       " 2008,\n",
       " 2009,\n",
       " 2010,\n",
       " 2011,\n",
       " 2012,\n",
       " 2013,\n",
       " 2014,\n",
       " 2015,\n",
       " 2016,\n",
       " 2017,\n",
       " 2018,\n",
       " 2019]"
      ]
     },
     "execution_count": 27,
     "metadata": {},
     "output_type": "execute_result"
    }
   ],
   "source": [
    "#Посмотрим какие года остались\n",
    "sorted(data['registration_year'].unique())"
   ]
  },
  {
   "cell_type": "markdown",
   "metadata": {},
   "source": [
    "Первые автомобили изобрели в 1885 году, а конвейерная сборка автомобилей появилась лишь в 1930. \n",
    "\n",
    "Определим нижнюю границу по году 1970 годом (год выпуска автомобиля ВАЗ 2001), так как ранее это уже винтажные автомобили и у них другое ценообразование."
   ]
  },
  {
   "cell_type": "code",
   "execution_count": 28,
   "metadata": {},
   "outputs": [
    {
     "name": "stdout",
     "output_type": "stream",
     "text": [
      "Количество автомобилей выпущенных до 1970: 1139\n",
      "Доля автомобилей выпущенных до 1970, составляет: 0.0037923433951961433\n"
     ]
    }
   ],
   "source": [
    "#Посчитаем сколько автомобилей зарегистрированных до 1970 года\n",
    "\n",
    "print('Количество автомобилей выпущенных до 1970:', data[data['registration_year'] < 1970].shape[0])\n",
    "print('Доля автомобилей выпущенных до 1970, составляет:', data[data['registration_year'] < 1970].shape[0]/data.shape[0])"
   ]
  },
  {
   "cell_type": "code",
   "execution_count": 29,
   "metadata": {},
   "outputs": [],
   "source": [
    "# Удалим автомобили зарегистрированные до 1970 года\n",
    "data = data[data['registration_year'] > 1970]"
   ]
  },
  {
   "cell_type": "code",
   "execution_count": 30,
   "metadata": {},
   "outputs": [
    {
     "name": "stderr",
     "output_type": "stream",
     "text": [
      "/opt/conda/lib/python3.9/site-packages/seaborn/_decorators.py:36: FutureWarning: Pass the following variable as a keyword arg: x. From version 0.12, the only valid positional argument will be `data`, and passing other arguments without an explicit keyword will result in an error or misinterpretation.\n",
      "  warnings.warn(\n"
     ]
    },
    {
     "data": {
      "image/png": "[encoded data removed]",
      "text/plain": [
       "<Figure size 1152x432 with 2 Axes>"
      ]
     },
     "metadata": {
      "needs_background": "light"
     },
     "output_type": "display_data"
    }
   ],
   "source": [
    "#Построим снова графики\n",
    "hix_box_plot(data,'registration_year')"
   ]
  },
  {
   "cell_type": "markdown",
   "metadata": {},
   "source": [
    "**Вывод** В столбце `registration_year — год регистрации автомобиля` оставили автомобили выпущенные с 1970-2023 года. "
   ]
  },
  {
   "cell_type": "markdown",
   "metadata": {},
   "source": [
    "#### gearbox — тип коробки передач"
   ]
  },
  {
   "cell_type": "code",
   "execution_count": 31,
   "metadata": {},
   "outputs": [
    {
     "name": "stdout",
     "output_type": "stream",
     "text": [
      "Количество строк : 298933\n",
      "_____________________________________________________________________________________________________________________________\n",
      "Описание данных\n"
     ]
    },
    {
     "data": {
      "text/plain": [
       "count     283990\n",
       "unique         2\n",
       "top       manual\n",
       "freq      226094\n",
       "Name: gearbox, dtype: object"
      ]
     },
     "metadata": {},
     "output_type": "display_data"
    },
    {
     "name": "stdout",
     "output_type": "stream",
     "text": [
      "_____________________________________________________________________________________________________________________________\n",
      "Количество уникальных значений: 3\n",
      "Количество пропусков в датафрейте 14943\n",
      "_____________________________________________________________________________________________________________________________\n",
      "Уникальные значения\n",
      "manual    226094\n",
      "auto       57896\n",
      "Name: gearbox, dtype: int64\n",
      "*****************************************************************************************************************************\n"
     ]
    }
   ],
   "source": [
    "#Выведем общую информацую \n",
    "describe_column(data,'gearbox')"
   ]
  },
  {
   "cell_type": "code",
   "execution_count": 32,
   "metadata": {},
   "outputs": [
    {
     "name": "stdout",
     "output_type": "stream",
     "text": [
      "Количество пропусков 14943\n",
      "Доля пропусков 0.04998778990609936\n"
     ]
    }
   ],
   "source": [
    "print('Количество пропусков', data['gearbox'].isna().sum())\n",
    "print('Доля пропусков', data['gearbox'].isna().sum() / data.shape[0])"
   ]
  },
  {
   "cell_type": "markdown",
   "metadata": {},
   "source": [
    "Тип коробки передач важный параметр при оценке стоимости автомобиля, заменить пропущенные значения популярным, будет некорректно. Но и терять столько данных не охото. Предлагаю, на данном этапе заменить пропуски на  \"unknown\"."
   ]
  },
  {
   "cell_type": "code",
   "execution_count": 33,
   "metadata": {},
   "outputs": [],
   "source": [
    "# заполним пропуски значением \"unknown\"\n",
    "data.gearbox.fillna('unknown', inplace=True)"
   ]
  },
  {
   "cell_type": "code",
   "execution_count": 34,
   "metadata": {},
   "outputs": [
    {
     "data": {
      "image/png": "[encoded data removed]",
      "text/plain": [
       "<Figure size 1152x432 with 2 Axes>"
      ]
     },
     "metadata": {
      "needs_background": "light"
     },
     "output_type": "display_data"
    }
   ],
   "source": [
    "#Построим график \n",
    "bar_pie_plot(data, 'gearbox')"
   ]
  },
  {
   "cell_type": "markdown",
   "metadata": {},
   "source": [
    "**Вывод** В столбце `gearbox — тип коробки передач` Пропущенные значения заменили на \"unknown\""
   ]
  },
  {
   "cell_type": "markdown",
   "metadata": {},
   "source": [
    "#### power — мощность (л. с.)"
   ]
  },
  {
   "cell_type": "code",
   "execution_count": 35,
   "metadata": {},
   "outputs": [
    {
     "name": "stdout",
     "output_type": "stream",
     "text": [
      "Количество строк : 298933\n",
      "_____________________________________________________________________________________________________________________________\n",
      "Описание данных\n"
     ]
    },
    {
     "data": {
      "text/plain": [
       "count    298933.000000\n",
       "mean        111.887537\n",
       "std         196.898672\n",
       "min           0.000000\n",
       "25%          70.000000\n",
       "50%         105.000000\n",
       "75%         143.000000\n",
       "max       20000.000000\n",
       "Name: power, dtype: float64"
      ]
     },
     "metadata": {},
     "output_type": "display_data"
    },
    {
     "name": "stdout",
     "output_type": "stream",
     "text": [
      "_____________________________________________________________________________________________________________________________\n",
      "Количество уникальных значений: 693\n",
      "Количество пропусков в датафрейте 0\n",
      "_____________________________________________________________________________________________________________________________\n",
      "*****************************************************************************************************************************\n"
     ]
    }
   ],
   "source": [
    "#Выведем общую информацую \n",
    "describe_column(data,'power')"
   ]
  },
  {
   "cell_type": "code",
   "execution_count": 36,
   "metadata": {},
   "outputs": [
    {
     "name": "stdout",
     "output_type": "stream",
     "text": [
      "Количество автомобилей мощностью равна 0 л.с.: 32342\n"
     ]
    }
   ],
   "source": [
    "# Посчитаем количество строк, где мощность двигателя равна 0\n",
    "print('Количество автомобилей мощностью равна 0 л.с.:', data[data['power'] == 0].shape[0])"
   ]
  },
  {
   "cell_type": "markdown",
   "metadata": {},
   "source": [
    "Количество нулей в мощности огромно, возможно произошла ошибка, при выгрузке данных, либо пользователь забыл указать данную информацию. Заменим нули медианным значение по бренду"
   ]
  },
  {
   "cell_type": "code",
   "execution_count": 37,
   "metadata": {},
   "outputs": [
    {
     "name": "stdout",
     "output_type": "stream",
     "text": [
      "Количество автомобилей мощностью равна 0 л.с.: 0\n"
     ]
    }
   ],
   "source": [
    "# Заменим нули медианным значение по бренду\n",
    "data['power'] = data.groupby('brand')['power'].transform(lambda x: x.replace(0, x.median()))\n",
    "print('Количество автомобилей мощностью равна 0 л.с.:', data[data['power'] == 0].shape[0])"
   ]
  },
  {
   "cell_type": "markdown",
   "metadata": {},
   "source": [
    "Самая маломощная машина Peel P50 (4,2 л. с.). "
   ]
  },
  {
   "cell_type": "code",
   "execution_count": 38,
   "metadata": {},
   "outputs": [
    {
     "name": "stdout",
     "output_type": "stream",
     "text": [
      "Количество автомобилей мощностью менее 4,2 л.с.: 68\n",
      "Доля автомобилей мощностью менее 4,2 л.с.: 0.00022747572198452497\n"
     ]
    }
   ],
   "source": [
    "#Посчитаем сколько автомобилей мощностью менее 4,2 л. с.\n",
    "\n",
    "print('Количество автомобилей мощностью менее 4,2 л.с.:', data[data['power'] < 4.2].shape[0])\n",
    "print('Доля автомобилей мощностью менее 4,2 л.с.:', data[data['power'] < 4.2].shape[0]/data.shape[0])"
   ]
  },
  {
   "cell_type": "code",
   "execution_count": 39,
   "metadata": {},
   "outputs": [],
   "source": [
    "# удалим машины мощностью слабее 4,2 л.с.\n",
    "\n",
    "data = data[data['power'] > 4.2]"
   ]
  },
  {
   "cell_type": "markdown",
   "metadata": {},
   "source": [
    "Самый мощный автомобиль Devel Sixteen из ОАЭ, оснащённый в топ-версии оригинальным двигателем V16 12.3 с четырьмя турбокомпрессорами и с отдачей в 5076 л.с., сомневаюсь, что такие автомобили есть. \n",
    "\n",
    "Предлагаю посмотреть сколько автомобилей мощность менее 400 л.с. у нас в списке (все, что более 400 л.с. уже считаются супер карами) и цены на эти автомобили уже формируются по другому"
   ]
  },
  {
   "cell_type": "code",
   "execution_count": 40,
   "metadata": {},
   "outputs": [
    {
     "name": "stdout",
     "output_type": "stream",
     "text": [
      "Количество автомобилей мощностью более 400 л.с.: 655\n",
      "Количество автомобилей мощностью более 1000 л.с.: 274\n",
      "Доля автомобилей мощностью менее более 400 л.с.: 0.0021916249811787933\n"
     ]
    }
   ],
   "source": [
    "#Посчитаем сколько автомобилей мощностью более 400 л.с.\n",
    "\n",
    "print('Количество автомобилей мощностью более 400 л.с.:', data[data['power'] > 400].shape[0])\n",
    "print('Количество автомобилей мощностью более 1000 л.с.:', data[data['power'] > 1000].shape[0])\n",
    "\n",
    "print('Доля автомобилей мощностью менее более 400 л.с.:', data[data['power'] > 400].shape[0]/data.shape[0])"
   ]
  },
  {
   "cell_type": "markdown",
   "metadata": {},
   "source": [
    "Данных выбросов не так много, и в значениях более 5000 вероятнее всего пользователь забыл указать запятую. Например, мощность двигателя не 20 000 л.с., а всего 200 л.с., если мы захотим оставить эти данные как вариант можно поделись эти значения на 100, либо заменить медианными значениями по бренду.\n",
    "\n",
    "Но так этих выбросов не так много, считаю правильным их удалить."
   ]
  },
  {
   "cell_type": "code",
   "execution_count": 41,
   "metadata": {},
   "outputs": [],
   "source": [
    "# удалим машины мощностью более 400 л.с.\n",
    "data = data[data['power'] < 400]"
   ]
  },
  {
   "cell_type": "code",
   "execution_count": 42,
   "metadata": {},
   "outputs": [
    {
     "name": "stderr",
     "output_type": "stream",
     "text": [
      "/opt/conda/lib/python3.9/site-packages/seaborn/_decorators.py:36: FutureWarning: Pass the following variable as a keyword arg: x. From version 0.12, the only valid positional argument will be `data`, and passing other arguments without an explicit keyword will result in an error or misinterpretation.\n",
      "  warnings.warn(\n"
     ]
    },
    {
     "data": {
      "image/png": "[encoded data removed]",
      "text/plain": [
       "<Figure size 1152x432 with 2 Axes>"
      ]
     },
     "metadata": {
      "needs_background": "light"
     },
     "output_type": "display_data"
    }
   ],
   "source": [
    "#Построим графики\n",
    "hix_box_plot(data,'power')"
   ]
  },
  {
   "cell_type": "markdown",
   "metadata": {},
   "source": [
    "**Вывод** В столбце `Power — мощность (л. с.)` заменили нули на медианное значение внутри бренда.\n",
    "\n",
    "Удалили машины с двигателем менее 4,2 л.с. и более 400 л.с.\n",
    "\n",
    "В данных еще остались выбросы, машины мощнее 250 л.с., но эти данные правдоподобны по значениям."
   ]
  },
  {
   "cell_type": "markdown",
   "metadata": {},
   "source": [
    "#### model — модель автомобиля"
   ]
  },
  {
   "cell_type": "code",
   "execution_count": 43,
   "metadata": {},
   "outputs": [
    {
     "name": "stdout",
     "output_type": "stream",
     "text": [
      "Количество строк : 298165\n",
      "_____________________________________________________________________________________________________________________________\n",
      "Описание данных\n"
     ]
    },
    {
     "data": {
      "text/plain": [
       "count     282071\n",
       "unique       250\n",
       "top         golf\n",
       "freq       22887\n",
       "Name: model, dtype: object"
      ]
     },
     "metadata": {},
     "output_type": "display_data"
    },
    {
     "name": "stdout",
     "output_type": "stream",
     "text": [
      "_____________________________________________________________________________________________________________________________\n",
      "Количество уникальных значений: 251\n",
      "Количество пропусков в датафрейте 16094\n",
      "_____________________________________________________________________________________________________________________________\n",
      "*****************************************************************************************************************************\n"
     ]
    }
   ],
   "source": [
    "#Выведем общую информацую \n",
    "describe_column(data,'model')"
   ]
  },
  {
   "cell_type": "code",
   "execution_count": 44,
   "metadata": {},
   "outputs": [
    {
     "name": "stdout",
     "output_type": "stream",
     "text": [
      "Количество пропусков 16094\n",
      "Доля пропусков 0.053976824912380726\n"
     ]
    }
   ],
   "source": [
    "print('Количество пропусков', data['model'].isna().sum())\n",
    "print('Доля пропусков', data['model'].isna().sum() / data.shape[0])"
   ]
  },
  {
   "cell_type": "markdown",
   "metadata": {},
   "source": [
    "Модель автомобиля важный параметр при оценке стоимости автомобиля, заменить пропущенные значения популярным, будет некорректно. Но и терять столько данных не охото. Предлагаю, на данном этапе заменить пропуски на \"unknown\"."
   ]
  },
  {
   "cell_type": "code",
   "execution_count": 45,
   "metadata": {},
   "outputs": [],
   "source": [
    "# заполним пропуски значением \"unknown\"\n",
    "data.model.fillna('unknown', inplace=True)\n"
   ]
  },
  {
   "cell_type": "code",
   "execution_count": 46,
   "metadata": {
    "scrolled": true
   },
   "outputs": [
    {
     "data": {
      "text/plain": [
       "['100',\n",
       " '145',\n",
       " '147',\n",
       " '156',\n",
       " '159',\n",
       " '1_reihe',\n",
       " '1er',\n",
       " '200',\n",
       " '2_reihe',\n",
       " '300c',\n",
       " '3_reihe',\n",
       " '3er',\n",
       " '4_reihe',\n",
       " '500',\n",
       " '5_reihe',\n",
       " '5er',\n",
       " '601',\n",
       " '6_reihe',\n",
       " '6er',\n",
       " '7er',\n",
       " '80',\n",
       " '850',\n",
       " '90',\n",
       " '900',\n",
       " '9000',\n",
       " '911',\n",
       " 'a1',\n",
       " 'a2',\n",
       " 'a3',\n",
       " 'a4',\n",
       " 'a5',\n",
       " 'a6',\n",
       " 'a8',\n",
       " 'a_klasse',\n",
       " 'accord',\n",
       " 'agila',\n",
       " 'alhambra',\n",
       " 'almera',\n",
       " 'altea',\n",
       " 'amarok',\n",
       " 'antara',\n",
       " 'arosa',\n",
       " 'astra',\n",
       " 'auris',\n",
       " 'avensis',\n",
       " 'aveo',\n",
       " 'aygo',\n",
       " 'b_klasse',\n",
       " 'b_max',\n",
       " 'beetle',\n",
       " 'berlingo',\n",
       " 'bora',\n",
       " 'boxster',\n",
       " 'bravo',\n",
       " 'c1',\n",
       " 'c2',\n",
       " 'c3',\n",
       " 'c4',\n",
       " 'c5',\n",
       " 'c_klasse',\n",
       " 'c_max',\n",
       " 'c_reihe',\n",
       " 'caddy',\n",
       " 'calibra',\n",
       " 'captiva',\n",
       " 'carisma',\n",
       " 'carnival',\n",
       " 'cayenne',\n",
       " 'cc',\n",
       " 'ceed',\n",
       " 'charade',\n",
       " 'cherokee',\n",
       " 'citigo',\n",
       " 'civic',\n",
       " 'cl',\n",
       " 'clio',\n",
       " 'clk',\n",
       " 'clubman',\n",
       " 'colt',\n",
       " 'combo',\n",
       " 'cooper',\n",
       " 'cordoba',\n",
       " 'corolla',\n",
       " 'corsa',\n",
       " 'cr_reihe',\n",
       " 'croma',\n",
       " 'crossfire',\n",
       " 'cuore',\n",
       " 'cx_reihe',\n",
       " 'defender',\n",
       " 'delta',\n",
       " 'discovery',\n",
       " 'doblo',\n",
       " 'ducato',\n",
       " 'duster',\n",
       " 'e_klasse',\n",
       " 'elefantino',\n",
       " 'eos',\n",
       " 'escort',\n",
       " 'espace',\n",
       " 'exeo',\n",
       " 'fabia',\n",
       " 'fiesta',\n",
       " 'focus',\n",
       " 'forester',\n",
       " 'forfour',\n",
       " 'fortwo',\n",
       " 'fox',\n",
       " 'freelander',\n",
       " 'fusion',\n",
       " 'g_klasse',\n",
       " 'galant',\n",
       " 'galaxy',\n",
       " 'getz',\n",
       " 'gl',\n",
       " 'glk',\n",
       " 'golf',\n",
       " 'grand',\n",
       " 'i3',\n",
       " 'i_reihe',\n",
       " 'ibiza',\n",
       " 'impreza',\n",
       " 'insignia',\n",
       " 'jazz',\n",
       " 'jetta',\n",
       " 'jimny',\n",
       " 'juke',\n",
       " 'justy',\n",
       " 'ka',\n",
       " 'kadett',\n",
       " 'kaefer',\n",
       " 'kalina',\n",
       " 'kalos',\n",
       " 'kangoo',\n",
       " 'kappa',\n",
       " 'kuga',\n",
       " 'laguna',\n",
       " 'lancer',\n",
       " 'lanos',\n",
       " 'legacy',\n",
       " 'leon',\n",
       " 'lodgy',\n",
       " 'logan',\n",
       " 'lupo',\n",
       " 'lybra',\n",
       " 'm_klasse',\n",
       " 'm_reihe',\n",
       " 'materia',\n",
       " 'matiz',\n",
       " 'megane',\n",
       " 'meriva',\n",
       " 'micra',\n",
       " 'mii',\n",
       " 'modus',\n",
       " 'mondeo',\n",
       " 'move',\n",
       " 'musa',\n",
       " 'mustang',\n",
       " 'mx_reihe',\n",
       " 'navara',\n",
       " 'niva',\n",
       " 'note',\n",
       " 'nubira',\n",
       " 'octavia',\n",
       " 'omega',\n",
       " 'one',\n",
       " 'other',\n",
       " 'outlander',\n",
       " 'pajero',\n",
       " 'panda',\n",
       " 'passat',\n",
       " 'phaeton',\n",
       " 'picanto',\n",
       " 'polo',\n",
       " 'primera',\n",
       " 'ptcruiser',\n",
       " 'punto',\n",
       " 'q3',\n",
       " 'q5',\n",
       " 'q7',\n",
       " 'qashqai',\n",
       " 'r19',\n",
       " 'range_rover',\n",
       " 'range_rover_evoque',\n",
       " 'range_rover_sport',\n",
       " 'rangerover',\n",
       " 'rav',\n",
       " 'rio',\n",
       " 'roadster',\n",
       " 'roomster',\n",
       " 'rx_reihe',\n",
       " 's60',\n",
       " 's_klasse',\n",
       " 's_max',\n",
       " 's_type',\n",
       " 'samara',\n",
       " 'sandero',\n",
       " 'santa',\n",
       " 'scenic',\n",
       " 'scirocco',\n",
       " 'seicento',\n",
       " 'serie_1',\n",
       " 'serie_2',\n",
       " 'serie_3',\n",
       " 'sharan',\n",
       " 'signum',\n",
       " 'sirion',\n",
       " 'sl',\n",
       " 'slk',\n",
       " 'sorento',\n",
       " 'spark',\n",
       " 'spider',\n",
       " 'sportage',\n",
       " 'sprinter',\n",
       " 'stilo',\n",
       " 'superb',\n",
       " 'swift',\n",
       " 'terios',\n",
       " 'tigra',\n",
       " 'tiguan',\n",
       " 'toledo',\n",
       " 'touareg',\n",
       " 'touran',\n",
       " 'transit',\n",
       " 'transporter',\n",
       " 'tt',\n",
       " 'tucson',\n",
       " 'twingo',\n",
       " 'unknown',\n",
       " 'up',\n",
       " 'v40',\n",
       " 'v50',\n",
       " 'v60',\n",
       " 'v70',\n",
       " 'v_klasse',\n",
       " 'vectra',\n",
       " 'verso',\n",
       " 'viano',\n",
       " 'vito',\n",
       " 'vivaro',\n",
       " 'voyager',\n",
       " 'wrangler',\n",
       " 'x_reihe',\n",
       " 'x_trail',\n",
       " 'x_type',\n",
       " 'xc_reihe',\n",
       " 'yaris',\n",
       " 'yeti',\n",
       " 'ypsilon',\n",
       " 'z_reihe',\n",
       " 'zafira']"
      ]
     },
     "execution_count": 46,
     "metadata": {},
     "output_type": "execute_result"
    }
   ],
   "source": [
    "#Проверим название марок на наличие неявных дубликатов\n",
    "sorted(data.model.unique())"
   ]
  },
  {
   "cell_type": "code",
   "execution_count": 47,
   "metadata": {},
   "outputs": [],
   "source": [
    "# заменим значение 'rangerover' на 'range_rover'\n",
    "data['model'] = data['model'].replace('rangerover', 'range_rover')"
   ]
  },
  {
   "cell_type": "markdown",
   "metadata": {},
   "source": [
    "**Вывод** В столбце `model — модель автомобиля` Пропущенные значения заменили на \"unknown\", а 'rangerover' на 'range_rover'"
   ]
  },
  {
   "cell_type": "markdown",
   "metadata": {},
   "source": [
    "#### kilometer — пробег (км)"
   ]
  },
  {
   "cell_type": "code",
   "execution_count": 48,
   "metadata": {},
   "outputs": [
    {
     "name": "stdout",
     "output_type": "stream",
     "text": [
      "Количество строк : 298165\n",
      "_____________________________________________________________________________________________________________________________\n",
      "Описание данных\n"
     ]
    },
    {
     "data": {
      "text/plain": [
       "count    298165.000000\n",
       "mean     127609.695974\n",
       "std       37876.993515\n",
       "min        5000.000000\n",
       "25%      125000.000000\n",
       "50%      150000.000000\n",
       "75%      150000.000000\n",
       "max      150000.000000\n",
       "Name: kilometer, dtype: float64"
      ]
     },
     "metadata": {},
     "output_type": "display_data"
    },
    {
     "name": "stdout",
     "output_type": "stream",
     "text": [
      "_____________________________________________________________________________________________________________________________\n",
      "Количество уникальных значений: 13\n",
      "Количество пропусков в датафрейте 0\n",
      "_____________________________________________________________________________________________________________________________\n",
      "*****************************************************************************************************************************\n"
     ]
    }
   ],
   "source": [
    "#Выведем общую информацую \n",
    "describe_column(data,'kilometer')"
   ]
  },
  {
   "cell_type": "code",
   "execution_count": 49,
   "metadata": {},
   "outputs": [
    {
     "name": "stderr",
     "output_type": "stream",
     "text": [
      "/opt/conda/lib/python3.9/site-packages/seaborn/_decorators.py:36: FutureWarning: Pass the following variable as a keyword arg: x. From version 0.12, the only valid positional argument will be `data`, and passing other arguments without an explicit keyword will result in an error or misinterpretation.\n",
      "  warnings.warn(\n"
     ]
    },
    {
     "data": {
      "image/png": "[encoded data removed]",
      "text/plain": [
       "<Figure size 1152x432 with 2 Axes>"
      ]
     },
     "metadata": {
      "needs_background": "light"
     },
     "output_type": "display_data"
    }
   ],
   "source": [
    "#Построим графики\n",
    "hix_box_plot(data,'kilometer')"
   ]
  },
  {
   "cell_type": "markdown",
   "metadata": {},
   "source": [
    "**Вывод** в столбце `kilometer — пробег (км)` есть выбросы, но они реалистичны по значениям, на данном этапе удалять их не будем."
   ]
  },
  {
   "cell_type": "markdown",
   "metadata": {},
   "source": [
    "#### fuel_type — тип топлива"
   ]
  },
  {
   "cell_type": "code",
   "execution_count": 50,
   "metadata": {},
   "outputs": [
    {
     "name": "stdout",
     "output_type": "stream",
     "text": [
      "Количество строк : 298165\n",
      "_____________________________________________________________________________________________________________________________\n",
      "Описание данных\n"
     ]
    },
    {
     "data": {
      "text/plain": [
       "count     270661\n",
       "unique         7\n",
       "top       petrol\n",
       "freq      181651\n",
       "Name: fuel_type, dtype: object"
      ]
     },
     "metadata": {},
     "output_type": "display_data"
    },
    {
     "name": "stdout",
     "output_type": "stream",
     "text": [
      "_____________________________________________________________________________________________________________________________\n",
      "Количество уникальных значений: 8\n",
      "Количество пропусков в датафрейте 27504\n",
      "_____________________________________________________________________________________________________________________________\n",
      "Уникальные значения\n",
      "petrol      181651\n",
      "gasoline     83324\n",
      "lpg           4742\n",
      "cng            509\n",
      "hybrid         216\n",
      "other          139\n",
      "electric        80\n",
      "Name: fuel_type, dtype: int64\n",
      "*****************************************************************************************************************************\n"
     ]
    }
   ],
   "source": [
    "#Выведем общую информацую \n",
    "describe_column(data,'fuel_type')"
   ]
  },
  {
   "cell_type": "code",
   "execution_count": 51,
   "metadata": {},
   "outputs": [],
   "source": [
    "# переименуем gasoline в petrol, поскольку оба означают \"бензин\"\n",
    "data['fuel_type'] = data['fuel_type'].replace('gasoline','petrol')"
   ]
  },
  {
   "cell_type": "code",
   "execution_count": 52,
   "metadata": {},
   "outputs": [
    {
     "name": "stdout",
     "output_type": "stream",
     "text": [
      "Количество пропусков 0\n"
     ]
    }
   ],
   "source": [
    "# Заменим пропуски на other\n",
    "data.fuel_type.fillna('other', inplace=True)\n",
    "print('Количество пропусков', data['fuel_type'].isna().sum())"
   ]
  },
  {
   "cell_type": "code",
   "execution_count": 53,
   "metadata": {},
   "outputs": [
    {
     "data": {
      "image/png": "[encoded data removed]",
      "text/plain": [
       "<Figure size 1152x432 with 2 Axes>"
      ]
     },
     "metadata": {
      "needs_background": "light"
     },
     "output_type": "display_data"
    }
   ],
   "source": [
    "#Построим график \n",
    "bar_pie_plot(data, 'fuel_type')"
   ]
  },
  {
   "cell_type": "markdown",
   "metadata": {},
   "source": [
    "**Вывод** В столбце `fuel_type — тип топлива` переименовали 'gasoline' в 'petrol', поскольку оба означают \"бензин\", пропуски заменили на 'other'"
   ]
  },
  {
   "cell_type": "markdown",
   "metadata": {},
   "source": [
    "#### brand — марка автомобиля"
   ]
  },
  {
   "cell_type": "code",
   "execution_count": 54,
   "metadata": {},
   "outputs": [
    {
     "name": "stdout",
     "output_type": "stream",
     "text": [
      "Количество строк : 298165\n",
      "_____________________________________________________________________________________________________________________________\n",
      "Описание данных\n"
     ]
    },
    {
     "data": {
      "text/plain": [
       "count         298165\n",
       "unique            40\n",
       "top       volkswagen\n",
       "freq           61556\n",
       "Name: brand, dtype: object"
      ]
     },
     "metadata": {},
     "output_type": "display_data"
    },
    {
     "name": "stdout",
     "output_type": "stream",
     "text": [
      "_____________________________________________________________________________________________________________________________\n",
      "Количество уникальных значений: 40\n",
      "Количество пропусков в датафрейте 0\n",
      "_____________________________________________________________________________________________________________________________\n",
      "Уникальные значения\n",
      "volkswagen        61556\n",
      "opel              32595\n",
      "bmw               30653\n",
      "mercedes_benz     27864\n",
      "audi              24574\n",
      "ford              21597\n",
      "renault           15274\n",
      "peugeot            9585\n",
      "fiat               8302\n",
      "seat               6013\n",
      "mazda              4973\n",
      "skoda              4894\n",
      "smart              4749\n",
      "citroen            4639\n",
      "nissan             4360\n",
      "toyota             4182\n",
      "hyundai            3241\n",
      "mini               2828\n",
      "volvo              2788\n",
      "mitsubishi         2717\n",
      "honda              2538\n",
      "sonstige_autos     2243\n",
      "kia                2208\n",
      "suzuki             2109\n",
      "alfa_romeo         2053\n",
      "chevrolet          1556\n",
      "chrysler           1268\n",
      "dacia               820\n",
      "daihatsu            723\n",
      "subaru              693\n",
      "porsche             612\n",
      "jeep                601\n",
      "daewoo              497\n",
      "land_rover          487\n",
      "saab                474\n",
      "jaguar              459\n",
      "rover               427\n",
      "lancia              422\n",
      "trabant             393\n",
      "lada                198\n",
      "Name: brand, dtype: int64\n",
      "*****************************************************************************************************************************\n"
     ]
    }
   ],
   "source": [
    "#Выведем общую информацую \n",
    "describe_column(data,'brand')"
   ]
  },
  {
   "cell_type": "markdown",
   "metadata": {},
   "source": [
    "**Вывод** В столбце `brand — марка автомобиля` данные корректны, явных дубликатов нет."
   ]
  },
  {
   "cell_type": "markdown",
   "metadata": {},
   "source": [
    "#### repaired — была машина в ремонте или нет"
   ]
  },
  {
   "cell_type": "code",
   "execution_count": 55,
   "metadata": {},
   "outputs": [
    {
     "name": "stdout",
     "output_type": "stream",
     "text": [
      "Количество строк : 298165\n",
      "_____________________________________________________________________________________________________________________________\n",
      "Описание данных\n"
     ]
    },
    {
     "data": {
      "text/plain": [
       "count     238675\n",
       "unique         2\n",
       "top           no\n",
       "freq      207288\n",
       "Name: repaired, dtype: object"
      ]
     },
     "metadata": {},
     "output_type": "display_data"
    },
    {
     "name": "stdout",
     "output_type": "stream",
     "text": [
      "_____________________________________________________________________________________________________________________________\n",
      "Количество уникальных значений: 3\n",
      "Количество пропусков в датафрейте 59490\n",
      "_____________________________________________________________________________________________________________________________\n",
      "Уникальные значения\n",
      "no     207288\n",
      "yes     31387\n",
      "Name: repaired, dtype: int64\n",
      "*****************************************************************************************************************************\n"
     ]
    }
   ],
   "source": [
    "#Выведем общую информацую \n",
    "describe_column(data,'repaired')"
   ]
  },
  {
   "cell_type": "code",
   "execution_count": 56,
   "metadata": {},
   "outputs": [],
   "source": [
    "# заполним пропуски значением \"unknown\"\n",
    "data.repaired.fillna('unknown', inplace=True)"
   ]
  },
  {
   "cell_type": "code",
   "execution_count": 57,
   "metadata": {},
   "outputs": [
    {
     "data": {
      "image/png": "[encoded data removed]",
      "text/plain": [
       "<Figure size 1152x432 with 2 Axes>"
      ]
     },
     "metadata": {
      "needs_background": "light"
     },
     "output_type": "display_data"
    }
   ],
   "source": [
    "#Построим график \n",
    "bar_pie_plot(data, 'repaired')"
   ]
  },
  {
   "cell_type": "markdown",
   "metadata": {},
   "source": [
    "**Вывод** В столбце ` repaired — была машина в ремонте или нет` Пропущенные значения заменили на \"unknown\""
   ]
  },
  {
   "cell_type": "code",
   "execution_count": 58,
   "metadata": {},
   "outputs": [
    {
     "name": "stdout",
     "output_type": "stream",
     "text": [
      "Количество дубликатов: 1183\n",
      "Доля дубликатов, составляет: 0.003967601831200845\n"
     ]
    }
   ],
   "source": [
    "# Проверим сколько дубликатов появилсь после всех преобразований данных\n",
    "print('Количество дубликатов:', data.duplicated().sum())\n",
    "print('Доля дубликатов, составляет:', data.duplicated().sum()/data.shape[0])"
   ]
  },
  {
   "cell_type": "code",
   "execution_count": 59,
   "metadata": {},
   "outputs": [
    {
     "data": {
      "text/plain": [
       "0"
      ]
     },
     "execution_count": 59,
     "metadata": {},
     "output_type": "execute_result"
    }
   ],
   "source": [
    "# удалим явные дубликаты\n",
    "data.drop_duplicates(inplace=True)\n",
    "data.duplicated().sum()"
   ]
  },
  {
   "cell_type": "code",
   "execution_count": 60,
   "metadata": {},
   "outputs": [
    {
     "name": "stdout",
     "output_type": "stream",
     "text": [
      "Итого, после подготовки данных удалили 57387 строки\n",
      "Процент удаленных данных, составляет: 16.19%\n"
     ]
    }
   ],
   "source": [
    "print('Итого, после подготовки данных удалили', (354369 - data.shape[0]), 'строки')\n",
    "print(f'Процент удаленных данных, составляет: {((354369 - data.shape[0])/354369):.2%}')"
   ]
  },
  {
   "cell_type": "markdown",
   "metadata": {},
   "source": [
    "#### Вывод по исследовательскому анализу"
   ]
  },
  {
   "cell_type": "markdown",
   "metadata": {},
   "source": [
    "На этапе исследовательского анализа:\n",
    "\n",
    "- В столбце `Price — цена (евро)`, удалили автомобили, чья стоимость равняется нулю. В столбце так же остались выбросы (автомобили дороже 15000 евро). Данные значения реалистичны, поэтому на данном этапе удалять не будем\n",
    "\n",
    "- В столбце `vehicle_type — тип автомобильного кузова`, пропущенные значения заменили на 'other'\n",
    "\n",
    "- В столбце `registration_year — год регистрации автомобиля` оставили автомобили выпущенные с 1970-2023 года. \n",
    "\n",
    "- В столбце `gearbox — тип коробки передач` Пропущенные значения заменили на \"unknown\"\n",
    "\n",
    "- В столбце `Power — мощность (л. с.)` заменили нули на медианное значение внутри бренда.\n",
    "    Удалили машины с двигателем менее 4,2 л.с. и более 400 л.с. В данных еще остались выбросы, машины мощнее 250 л.с., но эти данные правдоподобны по значениям.\n",
    "    \n",
    "- В столбце `model — модель автомобиля` Пропущенные значения заменили на \"unknown\", а 'rangerover' на 'range_rover'\n",
    "\n",
    "- В столбце `kilometer — пробег (км)` есть выбросы, но они реалистичны по значениям, на данном этапе удалять их не будем.\n",
    "\n",
    "- В столбце `fuel_type — тип топлива` переименовали 'gasoline' в 'petrol', поскольку оба означают \"бензин\", пропуски заменили на 'other'\n",
    "\n",
    "- В столбце `brand — марка автомобиля` данные корректны, явных дубликатов нет.\n",
    "\n",
    "- В столбце ` repaired — была машина в ремонте или нет` Пропущенные значения заменили на \"unknown\"\n",
    "\n",
    "После всех преобразований данных удалили явные дубликаты"
   ]
  },
  {
   "cell_type": "markdown",
   "metadata": {},
   "source": [
    "### Корреляционный анализ"
   ]
  },
  {
   "cell_type": "markdown",
   "metadata": {},
   "source": [
    "В связи с тем, что не все признаки распределены нормально, для корреляционного анализа используем матрицу Phik, которая устойчива к ненормальному распределению, позволяет учитывать нелинейные зависимости и работает с различными типами признаков"
   ]
  },
  {
   "cell_type": "code",
   "execution_count": 61,
   "metadata": {},
   "outputs": [
    {
     "data": {
      "image/png": "[encoded data removed]",
      "text/plain": [
       "<Figure size 720x576 with 2 Axes>"
      ]
     },
     "metadata": {
      "needs_background": "light"
     },
     "output_type": "display_data"
    }
   ],
   "source": [
    "# вычисление коэффициентов корреляции phi для датафрейма geo_data_0\n",
    "columns = ['price', 'registration_year', 'power', 'kilometer']\n",
    "\n",
    "phik_overview = data.phik_matrix(interval_cols=columns)\n",
    "\n",
    "# визуализация тепловой карты коэффициентов корреляции\n",
    "plot_correlation_matrix(\n",
    "    phik_overview.values,\n",
    "    x_labels=phik_overview.columns,\n",
    "    y_labels=phik_overview.index,\n",
    "    title=r\"correlation $\\phi_K$\",\n",
    "    fontsize_factor=1.5,\n",
    "    figsize=(10, 8)\n",
    ")"
   ]
  },
  {
   "cell_type": "markdown",
   "metadata": {},
   "source": [
    "Из анализа матрицы корреляции датасета data видно, что мультиколлинеарности нет.\n",
    "\n",
    "При этом целевой признак `price — цена (евро)`:\n",
    "- Сильно коррелирует (0.67) с registration_year — год регистрации автомобиля\n",
    "- Сильно коррелирует (0.58) с model — модель автомобиля\n",
    "- Средне коррелирует (0.49) с power — мощность (л. с.)\n",
    "\n",
    "Также прослеживается связь между признаками:\n",
    "- model — модель автомобиля очень сильно коррелирует (0.90) с vehicle_type — тип автомобильного кузова\n",
    "- brand — марка автомобиля сильно коррелирует (0.65) с power — мощность (л. с.)\n",
    "- brand — марка автомобиля сильно коррелирует (0.62) с vehicle_type — тип автомобильного кузова\n",
    "- model — модель автомобиля сильно коррелирует (0.79) с power — мощность (л. с.)\n",
    "- model — модель автомобиля сильно коррелирует (0.64) с registration_year — год регистрации автомобиля\n",
    "- model — модель автомобиля сильно коррелирует (0.62) с gearbox — тип коробки передач\n",
    "- model — модель автомобиля коррелирует с brand — марка автомобиля\n",
    "\n",
    "Все связи логичны и объяснимы, утечки целевого признака нет."
   ]
  },
  {
   "cell_type": "code",
   "execution_count": 62,
   "metadata": {
    "scrolled": true
   },
   "outputs": [
    {
     "data": {
      "text/html": [
       "<div>\n",
       "<style scoped>\n",
       "    .dataframe tbody tr th:only-of-type {\n",
       "        vertical-align: middle;\n",
       "    }\n",
       "\n",
       "    .dataframe tbody tr th {\n",
       "        vertical-align: top;\n",
       "    }\n",
       "\n",
       "    .dataframe thead th {\n",
       "        text-align: right;\n",
       "    }\n",
       "</style>\n",
       "<table border=\"1\" class=\"dataframe\">\n",
       "  <thead>\n",
       "    <tr style=\"text-align: right;\">\n",
       "      <th></th>\n",
       "      <th>price</th>\n",
       "      <th>vehicle_type</th>\n",
       "      <th>registration_year</th>\n",
       "      <th>gearbox</th>\n",
       "      <th>power</th>\n",
       "      <th>model</th>\n",
       "      <th>kilometer</th>\n",
       "      <th>fuel_type</th>\n",
       "      <th>brand</th>\n",
       "      <th>repaired</th>\n",
       "    </tr>\n",
       "  </thead>\n",
       "  <tbody>\n",
       "    <tr>\n",
       "      <th>0</th>\n",
       "      <td>480</td>\n",
       "      <td>other</td>\n",
       "      <td>1993</td>\n",
       "      <td>manual</td>\n",
       "      <td>98.0</td>\n",
       "      <td>golf</td>\n",
       "      <td>150000</td>\n",
       "      <td>petrol</td>\n",
       "      <td>volkswagen</td>\n",
       "      <td>unknown</td>\n",
       "    </tr>\n",
       "    <tr>\n",
       "      <th>1</th>\n",
       "      <td>18300</td>\n",
       "      <td>coupe</td>\n",
       "      <td>2011</td>\n",
       "      <td>manual</td>\n",
       "      <td>190.0</td>\n",
       "      <td>unknown</td>\n",
       "      <td>125000</td>\n",
       "      <td>petrol</td>\n",
       "      <td>audi</td>\n",
       "      <td>yes</td>\n",
       "    </tr>\n",
       "    <tr>\n",
       "      <th>2</th>\n",
       "      <td>9800</td>\n",
       "      <td>suv</td>\n",
       "      <td>2004</td>\n",
       "      <td>auto</td>\n",
       "      <td>163.0</td>\n",
       "      <td>grand</td>\n",
       "      <td>125000</td>\n",
       "      <td>petrol</td>\n",
       "      <td>jeep</td>\n",
       "      <td>unknown</td>\n",
       "    </tr>\n",
       "    <tr>\n",
       "      <th>3</th>\n",
       "      <td>1500</td>\n",
       "      <td>small</td>\n",
       "      <td>2001</td>\n",
       "      <td>manual</td>\n",
       "      <td>75.0</td>\n",
       "      <td>golf</td>\n",
       "      <td>150000</td>\n",
       "      <td>petrol</td>\n",
       "      <td>volkswagen</td>\n",
       "      <td>no</td>\n",
       "    </tr>\n",
       "    <tr>\n",
       "      <th>4</th>\n",
       "      <td>3600</td>\n",
       "      <td>small</td>\n",
       "      <td>2008</td>\n",
       "      <td>manual</td>\n",
       "      <td>69.0</td>\n",
       "      <td>fabia</td>\n",
       "      <td>90000</td>\n",
       "      <td>petrol</td>\n",
       "      <td>skoda</td>\n",
       "      <td>no</td>\n",
       "    </tr>\n",
       "  </tbody>\n",
       "</table>\n",
       "</div>"
      ],
      "text/plain": [
       "   price vehicle_type  registration_year gearbox  power    model  kilometer  \\\n",
       "0    480        other               1993  manual   98.0     golf     150000   \n",
       "1  18300        coupe               2011  manual  190.0  unknown     125000   \n",
       "2   9800          suv               2004    auto  163.0    grand     125000   \n",
       "3   1500        small               2001  manual   75.0     golf     150000   \n",
       "4   3600        small               2008  manual   69.0    fabia      90000   \n",
       "\n",
       "  fuel_type       brand repaired  \n",
       "0    petrol  volkswagen  unknown  \n",
       "1    petrol        audi      yes  \n",
       "2    petrol        jeep  unknown  \n",
       "3    petrol  volkswagen       no  \n",
       "4    petrol       skoda       no  "
      ]
     },
     "execution_count": 62,
     "metadata": {},
     "output_type": "execute_result"
    }
   ],
   "source": [
    "data.head()"
   ]
  },
  {
   "cell_type": "markdown",
   "metadata": {},
   "source": [
    "## Обучение моделей"
   ]
  },
  {
   "cell_type": "markdown",
   "metadata": {},
   "source": [
    "### Подготовка данных"
   ]
  },
  {
   "cell_type": "code",
   "execution_count": 63,
   "metadata": {},
   "outputs": [],
   "source": [
    "# зададим целевой признак и подготовим данные\n",
    "X = data.drop(['price'], axis=1)\n",
    "y = data['price'] "
   ]
  },
  {
   "cell_type": "code",
   "execution_count": 64,
   "metadata": {},
   "outputs": [
    {
     "data": {
      "text/plain": [
       "((296982, 9), (178189, 9), (59397, 9), (59396, 9))"
      ]
     },
     "execution_count": 64,
     "metadata": {},
     "output_type": "execute_result"
    }
   ],
   "source": [
    "# разбьём данные на обучающую, валидационную и тестовую выборки в соотношении 60:20:20\n",
    "X_train, X_test, y_train, y_test = \\\n",
    "train_test_split(X, y, test_size=0.4, random_state=RANDOM_STATE)\n",
    "\n",
    "X_test, X_valid, y_test, y_valid = \\\n",
    "train_test_split(X_test, y_test, test_size=0.5, random_state=RANDOM_STATE)\n",
    "\n",
    "X.shape, X_train.shape, X_valid.shape, X_test.shape, "
   ]
  },
  {
   "cell_type": "code",
   "execution_count": 65,
   "metadata": {},
   "outputs": [],
   "source": [
    "# создаём списки с названиями признаков\n",
    "cat_columns = ['vehicle_type', 'gearbox', 'model', 'fuel_type', 'brand', 'repaired']\n",
    "num_columns = ['registration_year', 'power', 'kilometer']"
   ]
  },
  {
   "cell_type": "code",
   "execution_count": 66,
   "metadata": {},
   "outputs": [
    {
     "data": {
      "text/plain": [
       "((178189, 3), (59397, 3), (59396, 3))"
      ]
     },
     "execution_count": 66,
     "metadata": {},
     "output_type": "execute_result"
    }
   ],
   "source": [
    "# Масштабируем количественные признаки с помощью StandardScaler\n",
    "\n",
    "scaler = StandardScaler()\n",
    "X_train_scaled = scaler.fit_transform(X_train[num_columns])\n",
    "X_valid_scaled = scaler.transform(X_valid[num_columns])\n",
    "X_test_scaled = scaler.transform(X_test[num_columns])\n",
    "\n",
    "# создадим датафрейм из закодированных данных\n",
    "X_train_scaled = pd.DataFrame(X_train_scaled, columns=num_columns)\n",
    "X_valid_scaled = pd.DataFrame(X_valid_scaled, columns=num_columns)\n",
    "X_test_scaled = pd.DataFrame(X_test_scaled, columns=num_columns)\n",
    "\n",
    "X_train_scaled.shape, X_valid_scaled.shape, X_test_scaled.shape"
   ]
  },
  {
   "cell_type": "code",
   "execution_count": 67,
   "metadata": {},
   "outputs": [
    {
     "name": "stderr",
     "output_type": "stream",
     "text": [
      "/opt/conda/lib/python3.9/site-packages/sklearn/utils/deprecation.py:87: FutureWarning: Function get_feature_names is deprecated; get_feature_names is deprecated in 1.0 and will be removed in 1.2. Please use get_feature_names_out instead.\n",
      "  warnings.warn(msg, category=FutureWarning)\n"
     ]
    },
    {
     "data": {
      "text/plain": [
       "((178189, 304), (59397, 304), (59396, 304))"
      ]
     },
     "execution_count": 67,
     "metadata": {},
     "output_type": "execute_result"
    }
   ],
   "source": [
    "# выберем класс OneHotEncoder() для задачи линейной регрессии\n",
    "encoder  = OneHotEncoder(drop='first', handle_unknown='ignore', sparse=False)\n",
    "\n",
    "# кодирование тренировочной выборки\n",
    "X_train_ohe = encoder.fit_transform(X_train[cat_columns]) \n",
    "\n",
    "# кодирование валидационной выборки\n",
    "X_valid_ohe = encoder.transform(X_valid[cat_columns]) \n",
    "\n",
    "# кодирование тестовой выборки\n",
    "X_test_ohe = encoder.transform(X_test[cat_columns]) \n",
    "\n",
    "# сохраним в переменной encoder_col_names названия новых столбцов \n",
    "encoder_col_names = encoder.get_feature_names()\n",
    "\n",
    "# создадим датафрейм из закодированных данных\n",
    "X_train_ohe = pd.DataFrame(X_train_ohe, columns=encoder_col_names)\n",
    "X_valid_ohe = pd.DataFrame(X_valid_ohe, columns=encoder_col_names)\n",
    "X_test_ohe = pd.DataFrame(X_test_ohe, columns=encoder_col_names)\n",
    "\n",
    "X_train_ohe.shape, X_valid_ohe.shape, X_test_ohe.shape"
   ]
  },
  {
   "cell_type": "code",
   "execution_count": 68,
   "metadata": {},
   "outputs": [
    {
     "name": "stdout",
     "output_type": "stream",
     "text": [
      "(178189, 307)\n",
      "(59397, 307)\n",
      "(59396, 307)\n"
     ]
    }
   ],
   "source": [
    "#Объединим все преобразованные данные в один датафреймы\n",
    "X_train_ohe = pd.concat([X_train_ohe, X_train_scaled], axis=1)\n",
    "X_valid_ohe = pd.concat([X_valid_ohe, X_valid_scaled], axis=1)\n",
    "X_test_ohe = pd.concat([X_test_ohe, X_test_scaled], axis=1)\n",
    "print(X_train_ohe.shape)\n",
    "print(X_valid_ohe.shape)\n",
    "print(X_test_ohe.shape)"
   ]
  },
  {
   "cell_type": "markdown",
   "metadata": {},
   "source": [
    "Построем гистограмму частотного распределения и ящик с усами для количественных признаков, чтобы убедиться в правильности выполнения масштабирования."
   ]
  },
  {
   "cell_type": "code",
   "execution_count": 69,
   "metadata": {},
   "outputs": [
    {
     "data": {
      "image/png": "[encoded data removed]",
      "text/plain": [
       "<Figure size 720x360 with 2 Axes>"
      ]
     },
     "metadata": {
      "needs_background": "light"
     },
     "output_type": "display_data"
    }
   ],
   "source": [
    "fig, axes = plt.subplots(nrows=1, ncols=2, figsize=(10,5))\n",
    "\n",
    "X_train_ohe[num_columns].plot(kind='hist', bins=10, ax=axes[0])\n",
    "axes[0].set_title('Гистограмма распределения')\n",
    "X_train_ohe[num_columns].plot(kind='box',   ax=axes[1], rot=45)\n",
    "axes[1].set_title('Разброс значений признаков')\n",
    "plt.show()"
   ]
  },
  {
   "cell_type": "code",
   "execution_count": 70,
   "metadata": {},
   "outputs": [
    {
     "data": {
      "text/plain": [
       "((178189, 6), (59397, 6), (59396, 6))"
      ]
     },
     "execution_count": 70,
     "metadata": {},
     "output_type": "execute_result"
    }
   ],
   "source": [
    "# выберем класс OrdinalEncoder() для остальных задач\n",
    "encoder_oe = OrdinalEncoder()\n",
    "\n",
    "# кодирование тренировочной выборки\n",
    "X_train_oe = encoder_oe.fit_transform(X_train[cat_columns]) \n",
    "\n",
    "# кодирование валидационной выборки\n",
    "X_valid_oe = encoder_oe.transform(X_valid[cat_columns]) \n",
    "\n",
    "# кодирование тестовой выборки\n",
    "X_test_oe = encoder_oe.transform(X_test[cat_columns]) \n",
    "\n",
    "# сохраним в переменной encoder_col_names названия новых столбцов \n",
    "encoder_col_names = encoder_oe.get_feature_names_out()\n",
    "\n",
    "# создадим датафрейм из закодированных данных\n",
    "X_train_oe = pd.DataFrame(X_train_oe, columns=encoder_col_names)\n",
    "X_valid_oe = pd.DataFrame(X_valid_oe, columns=encoder_col_names)\n",
    "X_test_oe = pd.DataFrame(X_test_oe, columns=encoder_col_names)\n",
    "\n",
    "X_train_oe.shape, X_valid_oe.shape, X_test_oe.shape"
   ]
  },
  {
   "cell_type": "code",
   "execution_count": 71,
   "metadata": {},
   "outputs": [
    {
     "name": "stdout",
     "output_type": "stream",
     "text": [
      "(178189, 9)\n",
      "(59397, 9)\n",
      "(59396, 9)\n"
     ]
    }
   ],
   "source": [
    "#Объединим все преобразованные данные в один датафреймы\n",
    "X_train_oe = pd.concat([X_train_oe, X_train_scaled], axis=1)\n",
    "X_valid_oe = pd.concat([X_valid_oe, X_valid_scaled], axis=1)\n",
    "X_test_oe = pd.concat([X_test_oe, X_test_scaled], axis=1)\n",
    "print(X_train_oe.shape)\n",
    "print(X_valid_oe.shape)\n",
    "print(X_test_oe.shape)"
   ]
  },
  {
   "cell_type": "markdown",
   "metadata": {},
   "source": [
    "Итого на данном этапе у нас два набора данных:\n",
    "- X_train_ohe, X_valid_ohe, X_test_ohe - для задачи линейной регрессии\n",
    "- X_train_oe, X_valid_oe, X_test_oe - для остальных задач"
   ]
  },
  {
   "cell_type": "markdown",
   "metadata": {},
   "source": [
    "### Модель линейной регрессии"
   ]
  },
  {
   "cell_type": "code",
   "execution_count": 72,
   "metadata": {},
   "outputs": [],
   "source": [
    "# Обучим модель линейной регрессии на подготовленных данных.\n",
    "\n",
    "#%%time\n",
    "#Найдем время обучения\n",
    "start = time.time()\n",
    "\n",
    "#Создадим модель линейной регрессии \n",
    "model_lr  = LinearRegression()\n",
    "\n",
    "#обучим модель на тренировочных данных\n",
    "model_lr.fit(X_train_ohe, y_train)\n",
    "\n",
    "end = time.time()\n",
    "time_lr_fit = end-start\n"
   ]
  },
  {
   "cell_type": "code",
   "execution_count": 73,
   "metadata": {},
   "outputs": [
    {
     "name": "stdout",
     "output_type": "stream",
     "text": [
      "CPU times: user 114 ms, sys: 76.1 ms, total: 190 ms\n",
      "Wall time: 189 ms\n"
     ]
    }
   ],
   "source": [
    "%%time\n",
    "#Найдем время обучения\n",
    "start = time.time()\n",
    "\n",
    "# получим предсказания модели на валидационных данных \n",
    "predictions_lr = model_lr.predict(X_valid_ohe) \n",
    "\n",
    "end = time.time()\n",
    "time_lr_predict = end-start"
   ]
  },
  {
   "cell_type": "code",
   "execution_count": 74,
   "metadata": {},
   "outputs": [
    {
     "name": "stdout",
     "output_type": "stream",
     "text": [
      "Метрика RMCE: 2662.52\n",
      "Время обучения модели: 20.11 сек.\n",
      "Время предсказания модели: 0.19 сек.\n"
     ]
    }
   ],
   "source": [
    "rmse_lr =  mean_squared_error(y_valid, predictions_lr, squared=False)\n",
    "\n",
    "print('Метрика RMCE:', round(rmse_lr, 2))\n",
    "print('Время обучения модели:', round(time_lr_fit, 2), 'сек.')\n",
    "print('Время предсказания модели:', round(time_lr_predict, 2), 'сек.')"
   ]
  },
  {
   "cell_type": "markdown",
   "metadata": {},
   "source": [
    "### Decision Tree Regressor"
   ]
  },
  {
   "cell_type": "code",
   "execution_count": 75,
   "metadata": {},
   "outputs": [
    {
     "name": "stdout",
     "output_type": "stream",
     "text": [
      "Глубина: 3\n",
      "RMSE для решающего дерева: 2999.8106526668903\n",
      "\n",
      "Глубина: 6\n",
      "RMSE для решающего дерева: 2354.6445108205426\n",
      "\n",
      "Глубина: 9\n",
      "RMSE для решающего дерева: 2105.7485662757476\n",
      "\n",
      "Глубина: 12\n",
      "RMSE для решающего дерева: 2007.2833970460902\n",
      "\n",
      "\n"
     ]
    }
   ],
   "source": [
    "# построим модель для решающего дерева и найдем наилучшие гиперпараметры\n",
    "# найдем лучшие гиперпараметры для глубины дерева\n",
    "for depth in range(3, 15, 3):\n",
    "    model = DecisionTreeRegressor(random_state = RANDOM_STATE, max_depth = depth)\n",
    "    model.fit(X_train_oe, y_train)\n",
    "    predictions_tr = model.predict(X_valid_oe)\n",
    "    rmse = mean_squared_error(y_valid, predictions_tr, squared=False)\n",
    "    print('Глубина:', depth)\n",
    "    print('RMSE для решающего дерева:', rmse)\n",
    "    print('')\n",
    "print()"
   ]
  },
  {
   "cell_type": "markdown",
   "metadata": {},
   "source": [
    "Ограничим глубину дерева 9, так как модель склонна к переобучению"
   ]
  },
  {
   "cell_type": "code",
   "execution_count": 76,
   "metadata": {},
   "outputs": [],
   "source": [
    "# Обучим модель Decision Tree Regressor на подготовленных данных.\n",
    "\n",
    "#%%time\n",
    "#Найдем время обучения\n",
    "start = time.time()\n",
    "\n",
    "#Создадим модель линейной регрессии \n",
    "model_tr  = DecisionTreeRegressor(random_state = RANDOM_STATE, max_depth = 9)\n",
    "\n",
    "#обучим модель на тренировочных данных\n",
    "model_tr.fit(X_train_oe, y_train)\n",
    "\n",
    "end = time.time()\n",
    "time_tr_fit = end-start"
   ]
  },
  {
   "cell_type": "code",
   "execution_count": 77,
   "metadata": {},
   "outputs": [
    {
     "name": "stdout",
     "output_type": "stream",
     "text": [
      "CPU times: user 8 ms, sys: 880 µs, total: 8.88 ms\n",
      "Wall time: 7.21 ms\n"
     ]
    }
   ],
   "source": [
    "%%time\n",
    "#Найдем время обучения\n",
    "start = time.time()\n",
    "\n",
    "# получим предсказания модели на валидационных данных \n",
    "predictions_tr = model_tr.predict(X_valid_oe) \n",
    "\n",
    "end = time.time()\n",
    "time_tr_predict = end-start"
   ]
  },
  {
   "cell_type": "code",
   "execution_count": 78,
   "metadata": {},
   "outputs": [
    {
     "name": "stdout",
     "output_type": "stream",
     "text": [
      "Метрика RMCE: 2105.75\n",
      "Время обучения модели: 0.35 сек.\n",
      "Время предсказания модели: 0.01 сек.\n"
     ]
    }
   ],
   "source": [
    "rmse_tr =  mean_squared_error(y_valid, predictions_tr, squared=False)\n",
    "\n",
    "print('Метрика RMCE:', round(rmse_tr, 2))\n",
    "print('Время обучения модели:', round(time_tr_fit, 2), 'сек.')\n",
    "print('Время предсказания модели:', round(time_tr_predict, 2), 'сек.')"
   ]
  },
  {
   "cell_type": "markdown",
   "metadata": {},
   "source": [
    "### LightGBM"
   ]
  },
  {
   "cell_type": "code",
   "execution_count": 79,
   "metadata": {},
   "outputs": [
    {
     "name": "stdout",
     "output_type": "stream",
     "text": [
      "[LightGBM] [Warning] Accuracy may be bad since you didn't explicitly set num_leaves OR 2^max_depth > num_leaves. (num_leaves=31).\n"
     ]
    },
    {
     "name": "stderr",
     "output_type": "stream",
     "text": [
      "/opt/conda/lib/python3.9/site-packages/lightgbm/engine.py:239: UserWarning: 'verbose_eval' argument is deprecated and will be removed in a future release of LightGBM. Pass 'log_evaluation()' callback via 'callbacks' argument instead.\n",
      "  _log_warning(\"'verbose_eval' argument is deprecated and will be removed in a future release of LightGBM. \"\n"
     ]
    },
    {
     "name": "stdout",
     "output_type": "stream",
     "text": [
      "[LightGBM] [Warning] Accuracy may be bad since you didn't explicitly set num_leaves OR 2^max_depth > num_leaves. (num_leaves=31).\n",
      "[LightGBM] [Warning] Auto-choosing row-wise multi-threading, the overhead of testing was 0.005780 seconds.\n",
      "You can set `force_row_wise=true` to remove the overhead.\n",
      "And if memory is not enough, you can set `force_col_wise=true`.\n",
      "[LightGBM] [Info] Total Bins 610\n",
      "[LightGBM] [Info] Number of data points in the train set: 178189, number of used features: 9\n",
      "[LightGBM] [Info] Start training from score 4609.532496\n"
     ]
    }
   ],
   "source": [
    "# Создание и обучение модели LightGBM\n",
    "lgb_train = lgb.Dataset(X_train_oe, y_train)\n",
    "lgb_test = lgb.Dataset(X_valid_oe, y_valid, reference=lgb_train)\n",
    "\n",
    "params = {'objective': 'regression',\n",
    "          'metric': 'rmse', \n",
    "          'max_depth':9,\n",
    "          'random_state': RANDOM_STATE,\n",
    "          'learning_rate':0.1}\n",
    "\n",
    "#%%time\n",
    "#Найдем время обучения\n",
    "start = time.time()\n",
    "\n",
    "#обучим модель на тренировочных данных\n",
    "lgbm = lgb.train(params,\n",
    "                lgb_train,\n",
    "                num_boost_round=50,\n",
    "                verbose_eval=100)\n",
    "\n",
    "end = time.time()\n",
    "time_lgbm_fit = end-start"
   ]
  },
  {
   "cell_type": "code",
   "execution_count": 80,
   "metadata": {},
   "outputs": [
    {
     "name": "stdout",
     "output_type": "stream",
     "text": [
      "CPU times: user 273 ms, sys: 0 ns, total: 273 ms\n",
      "Wall time: 300 ms\n"
     ]
    }
   ],
   "source": [
    "%%time\n",
    "#Найдем время предсказания\n",
    "start = time.time()\n",
    "\n",
    "# получим предсказания модели на валидационных данных \n",
    "predictions_lgbm = lgbm.predict(X_valid_oe, num_iteration=lgbm.best_iteration)\n",
    "\n",
    "end = time.time()\n",
    "time_lgbm_predict = end-start"
   ]
  },
  {
   "cell_type": "code",
   "execution_count": 81,
   "metadata": {},
   "outputs": [
    {
     "name": "stdout",
     "output_type": "stream",
     "text": [
      "Метрика RMCE: 1853.78\n",
      "Время обучения модели: 3.37 сек.\n",
      "Время предсказания модели: 0.3 сек.\n"
     ]
    }
   ],
   "source": [
    "# Оценка модели\n",
    "rmse_lgbm = mean_squared_error(y_valid, predictions_lgbm, squared=False)\n",
    "print('Метрика RMCE:', round(rmse_lgbm, 2))\n",
    "print('Время обучения модели:', round(time_lgbm_fit, 2), 'сек.')\n",
    "print('Время предсказания модели:', round(time_lgbm_predict, 2), 'сек.')"
   ]
  },
  {
   "cell_type": "markdown",
   "metadata": {},
   "source": [
    "## Анализ моделей"
   ]
  },
  {
   "cell_type": "code",
   "execution_count": 82,
   "metadata": {},
   "outputs": [
    {
     "data": {
      "text/html": [
       "<div>\n",
       "<style scoped>\n",
       "    .dataframe tbody tr th:only-of-type {\n",
       "        vertical-align: middle;\n",
       "    }\n",
       "\n",
       "    .dataframe tbody tr th {\n",
       "        vertical-align: top;\n",
       "    }\n",
       "\n",
       "    .dataframe thead th {\n",
       "        text-align: right;\n",
       "    }\n",
       "</style>\n",
       "<table border=\"1\" class=\"dataframe\">\n",
       "  <thead>\n",
       "    <tr style=\"text-align: right;\">\n",
       "      <th></th>\n",
       "      <th>Модель</th>\n",
       "      <th>RMCE</th>\n",
       "      <th>Время обучения модели</th>\n",
       "      <th>Время предсказания модели</th>\n",
       "    </tr>\n",
       "  </thead>\n",
       "  <tbody>\n",
       "    <tr>\n",
       "      <th>0</th>\n",
       "      <td>Linear Regression</td>\n",
       "      <td>2662.522819</td>\n",
       "      <td>20.109901</td>\n",
       "      <td>0.188873</td>\n",
       "    </tr>\n",
       "    <tr>\n",
       "      <th>1</th>\n",
       "      <td>Decision Tree Regressor</td>\n",
       "      <td>2105.748566</td>\n",
       "      <td>0.345732</td>\n",
       "      <td>0.007188</td>\n",
       "    </tr>\n",
       "    <tr>\n",
       "      <th>2</th>\n",
       "      <td>LightGBM</td>\n",
       "      <td>1853.783466</td>\n",
       "      <td>3.367735</td>\n",
       "      <td>0.299930</td>\n",
       "    </tr>\n",
       "  </tbody>\n",
       "</table>\n",
       "</div>"
      ],
      "text/plain": [
       "                    Модель         RMCE  Время обучения модели  \\\n",
       "0        Linear Regression  2662.522819              20.109901   \n",
       "1  Decision Tree Regressor  2105.748566               0.345732   \n",
       "2                 LightGBM  1853.783466               3.367735   \n",
       "\n",
       "   Время предсказания модели  \n",
       "0                   0.188873  \n",
       "1                   0.007188  \n",
       "2                   0.299930  "
      ]
     },
     "metadata": {},
     "output_type": "display_data"
    }
   ],
   "source": [
    "# Создадим датафрйм с результатами\n",
    "results = pd.DataFrame({'Модель': ['Linear Regression', 'Decision Tree Regressor', 'LightGBM'],\n",
    "                        'RMCE': [rmse_lr, rmse_tr, rmse_lgbm],\n",
    "                        'Время обучения модели': [time_lr_fit, time_tr_fit, time_lgbm_fit],\n",
    "                        'Время предсказания модели': [time_lr_predict, time_tr_predict, time_lgbm_predict]})\n",
    "display(results)"
   ]
  },
  {
   "cell_type": "markdown",
   "metadata": {},
   "source": [
    "Лучшая модель LightGBM, на валидационной выборке оценка качества модели RMSE 1853.78, при этом эта модель обучалась дольше всех 32 секунды.\n",
    "\n",
    "Модель Decision Tree Regressor\tоказалась самой быстрой, время обучения 0,32 секунды, оценка качества модели RMSE на валидационной выборке 2105,75, что удовлетворяет условия задачи (меньше 2500).\n",
    "\n",
    "Модель Linear Regression справилась хуже всех, RMSE на валидационной выборке 2662,52, что превышает требуемый показатель. "
   ]
  },
  {
   "cell_type": "markdown",
   "metadata": {},
   "source": [
    "Проверим качество лучшей модели LightGBM на тестовой выборке"
   ]
  },
  {
   "cell_type": "code",
   "execution_count": 83,
   "metadata": {},
   "outputs": [
    {
     "name": "stdout",
     "output_type": "stream",
     "text": [
      "CPU times: user 257 ms, sys: 0 ns, total: 257 ms\n",
      "Wall time: 268 ms\n"
     ]
    }
   ],
   "source": [
    "%%time\n",
    "#Найдем время предсказания\n",
    "start = time.time()\n",
    "\n",
    "# получим предсказания модели на валидационных данных \n",
    "predictions = lgbm.predict(X_test_oe, num_iteration=lgbm.best_iteration)\n",
    "\n",
    "end = time.time()\n",
    "time_lgbm_predict_finish = end-start"
   ]
  },
  {
   "cell_type": "code",
   "execution_count": 84,
   "metadata": {
    "scrolled": true
   },
   "outputs": [
    {
     "name": "stdout",
     "output_type": "stream",
     "text": [
      "Метрика RMCE: 1861.59\n",
      "Время предсказания модели: 0.27 сек.\n"
     ]
    }
   ],
   "source": [
    "# Оценка модели\n",
    "rmse_lgbm = mean_squared_error(y_test, predictions, squared=False)\n",
    "print('Метрика RMCE:', round(rmse_lgbm, 2))\n",
    "print('Время предсказания модели:', round(time_lgbm_predict_finish, 2), 'сек.')"
   ]
  },
  {
   "cell_type": "markdown",
   "metadata": {},
   "source": [
    "Лучшая модель на тестовых данных показала отличные результаты. "
   ]
  },
  {
   "cell_type": "markdown",
   "metadata": {},
   "source": [
    "## Анализ важности признаков"
   ]
  },
  {
   "cell_type": "code",
   "execution_count": 85,
   "metadata": {},
   "outputs": [
    {
     "data": {
      "text/plain": [
       "<AxesSubplot:title={'center':'Feature importance'}, xlabel='Feature importance', ylabel='Features'>"
      ]
     },
     "execution_count": 85,
     "metadata": {},
     "output_type": "execute_result"
    },
    {
     "data": {
      "image/png": "[encoded data removed]",
      "text/plain": [
       "<Figure size 432x288 with 1 Axes>"
      ]
     },
     "metadata": {
      "needs_background": "light"
     },
     "output_type": "display_data"
    }
   ],
   "source": [
    "lgb.plot_importance(lgbm)"
   ]
  },
  {
   "cell_type": "markdown",
   "metadata": {},
   "source": [
    "Самым важным признаком в нашей модели оказался registration_year — год регистрации автомобиля. Также на стоимость автомобиля сильно влияют power — мощность (л. с.) и brand — марка автомобиля, самый незначительный признак fuel_type — тип топлива"
   ]
  },
  {
   "cell_type": "markdown",
   "metadata": {},
   "source": [
    "## Общий вывод"
   ]
  },
  {
   "cell_type": "markdown",
   "metadata": {},
   "source": [
    "**Определение стоимости автомобилей**\n",
    "\n",
    "Сервис по продаже автомобилей с пробегом «Не бит, не крашен» разрабатывает приложение для привлечения новых клиентов. В нём можно быстро узнать рыночную стоимость своего автомобиля. В вашем распоряжении исторические данные: технические характеристики, комплектации и цены автомобилей. Вам нужно построить модель для определения стоимости. \n",
    "\n",
    "Заказчику важны:\n",
    "\n",
    "- качество предсказания;\n",
    "- скорость предсказания;\n",
    "- время обучения.\n",
    "\n",
    "**Цель исследования**\n",
    "\n",
    "Определить, рыночную стоимость автомобиля\n",
    "\n",
    "---\n",
    "\n",
    "**Задачи исследования**\n",
    "\n",
    "Построить модель, которая умеет её определять\n",
    "\n",
    "---\n",
    "\n",
    "**Исходные данные**  \n",
    "\n",
    "Данные находятся в файле `/datasets/autos.csv`\n",
    "\n",
    "- **DateCrawled** — дата скачивания анкеты из базы\n",
    "- **VehicleType** — тип автомобильного кузова\n",
    "- **RegistrationYear** — год регистрации автомобиля\n",
    "- **Gearbox** — тип коробки передач\n",
    "- **Power** — мощность (л. с.)\n",
    "- **Model** — модель автомобиля\n",
    "- **Kilometer** — пробег (км)\n",
    "- **RegistrationMonth** — месяц регистрации автомобиля\n",
    "- **FuelType** — тип топлива\n",
    "- **Brand** — марка автомобиля\n",
    "- **Repaired** — была машина в ремонте или нет\n",
    "- **DateCreated** — дата создания анкеты\n",
    "- **NumberOfPictures** — количество фотографий автомобиля\n",
    "- **PostalCode** — почтовый индекс владельца анкеты (пользователя)\n",
    "- **LastSeen** — дата последней активности пользователя\n",
    "- **Price** — цена (евро) (Целевой признак)\n",
    "\n",
    "---\n",
    "\n",
    "**Предобработка данных**\n",
    "\n",
    "На этапе предобработки данных:\n",
    "- удалили неинформативные признаки\n",
    "- привели название столбцов в единому стилю написания snake_case\n",
    "- удалили явные дубликаты\n",
    "- убедились, что типы столбцов указаны верно\n",
    "\n",
    "В данных остались пропуски, которые проработали их на этапе исследовательского анализа данных.\n",
    "\n",
    "---\n",
    "\n",
    "**Исследовательский анализ данных**\n",
    "\n",
    "На этапе исследовательского анализа:\n",
    "\n",
    "- В столбце `Price — цена (евро)`, удалили автомобили, чья стоимость равняется нулю. В столбце так же остались выбросы (автомобили дороже 15000 евро). Данные значения реалистичны, поэтому на данном этапе удалять не будем\n",
    "\n",
    "- В столбце `vehicle_type — тип автомобильного кузова`, пропущенные значения заменили на 'other'\n",
    "\n",
    "- В столбце `registration_year — год регистрации автомобиля` оставили автомобили выпущенные с 1970-2023 года. \n",
    "\n",
    "- В столбце `gearbox — тип коробки передач` Пропущенные значения заменили на \"unknown\"\n",
    "\n",
    "- В столбце `Power — мощность (л. с.)` заменили нули на медианное значение внутри бренда.\n",
    "    Удалили машины с двигателем менее 4,2 л.с. и более 400 л.с. В данных еще остались выбросы, машины мощнее 250 л.с., но эти данные правдоподобны по значениям.\n",
    "    \n",
    "- В столбце `model — модель автомобиля` Пропущенные значения заменили на \"unknown\", а 'rangerover' на 'range_rover'\n",
    "\n",
    "- В столбце `kilometer — пробег (км)` есть выбросы, но они реалистичны по значениям, на данном этапе удалять их не будем.\n",
    "\n",
    "- В столбце `fuel_type — тип топлива` переименовали 'gasoline' в 'petrol', поскольку оба означают \"бензин\", пропуски заменили на 'other'\n",
    "\n",
    "- В столбце `brand — марка автомобиля` данные корректны, явных дубликатов нет.\n",
    "\n",
    "- В столбце ` repaired — была машина в ремонте или нет` Пропущенные значения заменили на \"unknown\"\n",
    "\n",
    "После всех преобразований данных удалили явные дубликаты\n",
    "\n",
    "--- \n",
    "\n",
    "**Корреляционный анализ**\n",
    "\n",
    "Из анализа матрицы корреляции датасета data видно, что мультиколлинеарности нет.\n",
    "\n",
    "При этом целевой признак `price — цена (евро)`:\n",
    "- Сильно коррелирует (0.67) с registration_year — год регистрации автомобиля\n",
    "- Сильно коррелирует (0.58) с model — модель автомобиля\n",
    "- Средне коррелирует (0.49) с power — мощность (л. с.)\n",
    "\n",
    "Также прослеживается связь между признаками:\n",
    "- model — модель автомобиля очень сильно коррелирует (0.90) с vehicle_type — тип автомобильного кузова\n",
    "- brand — марка автомобиля сильно коррелирует (0.65) с power — мощность (л. с.)\n",
    "- brand — марка автомобиля сильно коррелирует (0.62) с vehicle_type — тип автомобильного кузова\n",
    "- model — модель автомобиля сильно коррелирует (0.79) с power — мощность (л. с.)\n",
    "- model — модель автомобиля сильно коррелирует (0.64) с registration_year — год регистрации автомобиля\n",
    "- model — модель автомобиля сильно коррелирует (0.62) с gearbox — тип коробки передач\n",
    "- model — модель автомобиля коррелирует с brand — марка автомобиля\n",
    "\n",
    "Все связи логичны и объяснимы, утечки целевого признака нет.\n",
    "\n",
    "---\n",
    "\n",
    "**Обучение моделей**\n",
    "\n",
    "На данном этапе была проведена подготовка данных.\n",
    "\n",
    "в качестве моделей рассматривались: 'Linear Regression', 'Decision Tree Regressor', 'LightGBM'\n",
    "\n",
    "Для 'Linear Regression':\n",
    "- Метрика RMCE: 2675.23\n",
    "- Время обучения модели: 21.41 сек.\n",
    "- Время предсказания модели: 0.21 сек.\n",
    "\n",
    "Для 'Decision Tree Regressor':\n",
    "- Метрика RMCE: 2114.99\n",
    "- Время обучения модели: 3.81 сек.\n",
    "- Время предсказания модели: 0.07 сек.\n",
    "\n",
    "Для 'LightGBM':\n",
    "- Метрика RMCE: 1845.54\n",
    "- Время обучения модели: 156.86 сек.\n",
    "- Время предсказания модели: 0.56 сек.\n",
    "\n",
    "---\n",
    "\n",
    "**Анализ моделей**\n",
    "\n",
    "Лучшая модель LightGBM, на валидационной выборке оценка качества модели RMSE 1853.78, при этом эта модель обучалась дольше всех 32 секунды.\n",
    "\n",
    "Модель Decision Tree Regressor\tоказалась самой быстрой, время обучения 0,32 секунды, оценка качества модели RMSE на валидационной выборке 2105,75, что удовлетворяет условия задачи (меньше 2500).\n",
    "\n",
    "Модель Linear Regression справилась хуже всех, RMSE на валидационной выборке 2662,52, что превышает требуемый показатель. \n",
    "\n",
    "---\n",
    "\n",
    "**Предсказание на тестовых данных**\n",
    "\n",
    "Лучшая модель (LightGBM) на тестовых данных показала отличные результаты.\n",
    "\n",
    "- Метрика RMCE: 1861.59\n",
    "- Время предсказания модели: 0.25 сек.\n",
    "\n",
    "---\n",
    "\n",
    "**Анализ важности признаков**\n",
    "\n",
    "Самым важным признаком в нашей модели оказался registration_year — год регистрации автомобиля. Также на стоимость автомобиля сильно влияют power — мощность (л. с.) и brand — марка автомобиля, самый незначительный признак fuel_type — тип топлива"
   ]
  },
  {
   "cell_type": "code",
   "execution_count": null,
   "metadata": {},
   "outputs": [],
   "source": []
  }
 ],
 "metadata": {
  "ExecuteTimeLog": [
   {
    "duration": 5194,
    "start_time": "2024-07-18T04:38:40.740Z"
   },
   {
    "duration": 3034,
    "start_time": "2024-07-18T04:39:49.353Z"
   },
   {
    "duration": 18,
    "start_time": "2024-07-18T04:40:11.524Z"
   },
   {
    "duration": 5,
    "start_time": "2024-07-18T04:41:08.241Z"
   },
   {
    "duration": 945,
    "start_time": "2024-07-18T04:41:35.240Z"
   },
   {
    "duration": 37,
    "start_time": "2024-07-18T04:56:05.007Z"
   },
   {
    "duration": 45,
    "start_time": "2024-07-18T05:00:54.833Z"
   },
   {
    "duration": 42,
    "start_time": "2024-07-18T05:01:34.976Z"
   },
   {
    "duration": 42,
    "start_time": "2024-07-18T05:02:00.205Z"
   },
   {
    "duration": 478,
    "start_time": "2024-07-18T05:05:09.841Z"
   },
   {
    "duration": 104,
    "start_time": "2024-07-18T05:09:37.317Z"
   },
   {
    "duration": 95,
    "start_time": "2024-07-18T05:09:46.494Z"
   },
   {
    "duration": 10,
    "start_time": "2024-07-18T05:10:06.323Z"
   },
   {
    "duration": 12,
    "start_time": "2024-07-18T05:11:36.463Z"
   },
   {
    "duration": 21,
    "start_time": "2024-07-18T05:11:41.230Z"
   },
   {
    "duration": 5,
    "start_time": "2024-07-18T05:24:14.202Z"
   },
   {
    "duration": 5,
    "start_time": "2024-07-18T05:25:07.350Z"
   },
   {
    "duration": 5,
    "start_time": "2024-07-18T05:25:23.509Z"
   },
   {
    "duration": 11,
    "start_time": "2024-07-18T05:26:16.163Z"
   },
   {
    "duration": 31,
    "start_time": "2024-07-18T05:27:26.365Z"
   },
   {
    "duration": 380,
    "start_time": "2024-07-18T05:28:38.950Z"
   },
   {
    "duration": 16,
    "start_time": "2024-07-18T05:30:03.824Z"
   },
   {
    "duration": 42,
    "start_time": "2024-07-18T05:34:03.358Z"
   },
   {
    "duration": 14,
    "start_time": "2024-07-18T05:34:19.480Z"
   },
   {
    "duration": 1273,
    "start_time": "2024-07-18T05:38:48.364Z"
   },
   {
    "duration": 980,
    "start_time": "2024-07-18T05:38:49.639Z"
   },
   {
    "duration": 6,
    "start_time": "2024-07-18T05:38:50.620Z"
   },
   {
    "duration": 965,
    "start_time": "2024-07-18T05:38:50.629Z"
   },
   {
    "duration": 22,
    "start_time": "2024-07-18T05:38:51.596Z"
   },
   {
    "duration": 26,
    "start_time": "2024-07-18T05:38:51.620Z"
   },
   {
    "duration": 64,
    "start_time": "2024-07-18T05:38:51.648Z"
   },
   {
    "duration": 632,
    "start_time": "2024-07-18T05:38:51.713Z"
   },
   {
    "duration": 4,
    "start_time": "2024-07-18T05:38:52.347Z"
   },
   {
    "duration": 14,
    "start_time": "2024-07-18T05:38:52.353Z"
   },
   {
    "duration": 14,
    "start_time": "2024-07-18T05:38:52.368Z"
   },
   {
    "duration": 41,
    "start_time": "2024-07-18T05:38:52.384Z"
   },
   {
    "duration": 384,
    "start_time": "2024-07-18T05:38:52.427Z"
   },
   {
    "duration": 14,
    "start_time": "2024-07-18T05:38:52.813Z"
   },
   {
    "duration": 68,
    "start_time": "2024-07-18T05:38:52.829Z"
   },
   {
    "duration": 401,
    "start_time": "2024-07-18T05:44:44.073Z"
   },
   {
    "duration": 1200,
    "start_time": "2024-07-18T05:44:56.956Z"
   },
   {
    "duration": 967,
    "start_time": "2024-07-18T05:44:58.159Z"
   },
   {
    "duration": 5,
    "start_time": "2024-07-18T05:44:59.128Z"
   },
   {
    "duration": 963,
    "start_time": "2024-07-18T05:44:59.135Z"
   },
   {
    "duration": 13,
    "start_time": "2024-07-18T05:45:00.100Z"
   },
   {
    "duration": 69,
    "start_time": "2024-07-18T05:45:00.115Z"
   },
   {
    "duration": 50,
    "start_time": "2024-07-18T05:45:00.186Z"
   },
   {
    "duration": 455,
    "start_time": "2024-07-18T05:45:00.238Z"
   },
   {
    "duration": 449,
    "start_time": "2024-07-18T05:45:00.695Z"
   },
   {
    "duration": 6,
    "start_time": "2024-07-18T05:45:01.145Z"
   },
   {
    "duration": 109,
    "start_time": "2024-07-18T05:45:01.152Z"
   },
   {
    "duration": 47,
    "start_time": "2024-07-18T05:45:01.263Z"
   },
   {
    "duration": 207,
    "start_time": "2024-07-18T05:45:01.311Z"
   },
   {
    "duration": 410,
    "start_time": "2024-07-18T05:45:01.521Z"
   },
   {
    "duration": 17,
    "start_time": "2024-07-18T05:45:01.933Z"
   },
   {
    "duration": 29,
    "start_time": "2024-07-18T05:45:01.952Z"
   },
   {
    "duration": 420,
    "start_time": "2024-07-18T05:45:41.665Z"
   },
   {
    "duration": 73,
    "start_time": "2024-07-18T05:52:52.441Z"
   },
   {
    "duration": 14,
    "start_time": "2024-07-18T05:52:59.700Z"
   },
   {
    "duration": 16,
    "start_time": "2024-07-18T05:54:30.130Z"
   },
   {
    "duration": 33,
    "start_time": "2024-07-18T06:02:30.303Z"
   },
   {
    "duration": 21,
    "start_time": "2024-07-18T06:02:38.175Z"
   },
   {
    "duration": 15,
    "start_time": "2024-07-18T06:02:40.629Z"
   },
   {
    "duration": 351,
    "start_time": "2024-07-18T06:03:08.946Z"
   },
   {
    "duration": 32,
    "start_time": "2024-07-18T06:17:43.769Z"
   },
   {
    "duration": 4,
    "start_time": "2024-07-18T06:25:15.988Z"
   },
   {
    "duration": 128,
    "start_time": "2024-07-18T06:25:47.255Z"
   },
   {
    "duration": 40,
    "start_time": "2024-07-18T06:43:23.889Z"
   },
   {
    "duration": 50,
    "start_time": "2024-07-18T06:43:35.859Z"
   },
   {
    "duration": 17,
    "start_time": "2024-07-18T06:43:58.433Z"
   },
   {
    "duration": 45,
    "start_time": "2024-07-18T06:43:59.328Z"
   },
   {
    "duration": 17,
    "start_time": "2024-07-18T06:44:15.411Z"
   },
   {
    "duration": 46,
    "start_time": "2024-07-18T06:44:17.582Z"
   },
   {
    "duration": 1212,
    "start_time": "2024-07-18T06:44:22.603Z"
   },
   {
    "duration": 977,
    "start_time": "2024-07-18T06:44:23.817Z"
   },
   {
    "duration": 5,
    "start_time": "2024-07-18T06:44:24.796Z"
   },
   {
    "duration": 958,
    "start_time": "2024-07-18T06:44:24.803Z"
   },
   {
    "duration": 20,
    "start_time": "2024-07-18T06:44:25.763Z"
   },
   {
    "duration": 43,
    "start_time": "2024-07-18T06:44:25.784Z"
   },
   {
    "duration": 42,
    "start_time": "2024-07-18T06:44:25.829Z"
   },
   {
    "duration": 461,
    "start_time": "2024-07-18T06:44:25.873Z"
   },
   {
    "duration": 452,
    "start_time": "2024-07-18T06:44:26.336Z"
   },
   {
    "duration": 4,
    "start_time": "2024-07-18T06:44:26.790Z"
   },
   {
    "duration": 14,
    "start_time": "2024-07-18T06:44:26.796Z"
   },
   {
    "duration": 5,
    "start_time": "2024-07-18T06:44:26.812Z"
   },
   {
    "duration": 47,
    "start_time": "2024-07-18T06:44:26.819Z"
   },
   {
    "duration": 27,
    "start_time": "2024-07-18T06:44:26.868Z"
   },
   {
    "duration": 21,
    "start_time": "2024-07-18T06:44:26.897Z"
   },
   {
    "duration": 389,
    "start_time": "2024-07-18T06:44:26.920Z"
   },
   {
    "duration": 14,
    "start_time": "2024-07-18T06:44:27.311Z"
   },
   {
    "duration": 132,
    "start_time": "2024-07-18T06:44:27.327Z"
   },
   {
    "duration": 32,
    "start_time": "2024-07-18T06:44:27.460Z"
   },
   {
    "duration": 45,
    "start_time": "2024-07-18T06:44:27.494Z"
   },
   {
    "duration": 14,
    "start_time": "2024-07-18T06:44:27.541Z"
   },
   {
    "duration": 19,
    "start_time": "2024-07-18T06:45:12.118Z"
   },
   {
    "duration": 168,
    "start_time": "2024-07-18T06:45:12.761Z"
   },
   {
    "duration": 1222,
    "start_time": "2024-07-18T06:45:18.310Z"
   },
   {
    "duration": 1006,
    "start_time": "2024-07-18T06:45:19.534Z"
   },
   {
    "duration": 6,
    "start_time": "2024-07-18T06:45:20.541Z"
   },
   {
    "duration": 1006,
    "start_time": "2024-07-18T06:45:20.549Z"
   },
   {
    "duration": 25,
    "start_time": "2024-07-18T06:45:21.557Z"
   },
   {
    "duration": 41,
    "start_time": "2024-07-18T06:45:21.584Z"
   },
   {
    "duration": 45,
    "start_time": "2024-07-18T06:45:21.627Z"
   },
   {
    "duration": 491,
    "start_time": "2024-07-18T06:45:21.674Z"
   },
   {
    "duration": 441,
    "start_time": "2024-07-18T06:45:22.167Z"
   },
   {
    "duration": 5,
    "start_time": "2024-07-18T06:45:22.611Z"
   },
   {
    "duration": 31,
    "start_time": "2024-07-18T06:45:22.618Z"
   },
   {
    "duration": 12,
    "start_time": "2024-07-18T06:45:22.650Z"
   },
   {
    "duration": 44,
    "start_time": "2024-07-18T06:45:22.664Z"
   },
   {
    "duration": 16,
    "start_time": "2024-07-18T06:45:22.710Z"
   },
   {
    "duration": 21,
    "start_time": "2024-07-18T06:45:22.728Z"
   },
   {
    "duration": 408,
    "start_time": "2024-07-18T06:45:22.750Z"
   },
   {
    "duration": 22,
    "start_time": "2024-07-18T06:45:23.160Z"
   },
   {
    "duration": 149,
    "start_time": "2024-07-18T06:45:23.184Z"
   },
   {
    "duration": 19,
    "start_time": "2024-07-18T06:45:23.335Z"
   },
   {
    "duration": 153,
    "start_time": "2024-07-18T06:45:23.356Z"
   },
   {
    "duration": 14,
    "start_time": "2024-07-18T06:45:23.510Z"
   },
   {
    "duration": 420,
    "start_time": "2024-07-18T06:46:25.780Z"
   },
   {
    "duration": 7,
    "start_time": "2024-07-18T06:46:59.324Z"
   },
   {
    "duration": 403,
    "start_time": "2024-07-18T06:47:03.258Z"
   },
   {
    "duration": 28,
    "start_time": "2024-07-18T06:49:56.077Z"
   },
   {
    "duration": 348,
    "start_time": "2024-07-18T06:51:55.825Z"
   },
   {
    "duration": 1089,
    "start_time": "2024-07-18T06:59:18.992Z"
   },
   {
    "duration": 6,
    "start_time": "2024-07-18T06:59:38.864Z"
   },
   {
    "duration": 31,
    "start_time": "2024-07-18T07:37:48.591Z"
   },
   {
    "duration": 7,
    "start_time": "2024-07-18T07:38:58.241Z"
   },
   {
    "duration": 7,
    "start_time": "2024-07-18T07:42:07.837Z"
   },
   {
    "duration": 71,
    "start_time": "2024-07-18T07:49:38.135Z"
   },
   {
    "duration": 6,
    "start_time": "2024-07-18T07:52:34.772Z"
   },
   {
    "duration": 10,
    "start_time": "2024-07-18T07:53:13.881Z"
   },
   {
    "duration": 8,
    "start_time": "2024-07-18T07:53:42.652Z"
   },
   {
    "duration": 38,
    "start_time": "2024-07-18T08:03:28.960Z"
   },
   {
    "duration": 22,
    "start_time": "2024-07-18T08:04:07.942Z"
   },
   {
    "duration": 5,
    "start_time": "2024-07-18T08:04:21.787Z"
   },
   {
    "duration": 4,
    "start_time": "2024-07-18T08:04:46.333Z"
   },
   {
    "duration": 4,
    "start_time": "2024-07-18T08:04:54.678Z"
   },
   {
    "duration": 4,
    "start_time": "2024-07-18T08:05:13.989Z"
   },
   {
    "duration": 4,
    "start_time": "2024-07-18T08:05:46.525Z"
   },
   {
    "duration": 290,
    "start_time": "2024-07-18T08:06:42.157Z"
   },
   {
    "duration": 2,
    "start_time": "2024-07-18T08:09:36.163Z"
   },
   {
    "duration": 119,
    "start_time": "2024-07-18T08:10:41.919Z"
   },
   {
    "duration": 1353,
    "start_time": "2024-07-18T09:04:49.785Z"
   },
   {
    "duration": 2469,
    "start_time": "2024-07-18T09:05:02.275Z"
   },
   {
    "duration": 2380,
    "start_time": "2024-07-18T09:33:31.416Z"
   },
   {
    "duration": 1258,
    "start_time": "2024-07-18T09:34:55.294Z"
   },
   {
    "duration": 1005,
    "start_time": "2024-07-18T09:34:56.554Z"
   },
   {
    "duration": 6,
    "start_time": "2024-07-18T09:34:57.561Z"
   },
   {
    "duration": 974,
    "start_time": "2024-07-18T09:34:57.568Z"
   },
   {
    "duration": 14,
    "start_time": "2024-07-18T09:34:58.545Z"
   },
   {
    "duration": 45,
    "start_time": "2024-07-18T09:34:58.560Z"
   },
   {
    "duration": 40,
    "start_time": "2024-07-18T09:34:58.607Z"
   },
   {
    "duration": 461,
    "start_time": "2024-07-18T09:34:58.649Z"
   },
   {
    "duration": 456,
    "start_time": "2024-07-18T09:34:59.111Z"
   },
   {
    "duration": 5,
    "start_time": "2024-07-18T09:34:59.568Z"
   },
   {
    "duration": 8,
    "start_time": "2024-07-18T09:34:59.581Z"
   },
   {
    "duration": 7,
    "start_time": "2024-07-18T09:34:59.590Z"
   },
   {
    "duration": 34,
    "start_time": "2024-07-18T09:34:59.598Z"
   },
   {
    "duration": 15,
    "start_time": "2024-07-18T09:34:59.634Z"
   },
   {
    "duration": 46,
    "start_time": "2024-07-18T09:34:59.651Z"
   },
   {
    "duration": 396,
    "start_time": "2024-07-18T09:34:59.699Z"
   },
   {
    "duration": 15,
    "start_time": "2024-07-18T09:35:00.096Z"
   },
   {
    "duration": 145,
    "start_time": "2024-07-18T09:35:00.112Z"
   },
   {
    "duration": 36,
    "start_time": "2024-07-18T09:35:00.258Z"
   },
   {
    "duration": 543,
    "start_time": "2024-07-18T09:35:00.296Z"
   },
   {
    "duration": 20,
    "start_time": "2024-07-18T09:35:00.840Z"
   },
   {
    "duration": 520,
    "start_time": "2024-07-18T09:35:00.862Z"
   },
   {
    "duration": 7,
    "start_time": "2024-07-18T09:35:01.384Z"
   },
   {
    "duration": 154,
    "start_time": "2024-07-18T09:35:01.393Z"
   },
   {
    "duration": 57,
    "start_time": "2024-07-18T09:35:01.549Z"
   },
   {
    "duration": 43,
    "start_time": "2024-07-18T09:35:01.608Z"
   },
   {
    "duration": 52,
    "start_time": "2024-07-18T09:35:01.652Z"
   },
   {
    "duration": 353,
    "start_time": "2024-07-18T09:35:01.706Z"
   },
   {
    "duration": 130,
    "start_time": "2024-07-18T09:35:02.060Z"
   },
   {
    "duration": 33,
    "start_time": "2024-07-18T09:35:02.192Z"
   },
   {
    "duration": 21,
    "start_time": "2024-07-18T09:35:02.227Z"
   },
   {
    "duration": 21,
    "start_time": "2024-07-18T09:37:03.782Z"
   },
   {
    "duration": 32,
    "start_time": "2024-07-18T09:37:46.268Z"
   },
   {
    "duration": 19,
    "start_time": "2024-07-18T09:46:49.403Z"
   },
   {
    "duration": 337,
    "start_time": "2024-07-18T09:47:16.666Z"
   },
   {
    "duration": 65,
    "start_time": "2024-07-18T09:49:58.418Z"
   },
   {
    "duration": 2,
    "start_time": "2024-07-18T09:50:27.132Z"
   },
   {
    "duration": 25,
    "start_time": "2024-07-18T09:50:47.394Z"
   },
   {
    "duration": 324,
    "start_time": "2024-07-18T10:00:58.724Z"
   },
   {
    "duration": 476,
    "start_time": "2024-07-18T10:01:10.991Z"
   },
   {
    "duration": 26,
    "start_time": "2024-07-18T10:02:37.005Z"
   },
   {
    "duration": 21,
    "start_time": "2024-07-18T10:03:14.627Z"
   },
   {
    "duration": 21,
    "start_time": "2024-07-18T10:03:19.699Z"
   },
   {
    "duration": 20,
    "start_time": "2024-07-18T10:06:58.406Z"
   },
   {
    "duration": 92,
    "start_time": "2024-07-18T10:12:45.555Z"
   },
   {
    "duration": 105,
    "start_time": "2024-07-18T10:13:21.928Z"
   },
   {
    "duration": 98,
    "start_time": "2024-07-18T10:13:27.207Z"
   },
   {
    "duration": 9,
    "start_time": "2024-07-18T10:20:34.097Z"
   },
   {
    "duration": 29,
    "start_time": "2024-07-18T11:09:42.537Z"
   },
   {
    "duration": 27,
    "start_time": "2024-07-18T11:09:55.758Z"
   },
   {
    "duration": 8,
    "start_time": "2024-07-18T11:10:32.031Z"
   },
   {
    "duration": 74,
    "start_time": "2024-07-18T11:12:36.583Z"
   },
   {
    "duration": 62,
    "start_time": "2024-07-18T11:12:43.351Z"
   },
   {
    "duration": 126,
    "start_time": "2024-07-18T11:12:49.980Z"
   },
   {
    "duration": 6,
    "start_time": "2024-07-18T11:12:58.007Z"
   },
   {
    "duration": 6,
    "start_time": "2024-07-18T11:13:27.613Z"
   },
   {
    "duration": 177,
    "start_time": "2024-07-18T11:39:44.866Z"
   },
   {
    "duration": 6,
    "start_time": "2024-07-18T11:40:15.301Z"
   },
   {
    "duration": 393,
    "start_time": "2024-07-18T11:41:46.076Z"
   },
   {
    "duration": 98,
    "start_time": "2024-07-18T11:42:52.091Z"
   },
   {
    "duration": 96,
    "start_time": "2024-07-18T11:43:17.049Z"
   },
   {
    "duration": 12,
    "start_time": "2024-07-18T11:45:24.316Z"
   },
   {
    "duration": 1345,
    "start_time": "2024-07-18T12:42:39.887Z"
   },
   {
    "duration": 1038,
    "start_time": "2024-07-18T12:42:41.234Z"
   },
   {
    "duration": 7,
    "start_time": "2024-07-18T12:42:42.274Z"
   },
   {
    "duration": 1107,
    "start_time": "2024-07-18T12:42:42.284Z"
   },
   {
    "duration": 14,
    "start_time": "2024-07-18T12:42:43.393Z"
   },
   {
    "duration": 31,
    "start_time": "2024-07-18T12:42:43.409Z"
   },
   {
    "duration": 75,
    "start_time": "2024-07-18T12:42:43.443Z"
   },
   {
    "duration": 483,
    "start_time": "2024-07-18T12:42:43.520Z"
   },
   {
    "duration": 469,
    "start_time": "2024-07-18T12:42:44.005Z"
   },
   {
    "duration": 5,
    "start_time": "2024-07-18T12:42:44.483Z"
   },
   {
    "duration": 6,
    "start_time": "2024-07-18T12:42:44.489Z"
   },
   {
    "duration": 7,
    "start_time": "2024-07-18T12:42:44.496Z"
   },
   {
    "duration": 34,
    "start_time": "2024-07-18T12:42:44.505Z"
   },
   {
    "duration": 41,
    "start_time": "2024-07-18T12:42:44.542Z"
   },
   {
    "duration": 21,
    "start_time": "2024-07-18T12:42:44.584Z"
   },
   {
    "duration": 389,
    "start_time": "2024-07-18T12:42:44.607Z"
   },
   {
    "duration": 15,
    "start_time": "2024-07-18T12:42:44.998Z"
   },
   {
    "duration": 139,
    "start_time": "2024-07-18T12:42:45.014Z"
   },
   {
    "duration": 33,
    "start_time": "2024-07-18T12:42:45.154Z"
   },
   {
    "duration": 437,
    "start_time": "2024-07-18T12:42:45.189Z"
   },
   {
    "duration": 28,
    "start_time": "2024-07-18T12:42:45.629Z"
   },
   {
    "duration": 352,
    "start_time": "2024-07-18T12:42:45.659Z"
   },
   {
    "duration": 7,
    "start_time": "2024-07-18T12:42:46.012Z"
   },
   {
    "duration": 55,
    "start_time": "2024-07-18T12:42:46.021Z"
   },
   {
    "duration": 7,
    "start_time": "2024-07-18T12:42:46.078Z"
   },
   {
    "duration": 9,
    "start_time": "2024-07-18T12:42:46.087Z"
   },
   {
    "duration": 26,
    "start_time": "2024-07-18T12:42:46.098Z"
   },
   {
    "duration": 321,
    "start_time": "2024-07-18T12:42:46.127Z"
   },
   {
    "duration": 137,
    "start_time": "2024-07-18T12:42:46.449Z"
   },
   {
    "duration": 31,
    "start_time": "2024-07-18T12:42:46.587Z"
   },
   {
    "duration": 22,
    "start_time": "2024-07-18T12:42:46.620Z"
   },
   {
    "duration": 311,
    "start_time": "2024-07-18T12:42:46.644Z"
   },
   {
    "duration": 33,
    "start_time": "2024-07-18T12:42:46.957Z"
   },
   {
    "duration": 21,
    "start_time": "2024-07-18T12:42:46.991Z"
   },
   {
    "duration": 196,
    "start_time": "2024-07-18T12:42:47.014Z"
   },
   {
    "duration": 30,
    "start_time": "2024-07-18T12:42:47.212Z"
   },
   {
    "duration": 12,
    "start_time": "2024-07-18T12:42:47.244Z"
   },
   {
    "duration": 7,
    "start_time": "2024-07-18T12:42:47.281Z"
   },
   {
    "duration": 99,
    "start_time": "2024-07-18T12:42:47.290Z"
   },
   {
    "duration": 358,
    "start_time": "2024-07-18T12:42:47.391Z"
   },
   {
    "duration": 15,
    "start_time": "2024-07-18T12:42:47.751Z"
   },
   {
    "duration": 6,
    "start_time": "2024-07-18T12:42:47.783Z"
   },
   {
    "duration": 269,
    "start_time": "2024-07-18T12:44:28.872Z"
   },
   {
    "duration": 1234,
    "start_time": "2024-07-18T12:44:34.192Z"
   },
   {
    "duration": 976,
    "start_time": "2024-07-18T12:44:35.428Z"
   },
   {
    "duration": 5,
    "start_time": "2024-07-18T12:44:36.406Z"
   },
   {
    "duration": 995,
    "start_time": "2024-07-18T12:44:36.413Z"
   },
   {
    "duration": 21,
    "start_time": "2024-07-18T12:44:37.411Z"
   },
   {
    "duration": 50,
    "start_time": "2024-07-18T12:44:37.434Z"
   },
   {
    "duration": 45,
    "start_time": "2024-07-18T12:44:37.486Z"
   },
   {
    "duration": 509,
    "start_time": "2024-07-18T12:44:37.533Z"
   },
   {
    "duration": 502,
    "start_time": "2024-07-18T12:44:38.044Z"
   },
   {
    "duration": 5,
    "start_time": "2024-07-18T12:44:38.548Z"
   },
   {
    "duration": 6,
    "start_time": "2024-07-18T12:44:38.554Z"
   },
   {
    "duration": 22,
    "start_time": "2024-07-18T12:44:38.561Z"
   },
   {
    "duration": 36,
    "start_time": "2024-07-18T12:44:38.584Z"
   },
   {
    "duration": 16,
    "start_time": "2024-07-18T12:44:38.625Z"
   },
   {
    "duration": 44,
    "start_time": "2024-07-18T12:44:38.642Z"
   },
   {
    "duration": 385,
    "start_time": "2024-07-18T12:44:38.688Z"
   },
   {
    "duration": 19,
    "start_time": "2024-07-18T12:44:39.075Z"
   },
   {
    "duration": 146,
    "start_time": "2024-07-18T12:44:39.096Z"
   },
   {
    "duration": 39,
    "start_time": "2024-07-18T12:44:39.244Z"
   },
   {
    "duration": 399,
    "start_time": "2024-07-18T12:44:39.285Z"
   },
   {
    "duration": 20,
    "start_time": "2024-07-18T12:44:39.686Z"
   },
   {
    "duration": 366,
    "start_time": "2024-07-18T12:44:39.708Z"
   },
   {
    "duration": 6,
    "start_time": "2024-07-18T12:44:40.082Z"
   },
   {
    "duration": 37,
    "start_time": "2024-07-18T12:44:40.090Z"
   },
   {
    "duration": 8,
    "start_time": "2024-07-18T12:44:40.128Z"
   },
   {
    "duration": 11,
    "start_time": "2024-07-18T12:44:40.137Z"
   },
   {
    "duration": 52,
    "start_time": "2024-07-18T12:44:40.150Z"
   },
   {
    "duration": 316,
    "start_time": "2024-07-18T12:44:40.204Z"
   },
   {
    "duration": 129,
    "start_time": "2024-07-18T12:44:40.522Z"
   },
   {
    "duration": 41,
    "start_time": "2024-07-18T12:44:40.653Z"
   },
   {
    "duration": 18,
    "start_time": "2024-07-18T12:44:40.695Z"
   },
   {
    "duration": 313,
    "start_time": "2024-07-18T12:44:40.715Z"
   },
   {
    "duration": 21,
    "start_time": "2024-07-18T12:44:41.030Z"
   },
   {
    "duration": 42,
    "start_time": "2024-07-18T12:44:41.053Z"
   },
   {
    "duration": 185,
    "start_time": "2024-07-18T12:44:41.097Z"
   },
   {
    "duration": 23,
    "start_time": "2024-07-18T12:44:41.285Z"
   },
   {
    "duration": 10,
    "start_time": "2024-07-18T12:44:41.310Z"
   },
   {
    "duration": 7,
    "start_time": "2024-07-18T12:44:41.322Z"
   },
   {
    "duration": 121,
    "start_time": "2024-07-18T12:44:41.331Z"
   },
   {
    "duration": 377,
    "start_time": "2024-07-18T12:44:41.454Z"
   },
   {
    "duration": 13,
    "start_time": "2024-07-18T12:44:41.835Z"
   },
   {
    "duration": 5,
    "start_time": "2024-07-18T12:44:41.850Z"
   },
   {
    "duration": 5,
    "start_time": "2024-07-18T12:45:41.587Z"
   },
   {
    "duration": 4,
    "start_time": "2024-07-18T12:47:12.121Z"
   },
   {
    "duration": 1246,
    "start_time": "2024-07-18T12:47:40.781Z"
   },
   {
    "duration": 988,
    "start_time": "2024-07-18T12:47:42.029Z"
   },
   {
    "duration": 5,
    "start_time": "2024-07-18T12:47:43.019Z"
   },
   {
    "duration": 982,
    "start_time": "2024-07-18T12:47:43.026Z"
   },
   {
    "duration": 13,
    "start_time": "2024-07-18T12:47:44.010Z"
   },
   {
    "duration": 71,
    "start_time": "2024-07-18T12:47:44.024Z"
   },
   {
    "duration": 43,
    "start_time": "2024-07-18T12:47:44.096Z"
   },
   {
    "duration": 465,
    "start_time": "2024-07-18T12:47:44.140Z"
   },
   {
    "duration": 432,
    "start_time": "2024-07-18T12:47:44.608Z"
   },
   {
    "duration": 6,
    "start_time": "2024-07-18T12:47:45.041Z"
   },
   {
    "duration": 33,
    "start_time": "2024-07-18T12:47:45.049Z"
   },
   {
    "duration": 46,
    "start_time": "2024-07-18T12:47:45.084Z"
   },
   {
    "duration": 76,
    "start_time": "2024-07-18T12:47:45.132Z"
   },
   {
    "duration": 15,
    "start_time": "2024-07-18T12:47:45.212Z"
   },
   {
    "duration": 30,
    "start_time": "2024-07-18T12:47:45.229Z"
   },
   {
    "duration": 396,
    "start_time": "2024-07-18T12:47:45.261Z"
   },
   {
    "duration": 27,
    "start_time": "2024-07-18T12:47:45.658Z"
   },
   {
    "duration": 133,
    "start_time": "2024-07-18T12:47:45.687Z"
   },
   {
    "duration": 18,
    "start_time": "2024-07-18T12:47:45.822Z"
   },
   {
    "duration": 427,
    "start_time": "2024-07-18T12:47:45.842Z"
   },
   {
    "duration": 31,
    "start_time": "2024-07-18T12:47:46.271Z"
   },
   {
    "duration": 313,
    "start_time": "2024-07-18T12:47:46.304Z"
   },
   {
    "duration": 7,
    "start_time": "2024-07-18T12:47:46.619Z"
   },
   {
    "duration": 42,
    "start_time": "2024-07-18T12:47:46.628Z"
   },
   {
    "duration": 14,
    "start_time": "2024-07-18T12:47:46.671Z"
   },
   {
    "duration": 9,
    "start_time": "2024-07-18T12:47:46.686Z"
   },
   {
    "duration": 32,
    "start_time": "2024-07-18T12:47:46.696Z"
   },
   {
    "duration": 316,
    "start_time": "2024-07-18T12:47:46.730Z"
   },
   {
    "duration": 137,
    "start_time": "2024-07-18T12:47:47.048Z"
   },
   {
    "duration": 31,
    "start_time": "2024-07-18T12:47:47.187Z"
   },
   {
    "duration": 19,
    "start_time": "2024-07-18T12:47:47.220Z"
   },
   {
    "duration": 320,
    "start_time": "2024-07-18T12:47:47.240Z"
   },
   {
    "duration": 35,
    "start_time": "2024-07-18T12:47:47.562Z"
   },
   {
    "duration": 49,
    "start_time": "2024-07-18T12:47:47.599Z"
   },
   {
    "duration": 184,
    "start_time": "2024-07-18T12:47:47.650Z"
   },
   {
    "duration": 9,
    "start_time": "2024-07-18T12:47:47.836Z"
   },
   {
    "duration": 6,
    "start_time": "2024-07-18T12:47:47.847Z"
   },
   {
    "duration": 34,
    "start_time": "2024-07-18T12:47:47.854Z"
   },
   {
    "duration": 7,
    "start_time": "2024-07-18T12:47:47.890Z"
   },
   {
    "duration": 121,
    "start_time": "2024-07-18T12:47:47.899Z"
   },
   {
    "duration": 360,
    "start_time": "2024-07-18T12:47:48.024Z"
   },
   {
    "duration": 11,
    "start_time": "2024-07-18T12:47:48.385Z"
   },
   {
    "duration": 19,
    "start_time": "2024-07-18T12:47:48.398Z"
   },
   {
    "duration": 7,
    "start_time": "2024-07-18T12:49:03.574Z"
   },
   {
    "duration": 28,
    "start_time": "2024-07-18T12:50:59.788Z"
   },
   {
    "duration": 12,
    "start_time": "2024-07-18T12:51:49.509Z"
   },
   {
    "duration": 35,
    "start_time": "2024-07-18T12:56:55.809Z"
   },
   {
    "duration": 107,
    "start_time": "2024-07-18T12:57:03.826Z"
   },
   {
    "duration": 427,
    "start_time": "2024-07-18T12:57:18.490Z"
   },
   {
    "duration": 22,
    "start_time": "2024-07-18T12:57:37.537Z"
   },
   {
    "duration": 334,
    "start_time": "2024-07-18T13:03:01.418Z"
   },
   {
    "duration": 4,
    "start_time": "2024-07-18T13:06:36.666Z"
   },
   {
    "duration": 99,
    "start_time": "2024-07-18T16:35:28.693Z"
   },
   {
    "duration": 30,
    "start_time": "2024-07-18T16:40:39.230Z"
   },
   {
    "duration": 38,
    "start_time": "2024-07-18T16:42:40.407Z"
   },
   {
    "duration": 36,
    "start_time": "2024-07-18T16:43:01.716Z"
   },
   {
    "duration": 37,
    "start_time": "2024-07-18T16:44:46.131Z"
   },
   {
    "duration": 16,
    "start_time": "2024-07-18T16:45:10.855Z"
   },
   {
    "duration": 18,
    "start_time": "2024-07-18T16:47:38.556Z"
   },
   {
    "duration": 26,
    "start_time": "2024-07-18T16:48:10.123Z"
   },
   {
    "duration": 131,
    "start_time": "2024-07-18T16:48:35.858Z"
   },
   {
    "duration": 26,
    "start_time": "2024-07-18T16:48:53.964Z"
   },
   {
    "duration": 26,
    "start_time": "2024-07-18T16:49:59.477Z"
   },
   {
    "duration": 17,
    "start_time": "2024-07-18T16:52:46.772Z"
   },
   {
    "duration": 16,
    "start_time": "2024-07-18T16:53:26.173Z"
   },
   {
    "duration": 4,
    "start_time": "2024-07-18T16:55:32.032Z"
   },
   {
    "duration": 128,
    "start_time": "2024-07-18T16:55:54.243Z"
   },
   {
    "duration": 19,
    "start_time": "2024-07-18T16:56:38.651Z"
   },
   {
    "duration": 475,
    "start_time": "2024-07-18T16:57:03.948Z"
   },
   {
    "duration": 125,
    "start_time": "2024-07-18T17:00:07.128Z"
   },
   {
    "duration": 27,
    "start_time": "2024-07-18T17:09:56.360Z"
   },
   {
    "duration": 16,
    "start_time": "2024-07-18T17:10:27.664Z"
   },
   {
    "duration": 19,
    "start_time": "2024-07-18T17:11:26.489Z"
   },
   {
    "duration": 33,
    "start_time": "2024-07-18T17:12:14.036Z"
   },
   {
    "duration": 363,
    "start_time": "2024-07-18T17:12:42.617Z"
   },
   {
    "duration": 117,
    "start_time": "2024-07-18T17:18:04.592Z"
   },
   {
    "duration": 23,
    "start_time": "2024-07-18T17:18:58.864Z"
   },
   {
    "duration": 3,
    "start_time": "2024-07-18T17:24:29.137Z"
   },
   {
    "duration": 107,
    "start_time": "2024-07-18T17:25:22.417Z"
   },
   {
    "duration": 18,
    "start_time": "2024-07-18T17:26:01.097Z"
   },
   {
    "duration": 316,
    "start_time": "2024-07-18T17:26:13.634Z"
   },
   {
    "duration": 5,
    "start_time": "2024-07-18T17:27:04.783Z"
   },
   {
    "duration": 5,
    "start_time": "2024-07-18T17:27:59.151Z"
   },
   {
    "duration": 4,
    "start_time": "2024-07-18T17:30:24.684Z"
   },
   {
    "duration": 13,
    "start_time": "2024-07-18T17:41:27.059Z"
   },
   {
    "duration": 4,
    "start_time": "2024-07-18T17:43:46.100Z"
   },
   {
    "duration": 15,
    "start_time": "2024-07-18T17:44:24.733Z"
   },
   {
    "duration": 72,
    "start_time": "2024-07-18T17:47:21.937Z"
   },
   {
    "duration": 64,
    "start_time": "2024-07-18T17:47:42.014Z"
   },
   {
    "duration": 10,
    "start_time": "2024-07-18T17:47:53.708Z"
   },
   {
    "duration": 11,
    "start_time": "2024-07-18T17:48:11.877Z"
   },
   {
    "duration": 5,
    "start_time": "2024-07-18T17:48:53.343Z"
   },
   {
    "duration": 3,
    "start_time": "2024-07-18T17:49:23.188Z"
   },
   {
    "duration": 4,
    "start_time": "2024-07-18T17:50:21.536Z"
   },
   {
    "duration": 1237,
    "start_time": "2024-07-18T17:50:34.104Z"
   },
   {
    "duration": 980,
    "start_time": "2024-07-18T17:50:35.343Z"
   },
   {
    "duration": 6,
    "start_time": "2024-07-18T17:50:36.325Z"
   },
   {
    "duration": 952,
    "start_time": "2024-07-18T17:50:36.333Z"
   },
   {
    "duration": 13,
    "start_time": "2024-07-18T17:50:37.287Z"
   },
   {
    "duration": 54,
    "start_time": "2024-07-18T17:50:37.303Z"
   },
   {
    "duration": 41,
    "start_time": "2024-07-18T17:50:37.359Z"
   },
   {
    "duration": 427,
    "start_time": "2024-07-18T17:50:37.401Z"
   },
   {
    "duration": 465,
    "start_time": "2024-07-18T17:50:37.830Z"
   },
   {
    "duration": 7,
    "start_time": "2024-07-18T17:50:38.297Z"
   },
   {
    "duration": 10,
    "start_time": "2024-07-18T17:50:38.306Z"
   },
   {
    "duration": 9,
    "start_time": "2024-07-18T17:50:38.318Z"
   },
   {
    "duration": 33,
    "start_time": "2024-07-18T17:50:38.328Z"
   },
   {
    "duration": 14,
    "start_time": "2024-07-18T17:50:38.383Z"
   },
   {
    "duration": 21,
    "start_time": "2024-07-18T17:50:38.399Z"
   },
   {
    "duration": 403,
    "start_time": "2024-07-18T17:50:38.422Z"
   },
   {
    "duration": 14,
    "start_time": "2024-07-18T17:50:38.827Z"
   },
   {
    "duration": 143,
    "start_time": "2024-07-18T17:50:38.843Z"
   },
   {
    "duration": 18,
    "start_time": "2024-07-18T17:50:38.988Z"
   },
   {
    "duration": 377,
    "start_time": "2024-07-18T17:50:39.007Z"
   },
   {
    "duration": 20,
    "start_time": "2024-07-18T17:50:39.386Z"
   },
   {
    "duration": 307,
    "start_time": "2024-07-18T17:50:39.407Z"
   },
   {
    "duration": 7,
    "start_time": "2024-07-18T17:50:39.715Z"
   },
   {
    "duration": 36,
    "start_time": "2024-07-18T17:50:39.723Z"
   },
   {
    "duration": 6,
    "start_time": "2024-07-18T17:50:39.761Z"
   },
   {
    "duration": 8,
    "start_time": "2024-07-18T17:50:39.782Z"
   },
   {
    "duration": 36,
    "start_time": "2024-07-18T17:50:39.792Z"
   },
   {
    "duration": 326,
    "start_time": "2024-07-18T17:50:39.829Z"
   },
   {
    "duration": 135,
    "start_time": "2024-07-18T17:50:40.156Z"
   },
   {
    "duration": 32,
    "start_time": "2024-07-18T17:50:40.293Z"
   },
   {
    "duration": 19,
    "start_time": "2024-07-18T17:50:40.327Z"
   },
   {
    "duration": 319,
    "start_time": "2024-07-18T17:50:40.347Z"
   },
   {
    "duration": 27,
    "start_time": "2024-07-18T17:50:40.668Z"
   },
   {
    "duration": 9,
    "start_time": "2024-07-18T17:50:40.696Z"
   },
   {
    "duration": 245,
    "start_time": "2024-07-18T17:50:40.706Z"
   },
   {
    "duration": 7,
    "start_time": "2024-07-18T17:50:40.952Z"
   },
   {
    "duration": 47,
    "start_time": "2024-07-18T17:50:40.961Z"
   },
   {
    "duration": 11,
    "start_time": "2024-07-18T17:50:41.009Z"
   },
   {
    "duration": 35,
    "start_time": "2024-07-18T17:50:41.022Z"
   },
   {
    "duration": 347,
    "start_time": "2024-07-18T17:50:41.059Z"
   },
   {
    "duration": 107,
    "start_time": "2024-07-18T17:50:41.412Z"
   },
   {
    "duration": 40,
    "start_time": "2024-07-18T17:50:41.520Z"
   },
   {
    "duration": 35,
    "start_time": "2024-07-18T17:50:41.562Z"
   },
   {
    "duration": 53,
    "start_time": "2024-07-18T17:50:41.599Z"
   },
   {
    "duration": 15,
    "start_time": "2024-07-18T17:50:41.653Z"
   },
   {
    "duration": 21,
    "start_time": "2024-07-18T17:50:41.670Z"
   },
   {
    "duration": 506,
    "start_time": "2024-07-18T17:50:41.692Z"
   },
   {
    "duration": 133,
    "start_time": "2024-07-18T17:50:42.201Z"
   },
   {
    "duration": 16,
    "start_time": "2024-07-18T17:50:42.336Z"
   },
   {
    "duration": 48,
    "start_time": "2024-07-18T17:50:42.353Z"
   },
   {
    "duration": 363,
    "start_time": "2024-07-18T17:50:42.403Z"
   },
   {
    "duration": 131,
    "start_time": "2024-07-18T17:50:42.767Z"
   },
   {
    "duration": 115,
    "start_time": "2024-07-18T17:50:42.899Z"
   },
   {
    "duration": 19,
    "start_time": "2024-07-18T17:50:43.016Z"
   },
   {
    "duration": 464,
    "start_time": "2024-07-18T17:50:43.037Z"
   },
   {
    "duration": 4,
    "start_time": "2024-07-18T17:50:43.503Z"
   },
   {
    "duration": 46,
    "start_time": "2024-07-18T17:50:43.509Z"
   },
   {
    "duration": 1229,
    "start_time": "2024-07-19T04:17:11.101Z"
   },
   {
    "duration": 1125,
    "start_time": "2024-07-19T04:17:12.332Z"
   },
   {
    "duration": 4,
    "start_time": "2024-07-19T04:17:13.458Z"
   },
   {
    "duration": 783,
    "start_time": "2024-07-19T04:17:13.464Z"
   },
   {
    "duration": 11,
    "start_time": "2024-07-19T04:17:14.248Z"
   },
   {
    "duration": 39,
    "start_time": "2024-07-19T04:17:14.260Z"
   },
   {
    "duration": 39,
    "start_time": "2024-07-19T04:17:14.300Z"
   },
   {
    "duration": 395,
    "start_time": "2024-07-19T04:17:14.341Z"
   },
   {
    "duration": 379,
    "start_time": "2024-07-19T04:17:14.737Z"
   },
   {
    "duration": 4,
    "start_time": "2024-07-19T04:17:15.118Z"
   },
   {
    "duration": 14,
    "start_time": "2024-07-19T04:17:15.124Z"
   },
   {
    "duration": 13,
    "start_time": "2024-07-19T04:17:15.139Z"
   },
   {
    "duration": 37,
    "start_time": "2024-07-19T04:17:15.153Z"
   },
   {
    "duration": 12,
    "start_time": "2024-07-19T04:17:15.192Z"
   },
   {
    "duration": 17,
    "start_time": "2024-07-19T04:17:15.206Z"
   },
   {
    "duration": 320,
    "start_time": "2024-07-19T04:17:15.225Z"
   },
   {
    "duration": 12,
    "start_time": "2024-07-19T04:17:15.546Z"
   },
   {
    "duration": 127,
    "start_time": "2024-07-19T04:17:15.560Z"
   },
   {
    "duration": 15,
    "start_time": "2024-07-19T04:17:15.689Z"
   },
   {
    "duration": 321,
    "start_time": "2024-07-19T04:17:15.705Z"
   },
   {
    "duration": 17,
    "start_time": "2024-07-19T04:17:16.027Z"
   },
   {
    "duration": 259,
    "start_time": "2024-07-19T04:17:16.046Z"
   },
   {
    "duration": 6,
    "start_time": "2024-07-19T04:17:16.306Z"
   },
   {
    "duration": 33,
    "start_time": "2024-07-19T04:17:16.313Z"
   },
   {
    "duration": 6,
    "start_time": "2024-07-19T04:17:16.348Z"
   },
   {
    "duration": 14,
    "start_time": "2024-07-19T04:17:16.355Z"
   },
   {
    "duration": 26,
    "start_time": "2024-07-19T04:17:16.371Z"
   },
   {
    "duration": 250,
    "start_time": "2024-07-19T04:17:16.401Z"
   },
   {
    "duration": 102,
    "start_time": "2024-07-19T04:17:16.652Z"
   },
   {
    "duration": 39,
    "start_time": "2024-07-19T04:17:16.755Z"
   },
   {
    "duration": 17,
    "start_time": "2024-07-19T04:17:16.796Z"
   },
   {
    "duration": 257,
    "start_time": "2024-07-19T04:17:16.814Z"
   },
   {
    "duration": 24,
    "start_time": "2024-07-19T04:17:17.073Z"
   },
   {
    "duration": 8,
    "start_time": "2024-07-19T04:17:17.098Z"
   },
   {
    "duration": 224,
    "start_time": "2024-07-19T04:17:17.107Z"
   },
   {
    "duration": 6,
    "start_time": "2024-07-19T04:17:17.333Z"
   },
   {
    "duration": 25,
    "start_time": "2024-07-19T04:17:17.340Z"
   },
   {
    "duration": 20,
    "start_time": "2024-07-19T04:17:17.367Z"
   },
   {
    "duration": 19,
    "start_time": "2024-07-19T04:17:17.388Z"
   },
   {
    "duration": 283,
    "start_time": "2024-07-19T04:17:17.408Z"
   },
   {
    "duration": 90,
    "start_time": "2024-07-19T04:17:17.692Z"
   },
   {
    "duration": 26,
    "start_time": "2024-07-19T04:17:17.784Z"
   },
   {
    "duration": 15,
    "start_time": "2024-07-19T04:17:17.811Z"
   },
   {
    "duration": 27,
    "start_time": "2024-07-19T04:17:17.827Z"
   },
   {
    "duration": 27,
    "start_time": "2024-07-19T04:17:17.855Z"
   },
   {
    "duration": 17,
    "start_time": "2024-07-19T04:17:17.883Z"
   },
   {
    "duration": 354,
    "start_time": "2024-07-19T04:17:17.901Z"
   },
   {
    "duration": 103,
    "start_time": "2024-07-19T04:17:18.256Z"
   },
   {
    "duration": 25,
    "start_time": "2024-07-19T04:17:18.361Z"
   },
   {
    "duration": 33,
    "start_time": "2024-07-19T04:17:18.388Z"
   },
   {
    "duration": 287,
    "start_time": "2024-07-19T04:17:18.423Z"
   },
   {
    "duration": 116,
    "start_time": "2024-07-19T04:17:18.711Z"
   },
   {
    "duration": 98,
    "start_time": "2024-07-19T04:17:18.828Z"
   },
   {
    "duration": 15,
    "start_time": "2024-07-19T04:17:18.928Z"
   },
   {
    "duration": 259,
    "start_time": "2024-07-19T04:17:18.944Z"
   },
   {
    "duration": 4,
    "start_time": "2024-07-19T04:17:19.204Z"
   },
   {
    "duration": 9,
    "start_time": "2024-07-19T04:17:19.210Z"
   },
   {
    "duration": 4,
    "start_time": "2024-07-19T04:17:47.148Z"
   },
   {
    "duration": 131,
    "start_time": "2024-07-19T04:20:52.574Z"
   },
   {
    "duration": 225,
    "start_time": "2024-07-19T04:21:48.250Z"
   },
   {
    "duration": 229,
    "start_time": "2024-07-19T04:22:39.307Z"
   },
   {
    "duration": 251,
    "start_time": "2024-07-19T04:23:22.387Z"
   },
   {
    "duration": 3,
    "start_time": "2024-07-19T04:23:28.547Z"
   },
   {
    "duration": 11,
    "start_time": "2024-07-19T04:33:19.608Z"
   },
   {
    "duration": 2951,
    "start_time": "2024-07-19T04:34:17.181Z"
   },
   {
    "duration": 67,
    "start_time": "2024-07-19T04:34:35.559Z"
   },
   {
    "duration": 97,
    "start_time": "2024-07-19T04:34:42.123Z"
   },
   {
    "duration": 5331,
    "start_time": "2024-07-19T04:34:57.726Z"
   },
   {
    "duration": 355,
    "start_time": "2024-07-19T04:46:35.707Z"
   },
   {
    "duration": 135,
    "start_time": "2024-07-19T04:51:21.406Z"
   },
   {
    "duration": 243,
    "start_time": "2024-07-19T04:52:05.975Z"
   },
   {
    "duration": 14,
    "start_time": "2024-07-19T05:11:19.195Z"
   },
   {
    "duration": 21,
    "start_time": "2024-07-19T05:11:54.303Z"
   },
   {
    "duration": 9,
    "start_time": "2024-07-19T05:12:38.510Z"
   },
   {
    "duration": 287,
    "start_time": "2024-07-19T05:13:14.762Z"
   },
   {
    "duration": 16,
    "start_time": "2024-07-19T05:13:19.961Z"
   },
   {
    "duration": 2,
    "start_time": "2024-07-19T05:14:04.553Z"
   },
   {
    "duration": 55,
    "start_time": "2024-07-19T05:14:11.230Z"
   },
   {
    "duration": 65,
    "start_time": "2024-07-19T05:16:44.206Z"
   },
   {
    "duration": 56,
    "start_time": "2024-07-19T05:17:24.496Z"
   },
   {
    "duration": 61,
    "start_time": "2024-07-19T05:19:14.402Z"
   },
   {
    "duration": 2,
    "start_time": "2024-07-19T05:21:59.841Z"
   },
   {
    "duration": 9,
    "start_time": "2024-07-19T05:28:20.335Z"
   },
   {
    "duration": 8304,
    "start_time": "2024-07-19T05:28:44.468Z"
   },
   {
    "duration": 14,
    "start_time": "2024-07-19T05:28:58.868Z"
   },
   {
    "duration": 3,
    "start_time": "2024-07-19T05:29:46.825Z"
   },
   {
    "duration": 21,
    "start_time": "2024-07-19T05:29:53.110Z"
   },
   {
    "duration": 4402,
    "start_time": "2024-07-19T05:30:12.431Z"
   },
   {
    "duration": 1113,
    "start_time": "2024-07-19T05:30:16.835Z"
   },
   {
    "duration": 820,
    "start_time": "2024-07-19T05:30:17.949Z"
   },
   {
    "duration": 4,
    "start_time": "2024-07-19T05:30:18.771Z"
   },
   {
    "duration": 14,
    "start_time": "2024-07-19T05:30:18.781Z"
   },
   {
    "duration": 811,
    "start_time": "2024-07-19T05:30:18.796Z"
   },
   {
    "duration": 13,
    "start_time": "2024-07-19T05:30:19.609Z"
   },
   {
    "duration": 39,
    "start_time": "2024-07-19T05:30:19.623Z"
   },
   {
    "duration": 50,
    "start_time": "2024-07-19T05:30:19.663Z"
   },
   {
    "duration": 391,
    "start_time": "2024-07-19T05:30:19.715Z"
   },
   {
    "duration": 395,
    "start_time": "2024-07-19T05:30:20.108Z"
   },
   {
    "duration": 4,
    "start_time": "2024-07-19T05:30:20.505Z"
   },
   {
    "duration": 30,
    "start_time": "2024-07-19T05:30:20.510Z"
   },
   {
    "duration": 27,
    "start_time": "2024-07-19T05:30:20.541Z"
   },
   {
    "duration": 46,
    "start_time": "2024-07-19T05:30:20.570Z"
   },
   {
    "duration": 14,
    "start_time": "2024-07-19T05:30:20.618Z"
   },
   {
    "duration": 36,
    "start_time": "2024-07-19T05:30:20.633Z"
   },
   {
    "duration": 305,
    "start_time": "2024-07-19T05:30:20.671Z"
   },
   {
    "duration": 14,
    "start_time": "2024-07-19T05:30:20.977Z"
   },
   {
    "duration": 116,
    "start_time": "2024-07-19T05:30:20.993Z"
   },
   {
    "duration": 16,
    "start_time": "2024-07-19T05:30:21.111Z"
   },
   {
    "duration": 322,
    "start_time": "2024-07-19T05:30:21.128Z"
   },
   {
    "duration": 17,
    "start_time": "2024-07-19T05:30:21.452Z"
   },
   {
    "duration": 253,
    "start_time": "2024-07-19T05:30:21.482Z"
   },
   {
    "duration": 6,
    "start_time": "2024-07-19T05:30:21.737Z"
   },
   {
    "duration": 25,
    "start_time": "2024-07-19T05:30:21.744Z"
   },
   {
    "duration": 6,
    "start_time": "2024-07-19T05:30:21.782Z"
   },
   {
    "duration": 7,
    "start_time": "2024-07-19T05:30:21.791Z"
   },
   {
    "duration": 24,
    "start_time": "2024-07-19T05:30:21.800Z"
   },
   {
    "duration": 264,
    "start_time": "2024-07-19T05:30:21.826Z"
   },
   {
    "duration": 112,
    "start_time": "2024-07-19T05:30:22.091Z"
   },
   {
    "duration": 27,
    "start_time": "2024-07-19T05:30:22.204Z"
   },
   {
    "duration": 16,
    "start_time": "2024-07-19T05:30:22.232Z"
   },
   {
    "duration": 335,
    "start_time": "2024-07-19T05:30:22.249Z"
   },
   {
    "duration": 18,
    "start_time": "2024-07-19T05:30:22.585Z"
   },
   {
    "duration": 8,
    "start_time": "2024-07-19T05:30:22.605Z"
   },
   {
    "duration": 172,
    "start_time": "2024-07-19T05:30:22.614Z"
   },
   {
    "duration": 7,
    "start_time": "2024-07-19T05:30:22.787Z"
   },
   {
    "duration": 19,
    "start_time": "2024-07-19T05:30:22.795Z"
   },
   {
    "duration": 8,
    "start_time": "2024-07-19T05:30:22.816Z"
   },
   {
    "duration": 37,
    "start_time": "2024-07-19T05:30:22.826Z"
   },
   {
    "duration": 278,
    "start_time": "2024-07-19T05:30:22.865Z"
   },
   {
    "duration": 102,
    "start_time": "2024-07-19T05:30:23.145Z"
   },
   {
    "duration": 39,
    "start_time": "2024-07-19T05:30:23.249Z"
   },
   {
    "duration": 15,
    "start_time": "2024-07-19T05:30:23.289Z"
   },
   {
    "duration": 40,
    "start_time": "2024-07-19T05:30:23.305Z"
   },
   {
    "duration": 10,
    "start_time": "2024-07-19T05:30:23.346Z"
   },
   {
    "duration": 14,
    "start_time": "2024-07-19T05:30:23.357Z"
   },
   {
    "duration": 339,
    "start_time": "2024-07-19T05:30:23.373Z"
   },
   {
    "duration": 101,
    "start_time": "2024-07-19T05:30:23.714Z"
   },
   {
    "duration": 13,
    "start_time": "2024-07-19T05:30:23.817Z"
   },
   {
    "duration": 28,
    "start_time": "2024-07-19T05:30:23.831Z"
   },
   {
    "duration": 297,
    "start_time": "2024-07-19T05:30:23.860Z"
   },
   {
    "duration": 104,
    "start_time": "2024-07-19T05:30:24.158Z"
   },
   {
    "duration": 98,
    "start_time": "2024-07-19T05:30:24.263Z"
   },
   {
    "duration": 24,
    "start_time": "2024-07-19T05:30:24.362Z"
   },
   {
    "duration": 260,
    "start_time": "2024-07-19T05:30:24.387Z"
   },
   {
    "duration": 245,
    "start_time": "2024-07-19T05:30:24.648Z"
   },
   {
    "duration": 252,
    "start_time": "2024-07-19T05:30:24.894Z"
   },
   {
    "duration": 4,
    "start_time": "2024-07-19T05:30:25.147Z"
   },
   {
    "duration": 5131,
    "start_time": "2024-07-19T05:30:25.152Z"
   },
   {
    "duration": 14,
    "start_time": "2024-07-19T05:30:30.285Z"
   },
   {
    "duration": 54,
    "start_time": "2024-07-19T05:30:30.300Z"
   },
   {
    "duration": 87,
    "start_time": "2024-07-19T05:30:30.355Z"
   },
   {
    "duration": 2,
    "start_time": "2024-07-19T05:30:30.444Z"
   },
   {
    "duration": 1354,
    "start_time": "2024-07-19T05:30:30.448Z"
   },
   {
    "duration": 11,
    "start_time": "2024-07-19T05:30:31.803Z"
   },
   {
    "duration": 1473,
    "start_time": "2024-07-19T05:32:30.243Z"
   },
   {
    "duration": 1324,
    "start_time": "2024-07-19T05:32:49.524Z"
   },
   {
    "duration": 20,
    "start_time": "2024-07-19T05:32:57.771Z"
   },
   {
    "duration": 21,
    "start_time": "2024-07-19T05:33:22.292Z"
   },
   {
    "duration": 2091,
    "start_time": "2024-07-19T05:33:59.958Z"
   },
   {
    "duration": 930,
    "start_time": "2024-07-19T05:35:10.808Z"
   },
   {
    "duration": 21665,
    "start_time": "2024-07-19T06:19:43.331Z"
   },
   {
    "duration": 5,
    "start_time": "2024-07-19T06:24:06.329Z"
   },
   {
    "duration": 5,
    "start_time": "2024-07-19T06:25:29.991Z"
   },
   {
    "duration": 4,
    "start_time": "2024-07-19T06:29:12.019Z"
   },
   {
    "duration": 4,
    "start_time": "2024-07-19T06:38:50.929Z"
   },
   {
    "duration": 3,
    "start_time": "2024-07-19T06:39:39.072Z"
   },
   {
    "duration": 4,
    "start_time": "2024-07-19T06:39:43.830Z"
   },
   {
    "duration": 4,
    "start_time": "2024-07-19T06:39:47.329Z"
   },
   {
    "duration": 28,
    "start_time": "2024-07-19T06:39:48.821Z"
   },
   {
    "duration": 28,
    "start_time": "2024-07-19T06:40:28.884Z"
   },
   {
    "duration": 4447,
    "start_time": "2024-07-19T06:41:11.609Z"
   },
   {
    "duration": 1249,
    "start_time": "2024-07-19T06:41:16.058Z"
   },
   {
    "duration": 834,
    "start_time": "2024-07-19T06:41:17.309Z"
   },
   {
    "duration": 5,
    "start_time": "2024-07-19T06:41:18.145Z"
   },
   {
    "duration": 13,
    "start_time": "2024-07-19T06:41:18.152Z"
   },
   {
    "duration": 837,
    "start_time": "2024-07-19T06:41:18.167Z"
   },
   {
    "duration": 11,
    "start_time": "2024-07-19T06:41:19.006Z"
   },
   {
    "duration": 33,
    "start_time": "2024-07-19T06:41:19.018Z"
   },
   {
    "duration": 54,
    "start_time": "2024-07-19T06:41:19.053Z"
   },
   {
    "duration": 392,
    "start_time": "2024-07-19T06:41:19.109Z"
   },
   {
    "duration": 396,
    "start_time": "2024-07-19T06:41:19.502Z"
   },
   {
    "duration": 5,
    "start_time": "2024-07-19T06:41:19.899Z"
   },
   {
    "duration": 43,
    "start_time": "2024-07-19T06:41:19.905Z"
   },
   {
    "duration": 6,
    "start_time": "2024-07-19T06:41:19.949Z"
   },
   {
    "duration": 29,
    "start_time": "2024-07-19T06:41:19.956Z"
   },
   {
    "duration": 13,
    "start_time": "2024-07-19T06:41:19.986Z"
   },
   {
    "duration": 18,
    "start_time": "2024-07-19T06:41:20.000Z"
   },
   {
    "duration": 350,
    "start_time": "2024-07-19T06:41:20.020Z"
   },
   {
    "duration": 21,
    "start_time": "2024-07-19T06:41:20.372Z"
   },
   {
    "duration": 118,
    "start_time": "2024-07-19T06:41:20.394Z"
   },
   {
    "duration": 17,
    "start_time": "2024-07-19T06:41:20.513Z"
   },
   {
    "duration": 343,
    "start_time": "2024-07-19T06:41:20.531Z"
   },
   {
    "duration": 21,
    "start_time": "2024-07-19T06:41:20.875Z"
   },
   {
    "duration": 264,
    "start_time": "2024-07-19T06:41:20.898Z"
   },
   {
    "duration": 6,
    "start_time": "2024-07-19T06:41:21.163Z"
   },
   {
    "duration": 22,
    "start_time": "2024-07-19T06:41:21.181Z"
   },
   {
    "duration": 6,
    "start_time": "2024-07-19T06:41:21.204Z"
   },
   {
    "duration": 7,
    "start_time": "2024-07-19T06:41:21.214Z"
   },
   {
    "duration": 25,
    "start_time": "2024-07-19T06:41:21.222Z"
   },
   {
    "duration": 279,
    "start_time": "2024-07-19T06:41:21.248Z"
   },
   {
    "duration": 113,
    "start_time": "2024-07-19T06:41:21.528Z"
   },
   {
    "duration": 27,
    "start_time": "2024-07-19T06:41:21.643Z"
   },
   {
    "duration": 25,
    "start_time": "2024-07-19T06:41:21.671Z"
   },
   {
    "duration": 357,
    "start_time": "2024-07-19T06:41:21.697Z"
   },
   {
    "duration": 28,
    "start_time": "2024-07-19T06:41:22.055Z"
   },
   {
    "duration": 8,
    "start_time": "2024-07-19T06:41:22.085Z"
   },
   {
    "duration": 149,
    "start_time": "2024-07-19T06:41:22.095Z"
   },
   {
    "duration": 5,
    "start_time": "2024-07-19T06:41:22.246Z"
   },
   {
    "duration": 30,
    "start_time": "2024-07-19T06:41:22.252Z"
   },
   {
    "duration": 7,
    "start_time": "2024-07-19T06:41:22.283Z"
   },
   {
    "duration": 18,
    "start_time": "2024-07-19T06:41:22.292Z"
   },
   {
    "duration": 300,
    "start_time": "2024-07-19T06:41:22.312Z"
   },
   {
    "duration": 88,
    "start_time": "2024-07-19T06:41:22.614Z"
   },
   {
    "duration": 28,
    "start_time": "2024-07-19T06:41:22.704Z"
   },
   {
    "duration": 17,
    "start_time": "2024-07-19T06:41:22.734Z"
   },
   {
    "duration": 48,
    "start_time": "2024-07-19T06:41:22.753Z"
   },
   {
    "duration": 11,
    "start_time": "2024-07-19T06:41:22.803Z"
   },
   {
    "duration": 16,
    "start_time": "2024-07-19T06:41:22.815Z"
   },
   {
    "duration": 365,
    "start_time": "2024-07-19T06:41:22.832Z"
   },
   {
    "duration": 131,
    "start_time": "2024-07-19T06:41:23.199Z"
   },
   {
    "duration": 13,
    "start_time": "2024-07-19T06:41:23.332Z"
   },
   {
    "duration": 41,
    "start_time": "2024-07-19T06:41:23.347Z"
   },
   {
    "duration": 307,
    "start_time": "2024-07-19T06:41:23.389Z"
   },
   {
    "duration": 113,
    "start_time": "2024-07-19T06:41:23.698Z"
   },
   {
    "duration": 109,
    "start_time": "2024-07-19T06:41:23.812Z"
   },
   {
    "duration": 17,
    "start_time": "2024-07-19T06:41:23.923Z"
   },
   {
    "duration": 272,
    "start_time": "2024-07-19T06:41:23.941Z"
   },
   {
    "duration": 264,
    "start_time": "2024-07-19T06:41:24.214Z"
   },
   {
    "duration": 259,
    "start_time": "2024-07-19T06:41:24.479Z"
   },
   {
    "duration": 3,
    "start_time": "2024-07-19T06:41:24.739Z"
   },
   {
    "duration": 5291,
    "start_time": "2024-07-19T06:41:24.744Z"
   },
   {
    "duration": 11,
    "start_time": "2024-07-19T06:41:30.036Z"
   },
   {
    "duration": 64,
    "start_time": "2024-07-19T06:41:30.048Z"
   },
   {
    "duration": 126,
    "start_time": "2024-07-19T06:41:30.114Z"
   },
   {
    "duration": 3,
    "start_time": "2024-07-19T06:41:30.242Z"
   },
   {
    "duration": 1440,
    "start_time": "2024-07-19T06:41:30.246Z"
   },
   {
    "duration": 22,
    "start_time": "2024-07-19T06:41:31.687Z"
   },
   {
    "duration": 1974,
    "start_time": "2024-07-19T06:41:31.711Z"
   },
   {
    "duration": 895,
    "start_time": "2024-07-19T06:41:33.687Z"
   },
   {
    "duration": 4,
    "start_time": "2024-07-19T06:41:34.583Z"
   },
   {
    "duration": 0,
    "start_time": "2024-07-19T06:41:34.588Z"
   },
   {
    "duration": 0,
    "start_time": "2024-07-19T06:41:34.590Z"
   },
   {
    "duration": 0,
    "start_time": "2024-07-19T06:41:34.591Z"
   },
   {
    "duration": 147,
    "start_time": "2024-07-19T06:41:42.217Z"
   },
   {
    "duration": 4,
    "start_time": "2024-07-19T06:46:55.708Z"
   },
   {
    "duration": 62,
    "start_time": "2024-07-19T06:46:58.590Z"
   },
   {
    "duration": 4645,
    "start_time": "2024-07-19T06:47:05.808Z"
   },
   {
    "duration": 1216,
    "start_time": "2024-07-19T06:47:10.456Z"
   },
   {
    "duration": 886,
    "start_time": "2024-07-19T06:47:11.674Z"
   },
   {
    "duration": 5,
    "start_time": "2024-07-19T06:47:12.562Z"
   },
   {
    "duration": 12,
    "start_time": "2024-07-19T06:47:12.570Z"
   },
   {
    "duration": 870,
    "start_time": "2024-07-19T06:47:12.583Z"
   },
   {
    "duration": 13,
    "start_time": "2024-07-19T06:47:13.455Z"
   },
   {
    "duration": 38,
    "start_time": "2024-07-19T06:47:13.470Z"
   },
   {
    "duration": 43,
    "start_time": "2024-07-19T06:47:13.509Z"
   },
   {
    "duration": 394,
    "start_time": "2024-07-19T06:47:13.554Z"
   },
   {
    "duration": 391,
    "start_time": "2024-07-19T06:47:13.949Z"
   },
   {
    "duration": 4,
    "start_time": "2024-07-19T06:47:14.341Z"
   },
   {
    "duration": 4,
    "start_time": "2024-07-19T06:47:14.347Z"
   },
   {
    "duration": 4,
    "start_time": "2024-07-19T06:47:14.354Z"
   },
   {
    "duration": 45,
    "start_time": "2024-07-19T06:47:14.360Z"
   },
   {
    "duration": 13,
    "start_time": "2024-07-19T06:47:14.406Z"
   },
   {
    "duration": 18,
    "start_time": "2024-07-19T06:47:14.421Z"
   },
   {
    "duration": 363,
    "start_time": "2024-07-19T06:47:14.441Z"
   },
   {
    "duration": 13,
    "start_time": "2024-07-19T06:47:14.805Z"
   },
   {
    "duration": 121,
    "start_time": "2024-07-19T06:47:14.819Z"
   },
   {
    "duration": 15,
    "start_time": "2024-07-19T06:47:14.942Z"
   },
   {
    "duration": 356,
    "start_time": "2024-07-19T06:47:14.958Z"
   },
   {
    "duration": 18,
    "start_time": "2024-07-19T06:47:15.316Z"
   },
   {
    "duration": 280,
    "start_time": "2024-07-19T06:47:15.335Z"
   },
   {
    "duration": 6,
    "start_time": "2024-07-19T06:47:15.617Z"
   },
   {
    "duration": 37,
    "start_time": "2024-07-19T06:47:15.624Z"
   },
   {
    "duration": 6,
    "start_time": "2024-07-19T06:47:15.663Z"
   },
   {
    "duration": 7,
    "start_time": "2024-07-19T06:47:15.682Z"
   },
   {
    "duration": 26,
    "start_time": "2024-07-19T06:47:15.691Z"
   },
   {
    "duration": 284,
    "start_time": "2024-07-19T06:47:15.718Z"
   },
   {
    "duration": 122,
    "start_time": "2024-07-19T06:47:16.004Z"
   },
   {
    "duration": 28,
    "start_time": "2024-07-19T06:47:16.127Z"
   },
   {
    "duration": 26,
    "start_time": "2024-07-19T06:47:16.156Z"
   },
   {
    "duration": 355,
    "start_time": "2024-07-19T06:47:16.183Z"
   },
   {
    "duration": 20,
    "start_time": "2024-07-19T06:47:16.539Z"
   },
   {
    "duration": 25,
    "start_time": "2024-07-19T06:47:16.560Z"
   },
   {
    "duration": 151,
    "start_time": "2024-07-19T06:47:16.586Z"
   },
   {
    "duration": 6,
    "start_time": "2024-07-19T06:47:16.739Z"
   },
   {
    "duration": 36,
    "start_time": "2024-07-19T06:47:16.746Z"
   },
   {
    "duration": 9,
    "start_time": "2024-07-19T06:47:16.783Z"
   },
   {
    "duration": 34,
    "start_time": "2024-07-19T06:47:16.796Z"
   },
   {
    "duration": 292,
    "start_time": "2024-07-19T06:47:16.831Z"
   },
   {
    "duration": 96,
    "start_time": "2024-07-19T06:47:17.125Z"
   },
   {
    "duration": 28,
    "start_time": "2024-07-19T06:47:17.223Z"
   },
   {
    "duration": 30,
    "start_time": "2024-07-19T06:47:17.253Z"
   },
   {
    "duration": 29,
    "start_time": "2024-07-19T06:47:17.285Z"
   },
   {
    "duration": 10,
    "start_time": "2024-07-19T06:47:17.315Z"
   },
   {
    "duration": 16,
    "start_time": "2024-07-19T06:47:17.327Z"
   },
   {
    "duration": 370,
    "start_time": "2024-07-19T06:47:17.345Z"
   },
   {
    "duration": 106,
    "start_time": "2024-07-19T06:47:17.717Z"
   },
   {
    "duration": 14,
    "start_time": "2024-07-19T06:47:17.824Z"
   },
   {
    "duration": 44,
    "start_time": "2024-07-19T06:47:17.839Z"
   },
   {
    "duration": 323,
    "start_time": "2024-07-19T06:47:17.885Z"
   },
   {
    "duration": 115,
    "start_time": "2024-07-19T06:47:18.210Z"
   },
   {
    "duration": 107,
    "start_time": "2024-07-19T06:47:18.326Z"
   },
   {
    "duration": 17,
    "start_time": "2024-07-19T06:47:18.434Z"
   },
   {
    "duration": 288,
    "start_time": "2024-07-19T06:47:18.452Z"
   },
   {
    "duration": 268,
    "start_time": "2024-07-19T06:47:18.741Z"
   },
   {
    "duration": 266,
    "start_time": "2024-07-19T06:47:19.010Z"
   },
   {
    "duration": 5,
    "start_time": "2024-07-19T06:47:19.281Z"
   },
   {
    "duration": 5484,
    "start_time": "2024-07-19T06:47:19.287Z"
   },
   {
    "duration": 11,
    "start_time": "2024-07-19T06:47:24.772Z"
   },
   {
    "duration": 16,
    "start_time": "2024-07-19T06:47:24.785Z"
   },
   {
    "duration": 56,
    "start_time": "2024-07-19T06:47:24.802Z"
   },
   {
    "duration": 3,
    "start_time": "2024-07-19T06:47:24.859Z"
   },
   {
    "duration": 1377,
    "start_time": "2024-07-19T06:47:24.881Z"
   },
   {
    "duration": 29,
    "start_time": "2024-07-19T06:47:26.259Z"
   },
   {
    "duration": 2009,
    "start_time": "2024-07-19T06:47:26.290Z"
   },
   {
    "duration": 904,
    "start_time": "2024-07-19T06:47:28.301Z"
   },
   {
    "duration": 4,
    "start_time": "2024-07-19T06:47:29.207Z"
   },
   {
    "duration": 0,
    "start_time": "2024-07-19T06:47:29.213Z"
   },
   {
    "duration": 0,
    "start_time": "2024-07-19T06:47:29.214Z"
   },
   {
    "duration": 0,
    "start_time": "2024-07-19T06:47:29.215Z"
   },
   {
    "duration": 26780,
    "start_time": "2024-07-19T06:49:48.223Z"
   },
   {
    "duration": 245,
    "start_time": "2024-07-19T06:50:41.841Z"
   },
   {
    "duration": 5,
    "start_time": "2024-07-19T06:50:44.026Z"
   },
   {
    "duration": 5,
    "start_time": "2024-07-19T06:51:31.083Z"
   },
   {
    "duration": 6,
    "start_time": "2024-07-19T06:56:58.994Z"
   },
   {
    "duration": 6,
    "start_time": "2024-07-19T06:57:32.557Z"
   },
   {
    "duration": 4,
    "start_time": "2024-07-19T06:57:43.448Z"
   },
   {
    "duration": 6,
    "start_time": "2024-07-19T06:58:10.894Z"
   },
   {
    "duration": 15,
    "start_time": "2024-07-19T06:58:55.579Z"
   },
   {
    "duration": 9159,
    "start_time": "2024-07-19T10:28:49.583Z"
   },
   {
    "duration": 1405,
    "start_time": "2024-07-19T10:28:58.745Z"
   },
   {
    "duration": 2950,
    "start_time": "2024-07-19T10:29:00.151Z"
   },
   {
    "duration": 5,
    "start_time": "2024-07-19T10:29:03.103Z"
   },
   {
    "duration": 40,
    "start_time": "2024-07-19T10:29:03.110Z"
   },
   {
    "duration": 860,
    "start_time": "2024-07-19T10:29:03.152Z"
   },
   {
    "duration": 23,
    "start_time": "2024-07-19T10:29:04.014Z"
   },
   {
    "duration": 36,
    "start_time": "2024-07-19T10:29:04.039Z"
   },
   {
    "duration": 38,
    "start_time": "2024-07-19T10:29:04.076Z"
   },
   {
    "duration": 426,
    "start_time": "2024-07-19T10:29:04.115Z"
   },
   {
    "duration": 397,
    "start_time": "2024-07-19T10:29:04.542Z"
   },
   {
    "duration": 6,
    "start_time": "2024-07-19T10:29:04.940Z"
   },
   {
    "duration": 12,
    "start_time": "2024-07-19T10:29:04.947Z"
   },
   {
    "duration": 6,
    "start_time": "2024-07-19T10:29:04.962Z"
   },
   {
    "duration": 36,
    "start_time": "2024-07-19T10:29:04.969Z"
   },
   {
    "duration": 13,
    "start_time": "2024-07-19T10:29:05.006Z"
   },
   {
    "duration": 32,
    "start_time": "2024-07-19T10:29:05.021Z"
   },
   {
    "duration": 329,
    "start_time": "2024-07-19T10:29:05.055Z"
   },
   {
    "duration": 13,
    "start_time": "2024-07-19T10:29:05.385Z"
   },
   {
    "duration": 127,
    "start_time": "2024-07-19T10:29:05.399Z"
   },
   {
    "duration": 25,
    "start_time": "2024-07-19T10:29:05.528Z"
   },
   {
    "duration": 400,
    "start_time": "2024-07-19T10:29:05.554Z"
   },
   {
    "duration": 22,
    "start_time": "2024-07-19T10:29:05.956Z"
   },
   {
    "duration": 313,
    "start_time": "2024-07-19T10:29:05.979Z"
   },
   {
    "duration": 7,
    "start_time": "2024-07-19T10:29:06.294Z"
   },
   {
    "duration": 49,
    "start_time": "2024-07-19T10:29:06.303Z"
   },
   {
    "duration": 10,
    "start_time": "2024-07-19T10:29:06.354Z"
   },
   {
    "duration": 22,
    "start_time": "2024-07-19T10:29:06.365Z"
   },
   {
    "duration": 26,
    "start_time": "2024-07-19T10:29:06.389Z"
   },
   {
    "duration": 260,
    "start_time": "2024-07-19T10:29:06.417Z"
   },
   {
    "duration": 116,
    "start_time": "2024-07-19T10:29:06.679Z"
   },
   {
    "duration": 27,
    "start_time": "2024-07-19T10:29:06.796Z"
   },
   {
    "duration": 81,
    "start_time": "2024-07-19T10:29:06.837Z"
   },
   {
    "duration": 345,
    "start_time": "2024-07-19T10:29:06.920Z"
   },
   {
    "duration": 20,
    "start_time": "2024-07-19T10:29:07.267Z"
   },
   {
    "duration": 27,
    "start_time": "2024-07-19T10:29:07.288Z"
   },
   {
    "duration": 168,
    "start_time": "2024-07-19T10:29:07.317Z"
   },
   {
    "duration": 8,
    "start_time": "2024-07-19T10:29:07.487Z"
   },
   {
    "duration": 32,
    "start_time": "2024-07-19T10:29:07.497Z"
   },
   {
    "duration": 12,
    "start_time": "2024-07-19T10:29:07.531Z"
   },
   {
    "duration": 33,
    "start_time": "2024-07-19T10:29:07.547Z"
   },
   {
    "duration": 321,
    "start_time": "2024-07-19T10:29:07.581Z"
   },
   {
    "duration": 115,
    "start_time": "2024-07-19T10:29:07.904Z"
   },
   {
    "duration": 37,
    "start_time": "2024-07-19T10:29:08.021Z"
   },
   {
    "duration": 41,
    "start_time": "2024-07-19T10:29:08.060Z"
   },
   {
    "duration": 42,
    "start_time": "2024-07-19T10:29:08.103Z"
   },
   {
    "duration": 11,
    "start_time": "2024-07-19T10:29:08.147Z"
   },
   {
    "duration": 37,
    "start_time": "2024-07-19T10:29:08.159Z"
   },
   {
    "duration": 384,
    "start_time": "2024-07-19T10:29:08.198Z"
   },
   {
    "duration": 111,
    "start_time": "2024-07-19T10:29:08.583Z"
   },
   {
    "duration": 14,
    "start_time": "2024-07-19T10:29:08.695Z"
   },
   {
    "duration": 99,
    "start_time": "2024-07-19T10:29:08.710Z"
   },
   {
    "duration": 300,
    "start_time": "2024-07-19T10:29:08.810Z"
   },
   {
    "duration": 147,
    "start_time": "2024-07-19T10:29:09.112Z"
   },
   {
    "duration": 134,
    "start_time": "2024-07-19T10:29:09.260Z"
   },
   {
    "duration": 16,
    "start_time": "2024-07-19T10:29:09.396Z"
   },
   {
    "duration": 318,
    "start_time": "2024-07-19T10:29:09.414Z"
   },
   {
    "duration": 266,
    "start_time": "2024-07-19T10:29:09.733Z"
   },
   {
    "duration": 278,
    "start_time": "2024-07-19T10:29:10.000Z"
   },
   {
    "duration": 3,
    "start_time": "2024-07-19T10:29:10.280Z"
   },
   {
    "duration": 5622,
    "start_time": "2024-07-19T10:29:10.285Z"
   },
   {
    "duration": 12,
    "start_time": "2024-07-19T10:29:15.909Z"
   },
   {
    "duration": 22,
    "start_time": "2024-07-19T10:29:15.923Z"
   },
   {
    "duration": 57,
    "start_time": "2024-07-19T10:29:15.947Z"
   },
   {
    "duration": 3,
    "start_time": "2024-07-19T10:29:16.005Z"
   },
   {
    "duration": 1459,
    "start_time": "2024-07-19T10:29:16.009Z"
   },
   {
    "duration": 24,
    "start_time": "2024-07-19T10:29:17.469Z"
   },
   {
    "duration": 2148,
    "start_time": "2024-07-19T10:29:17.494Z"
   },
   {
    "duration": 944,
    "start_time": "2024-07-19T10:29:19.644Z"
   },
   {
    "duration": 26155,
    "start_time": "2024-07-19T10:29:20.590Z"
   },
   {
    "duration": 295,
    "start_time": "2024-07-19T10:29:46.747Z"
   },
   {
    "duration": 95,
    "start_time": "2024-07-19T10:29:47.045Z"
   },
   {
    "duration": 35,
    "start_time": "2024-07-19T10:29:47.142Z"
   },
   {
    "duration": 117,
    "start_time": "2024-07-19T10:39:33.445Z"
   },
   {
    "duration": 21,
    "start_time": "2024-07-19T10:40:06.855Z"
   },
   {
    "duration": 12400,
    "start_time": "2024-07-19T10:40:11.663Z"
   },
   {
    "duration": 3696,
    "start_time": "2024-07-19T10:44:25.715Z"
   },
   {
    "duration": 69,
    "start_time": "2024-07-19T10:44:54.268Z"
   },
   {
    "duration": 6,
    "start_time": "2024-07-19T10:45:32.414Z"
   },
   {
    "duration": 3788,
    "start_time": "2024-07-19T10:45:44.350Z"
   },
   {
    "duration": 72,
    "start_time": "2024-07-19T10:45:53.397Z"
   },
   {
    "duration": 6,
    "start_time": "2024-07-19T10:46:02.428Z"
   },
   {
    "duration": 7038,
    "start_time": "2024-07-19T11:11:04.357Z"
   },
   {
    "duration": 28,
    "start_time": "2024-07-19T11:11:32.708Z"
   },
   {
    "duration": 4,
    "start_time": "2024-07-19T11:13:13.538Z"
   },
   {
    "duration": 112,
    "start_time": "2024-07-19T11:21:50.076Z"
   },
   {
    "duration": 37,
    "start_time": "2024-07-19T11:24:20.113Z"
   },
   {
    "duration": 43,
    "start_time": "2024-07-19T11:24:43.822Z"
   },
   {
    "duration": 10,
    "start_time": "2024-07-19T11:28:06.884Z"
   },
   {
    "duration": 3,
    "start_time": "2024-07-19T11:29:20.845Z"
   },
   {
    "duration": 11,
    "start_time": "2024-07-19T11:31:54.820Z"
   },
   {
    "duration": 35,
    "start_time": "2024-07-19T11:33:06.921Z"
   },
   {
    "duration": 27,
    "start_time": "2024-07-19T11:33:30.228Z"
   },
   {
    "duration": 29,
    "start_time": "2024-07-19T11:36:59.255Z"
   },
   {
    "duration": 31,
    "start_time": "2024-07-19T11:38:02.522Z"
   },
   {
    "duration": 10,
    "start_time": "2024-07-19T11:38:51.750Z"
   },
   {
    "duration": 32,
    "start_time": "2024-07-19T11:40:40.305Z"
   },
   {
    "duration": 31,
    "start_time": "2024-07-19T11:43:54.931Z"
   },
   {
    "duration": 42,
    "start_time": "2024-07-19T11:47:02.569Z"
   },
   {
    "duration": 29,
    "start_time": "2024-07-19T11:47:13.676Z"
   },
   {
    "duration": 7057,
    "start_time": "2024-07-19T13:30:14.687Z"
   },
   {
    "duration": 1355,
    "start_time": "2024-07-19T13:30:21.747Z"
   },
   {
    "duration": 906,
    "start_time": "2024-07-19T13:30:23.103Z"
   },
   {
    "duration": 5,
    "start_time": "2024-07-19T13:30:24.011Z"
   },
   {
    "duration": 14,
    "start_time": "2024-07-19T13:30:24.017Z"
   },
   {
    "duration": 891,
    "start_time": "2024-07-19T13:30:24.032Z"
   },
   {
    "duration": 21,
    "start_time": "2024-07-19T13:30:24.925Z"
   },
   {
    "duration": 43,
    "start_time": "2024-07-19T13:30:24.949Z"
   },
   {
    "duration": 42,
    "start_time": "2024-07-19T13:30:24.993Z"
   },
   {
    "duration": 387,
    "start_time": "2024-07-19T13:30:25.038Z"
   },
   {
    "duration": 417,
    "start_time": "2024-07-19T13:30:25.427Z"
   },
   {
    "duration": 5,
    "start_time": "2024-07-19T13:30:25.845Z"
   },
   {
    "duration": 7,
    "start_time": "2024-07-19T13:30:25.851Z"
   },
   {
    "duration": 21,
    "start_time": "2024-07-19T13:30:25.859Z"
   },
   {
    "duration": 35,
    "start_time": "2024-07-19T13:30:25.882Z"
   },
   {
    "duration": 21,
    "start_time": "2024-07-19T13:30:25.918Z"
   },
   {
    "duration": 27,
    "start_time": "2024-07-19T13:30:25.940Z"
   },
   {
    "duration": 329,
    "start_time": "2024-07-19T13:30:25.969Z"
   },
   {
    "duration": 12,
    "start_time": "2024-07-19T13:30:26.299Z"
   },
   {
    "duration": 126,
    "start_time": "2024-07-19T13:30:26.313Z"
   },
   {
    "duration": 16,
    "start_time": "2024-07-19T13:30:26.441Z"
   },
   {
    "duration": 367,
    "start_time": "2024-07-19T13:30:26.458Z"
   },
   {
    "duration": 23,
    "start_time": "2024-07-19T13:30:26.827Z"
   },
   {
    "duration": 277,
    "start_time": "2024-07-19T13:30:26.851Z"
   },
   {
    "duration": 10,
    "start_time": "2024-07-19T13:30:27.130Z"
   },
   {
    "duration": 41,
    "start_time": "2024-07-19T13:30:27.142Z"
   },
   {
    "duration": 7,
    "start_time": "2024-07-19T13:30:27.184Z"
   },
   {
    "duration": 80,
    "start_time": "2024-07-19T13:30:27.195Z"
   },
   {
    "duration": 177,
    "start_time": "2024-07-19T13:30:27.276Z"
   },
   {
    "duration": 271,
    "start_time": "2024-07-19T13:30:27.455Z"
   },
   {
    "duration": 118,
    "start_time": "2024-07-19T13:30:27.727Z"
   },
   {
    "duration": 27,
    "start_time": "2024-07-19T13:30:27.847Z"
   },
   {
    "duration": 21,
    "start_time": "2024-07-19T13:30:27.875Z"
   },
   {
    "duration": 281,
    "start_time": "2024-07-19T13:30:27.898Z"
   },
   {
    "duration": 19,
    "start_time": "2024-07-19T13:30:28.181Z"
   },
   {
    "duration": 10,
    "start_time": "2024-07-19T13:30:28.201Z"
   },
   {
    "duration": 171,
    "start_time": "2024-07-19T13:30:28.213Z"
   },
   {
    "duration": 5,
    "start_time": "2024-07-19T13:30:28.386Z"
   },
   {
    "duration": 33,
    "start_time": "2024-07-19T13:30:28.392Z"
   },
   {
    "duration": 16,
    "start_time": "2024-07-19T13:30:28.427Z"
   },
   {
    "duration": 25,
    "start_time": "2024-07-19T13:30:28.445Z"
   },
   {
    "duration": 299,
    "start_time": "2024-07-19T13:30:28.472Z"
   },
   {
    "duration": 108,
    "start_time": "2024-07-19T13:30:28.773Z"
   },
   {
    "duration": 27,
    "start_time": "2024-07-19T13:30:28.883Z"
   },
   {
    "duration": 31,
    "start_time": "2024-07-19T13:30:28.912Z"
   },
   {
    "duration": 42,
    "start_time": "2024-07-19T13:30:28.944Z"
   },
   {
    "duration": 17,
    "start_time": "2024-07-19T13:30:28.987Z"
   },
   {
    "duration": 24,
    "start_time": "2024-07-19T13:30:29.005Z"
   },
   {
    "duration": 344,
    "start_time": "2024-07-19T13:30:29.031Z"
   },
   {
    "duration": 105,
    "start_time": "2024-07-19T13:30:29.376Z"
   },
   {
    "duration": 24,
    "start_time": "2024-07-19T13:30:29.482Z"
   },
   {
    "duration": 46,
    "start_time": "2024-07-19T13:30:29.508Z"
   },
   {
    "duration": 312,
    "start_time": "2024-07-19T13:30:29.555Z"
   },
   {
    "duration": 113,
    "start_time": "2024-07-19T13:30:29.868Z"
   },
   {
    "duration": 107,
    "start_time": "2024-07-19T13:30:29.983Z"
   },
   {
    "duration": 30,
    "start_time": "2024-07-19T13:30:30.092Z"
   },
   {
    "duration": 365,
    "start_time": "2024-07-19T13:30:30.124Z"
   },
   {
    "duration": 300,
    "start_time": "2024-07-19T13:30:30.490Z"
   },
   {
    "duration": 312,
    "start_time": "2024-07-19T13:30:30.791Z"
   },
   {
    "duration": 4,
    "start_time": "2024-07-19T13:30:31.104Z"
   },
   {
    "duration": 5474,
    "start_time": "2024-07-19T13:30:31.109Z"
   },
   {
    "duration": 15,
    "start_time": "2024-07-19T13:30:36.585Z"
   },
   {
    "duration": 28,
    "start_time": "2024-07-19T13:30:36.602Z"
   },
   {
    "duration": 70,
    "start_time": "2024-07-19T13:30:36.631Z"
   },
   {
    "duration": 3,
    "start_time": "2024-07-19T13:30:36.702Z"
   },
   {
    "duration": 1458,
    "start_time": "2024-07-19T13:30:36.706Z"
   },
   {
    "duration": 24,
    "start_time": "2024-07-19T13:30:38.166Z"
   },
   {
    "duration": 2514,
    "start_time": "2024-07-19T13:30:38.191Z"
   },
   {
    "duration": 936,
    "start_time": "2024-07-19T13:30:40.707Z"
   },
   {
    "duration": 21410,
    "start_time": "2024-07-19T13:30:41.645Z"
   },
   {
    "duration": 280,
    "start_time": "2024-07-19T13:31:03.057Z"
   },
   {
    "duration": 98,
    "start_time": "2024-07-19T13:31:03.340Z"
   },
   {
    "duration": 12607,
    "start_time": "2024-07-19T13:31:03.440Z"
   },
   {
    "duration": 3809,
    "start_time": "2024-07-19T13:31:16.048Z"
   },
   {
    "duration": 68,
    "start_time": "2024-07-19T13:31:19.859Z"
   },
   {
    "duration": 11,
    "start_time": "2024-07-19T13:31:19.929Z"
   },
   {
    "duration": 113,
    "start_time": "2024-07-19T13:31:19.941Z"
   },
   {
    "duration": 0,
    "start_time": "2024-07-19T13:31:20.056Z"
   },
   {
    "duration": 0,
    "start_time": "2024-07-19T13:31:20.057Z"
   },
   {
    "duration": 0,
    "start_time": "2024-07-19T13:31:20.058Z"
   },
   {
    "duration": 0,
    "start_time": "2024-07-19T13:31:20.059Z"
   },
   {
    "duration": 0,
    "start_time": "2024-07-19T13:31:20.060Z"
   },
   {
    "duration": 274,
    "start_time": "2024-07-19T13:50:21.519Z"
   },
   {
    "duration": 89875,
    "start_time": "2024-07-19T13:50:47.379Z"
   },
   {
    "duration": 13116,
    "start_time": "2024-07-19T13:53:02.645Z"
   },
   {
    "duration": 5933,
    "start_time": "2024-07-19T13:54:26.309Z"
   },
   {
    "duration": 9,
    "start_time": "2024-07-19T13:55:45.412Z"
   },
   {
    "duration": 554,
    "start_time": "2024-07-19T13:55:56.597Z"
   },
   {
    "duration": 5,
    "start_time": "2024-07-19T13:56:13.646Z"
   },
   {
    "duration": 5796,
    "start_time": "2024-07-19T14:29:08.043Z"
   },
   {
    "duration": 554,
    "start_time": "2024-07-19T14:29:16.412Z"
   },
   {
    "duration": 4,
    "start_time": "2024-07-19T14:29:18.407Z"
   },
   {
    "duration": 172091,
    "start_time": "2024-07-19T17:28:13.454Z"
   },
   {
    "duration": 612,
    "start_time": "2024-07-19T17:31:05.548Z"
   },
   {
    "duration": 5,
    "start_time": "2024-07-19T17:31:06.161Z"
   },
   {
    "duration": 168211,
    "start_time": "2024-07-19T17:36:36.149Z"
   },
   {
    "duration": 600,
    "start_time": "2024-07-19T17:39:24.362Z"
   },
   {
    "duration": 7,
    "start_time": "2024-07-19T17:39:42.341Z"
   },
   {
    "duration": 7,
    "start_time": "2024-07-19T17:46:04.721Z"
   },
   {
    "duration": 156870,
    "start_time": "2024-07-19T17:46:14.970Z"
   },
   {
    "duration": 620,
    "start_time": "2024-07-19T17:48:51.842Z"
   },
   {
    "duration": 6,
    "start_time": "2024-07-19T17:48:52.463Z"
   },
   {
    "duration": 613,
    "start_time": "2024-07-19T17:49:38.545Z"
   },
   {
    "duration": 6,
    "start_time": "2024-07-19T17:49:47.307Z"
   },
   {
    "duration": 562,
    "start_time": "2024-07-19T17:59:53.786Z"
   },
   {
    "duration": 6,
    "start_time": "2024-07-19T18:00:00.039Z"
   },
   {
    "duration": 6,
    "start_time": "2024-07-19T18:00:18.602Z"
   },
   {
    "duration": 6,
    "start_time": "2024-07-19T18:04:00.172Z"
   },
   {
    "duration": 30,
    "start_time": "2024-07-19T18:28:37.532Z"
   },
   {
    "duration": 13,
    "start_time": "2024-07-19T18:28:49.478Z"
   },
   {
    "duration": 25,
    "start_time": "2024-07-19T18:29:03.330Z"
   },
   {
    "duration": 9,
    "start_time": "2024-07-19T18:29:23.189Z"
   },
   {
    "duration": 14,
    "start_time": "2024-07-19T18:29:58.250Z"
   },
   {
    "duration": 9,
    "start_time": "2024-07-19T18:30:36.403Z"
   },
   {
    "duration": 12,
    "start_time": "2024-07-19T18:31:13.404Z"
   },
   {
    "duration": 9,
    "start_time": "2024-07-19T18:34:55.351Z"
   },
   {
    "duration": 8,
    "start_time": "2024-07-19T18:35:13.558Z"
   },
   {
    "duration": 7110,
    "start_time": "2024-07-19T18:53:37.742Z"
   },
   {
    "duration": 1244,
    "start_time": "2024-07-19T18:53:44.855Z"
   },
   {
    "duration": 880,
    "start_time": "2024-07-19T18:53:46.101Z"
   },
   {
    "duration": 5,
    "start_time": "2024-07-19T18:53:46.984Z"
   },
   {
    "duration": 5,
    "start_time": "2024-07-19T18:53:46.991Z"
   },
   {
    "duration": 898,
    "start_time": "2024-07-19T18:53:46.998Z"
   },
   {
    "duration": 13,
    "start_time": "2024-07-19T18:53:47.898Z"
   },
   {
    "duration": 54,
    "start_time": "2024-07-19T18:53:47.913Z"
   },
   {
    "duration": 52,
    "start_time": "2024-07-19T18:53:47.968Z"
   },
   {
    "duration": 488,
    "start_time": "2024-07-19T18:53:48.024Z"
   },
   {
    "duration": 390,
    "start_time": "2024-07-19T18:53:48.513Z"
   },
   {
    "duration": 4,
    "start_time": "2024-07-19T18:53:48.905Z"
   },
   {
    "duration": 9,
    "start_time": "2024-07-19T18:53:48.911Z"
   },
   {
    "duration": 6,
    "start_time": "2024-07-19T18:53:48.921Z"
   },
   {
    "duration": 45,
    "start_time": "2024-07-19T18:53:48.928Z"
   },
   {
    "duration": 15,
    "start_time": "2024-07-19T18:53:48.975Z"
   },
   {
    "duration": 52,
    "start_time": "2024-07-19T18:53:48.992Z"
   },
   {
    "duration": 335,
    "start_time": "2024-07-19T18:53:49.045Z"
   },
   {
    "duration": 14,
    "start_time": "2024-07-19T18:53:49.382Z"
   },
   {
    "duration": 173,
    "start_time": "2024-07-19T18:53:49.397Z"
   },
   {
    "duration": 17,
    "start_time": "2024-07-19T18:53:49.572Z"
   },
   {
    "duration": 372,
    "start_time": "2024-07-19T18:53:49.592Z"
   },
   {
    "duration": 19,
    "start_time": "2024-07-19T18:53:49.966Z"
   },
   {
    "duration": 284,
    "start_time": "2024-07-19T18:53:49.986Z"
   },
   {
    "duration": 6,
    "start_time": "2024-07-19T18:53:50.271Z"
   },
   {
    "duration": 27,
    "start_time": "2024-07-19T18:53:50.279Z"
   },
   {
    "duration": 7,
    "start_time": "2024-07-19T18:53:50.308Z"
   },
   {
    "duration": 79,
    "start_time": "2024-07-19T18:53:50.337Z"
   },
   {
    "duration": 33,
    "start_time": "2024-07-19T18:53:50.418Z"
   },
   {
    "duration": 372,
    "start_time": "2024-07-19T18:53:50.453Z"
   },
   {
    "duration": 119,
    "start_time": "2024-07-19T18:53:50.827Z"
   },
   {
    "duration": 41,
    "start_time": "2024-07-19T18:53:50.948Z"
   },
   {
    "duration": 17,
    "start_time": "2024-07-19T18:53:50.991Z"
   },
   {
    "duration": 323,
    "start_time": "2024-07-19T18:53:51.009Z"
   },
   {
    "duration": 21,
    "start_time": "2024-07-19T18:53:51.337Z"
   },
   {
    "duration": 8,
    "start_time": "2024-07-19T18:53:51.359Z"
   },
   {
    "duration": 215,
    "start_time": "2024-07-19T18:53:51.369Z"
   },
   {
    "duration": 8,
    "start_time": "2024-07-19T18:53:51.586Z"
   },
   {
    "duration": 29,
    "start_time": "2024-07-19T18:53:51.595Z"
   },
   {
    "duration": 9,
    "start_time": "2024-07-19T18:53:51.638Z"
   },
   {
    "duration": 39,
    "start_time": "2024-07-19T18:53:51.648Z"
   },
   {
    "duration": 288,
    "start_time": "2024-07-19T18:53:51.689Z"
   },
   {
    "duration": 98,
    "start_time": "2024-07-19T18:53:51.979Z"
   },
   {
    "duration": 28,
    "start_time": "2024-07-19T18:53:52.078Z"
   },
   {
    "duration": 32,
    "start_time": "2024-07-19T18:53:52.107Z"
   },
   {
    "duration": 23,
    "start_time": "2024-07-19T18:53:52.140Z"
   },
   {
    "duration": 23,
    "start_time": "2024-07-19T18:53:52.165Z"
   },
   {
    "duration": 84,
    "start_time": "2024-07-19T18:53:52.189Z"
   },
   {
    "duration": 355,
    "start_time": "2024-07-19T18:53:52.275Z"
   },
   {
    "duration": 132,
    "start_time": "2024-07-19T18:53:52.637Z"
   },
   {
    "duration": 15,
    "start_time": "2024-07-19T18:53:52.771Z"
   },
   {
    "duration": 30,
    "start_time": "2024-07-19T18:53:52.787Z"
   },
   {
    "duration": 352,
    "start_time": "2024-07-19T18:53:52.819Z"
   },
   {
    "duration": 119,
    "start_time": "2024-07-19T18:53:53.172Z"
   },
   {
    "duration": 107,
    "start_time": "2024-07-19T18:53:53.292Z"
   },
   {
    "duration": 16,
    "start_time": "2024-07-19T18:53:53.401Z"
   },
   {
    "duration": 278,
    "start_time": "2024-07-19T18:53:53.437Z"
   },
   {
    "duration": 291,
    "start_time": "2024-07-19T18:53:53.717Z"
   },
   {
    "duration": 308,
    "start_time": "2024-07-19T18:53:54.010Z"
   },
   {
    "duration": 4,
    "start_time": "2024-07-19T18:53:54.321Z"
   },
   {
    "duration": 5780,
    "start_time": "2024-07-19T18:53:54.327Z"
   },
   {
    "duration": 13,
    "start_time": "2024-07-19T18:54:00.109Z"
   },
   {
    "duration": 48,
    "start_time": "2024-07-19T18:54:00.123Z"
   },
   {
    "duration": 67,
    "start_time": "2024-07-19T18:54:00.173Z"
   },
   {
    "duration": 81,
    "start_time": "2024-07-19T18:54:00.241Z"
   },
   {
    "duration": 1588,
    "start_time": "2024-07-19T18:54:00.323Z"
   },
   {
    "duration": 38,
    "start_time": "2024-07-19T18:54:01.913Z"
   },
   {
    "duration": 2291,
    "start_time": "2024-07-19T18:54:01.953Z"
   },
   {
    "duration": 951,
    "start_time": "2024-07-19T18:54:04.246Z"
   },
   {
    "duration": 27258,
    "start_time": "2024-07-19T18:54:05.198Z"
   },
   {
    "duration": 380,
    "start_time": "2024-07-19T18:54:32.458Z"
   },
   {
    "duration": 7,
    "start_time": "2024-07-19T18:54:32.839Z"
   },
   {
    "duration": 13001,
    "start_time": "2024-07-19T18:54:32.848Z"
   },
   {
    "duration": 3813,
    "start_time": "2024-07-19T18:54:45.851Z"
   },
   {
    "duration": 86,
    "start_time": "2024-07-19T18:54:49.667Z"
   },
   {
    "duration": 8,
    "start_time": "2024-07-19T18:54:49.755Z"
   },
   {
    "duration": 163094,
    "start_time": "2024-07-19T18:54:49.765Z"
   },
   {
    "duration": 246,
    "start_time": "2024-07-19T18:57:32.861Z"
   },
   {
    "duration": 10,
    "start_time": "2024-07-19T18:57:33.109Z"
   },
   {
    "duration": 0,
    "start_time": "2024-07-19T18:57:33.121Z"
   },
   {
    "duration": 562,
    "start_time": "2024-07-19T18:59:40.592Z"
   },
   {
    "duration": 8,
    "start_time": "2024-07-19T18:59:43.522Z"
   },
   {
    "duration": 10,
    "start_time": "2024-07-19T18:59:48.249Z"
   },
   {
    "duration": 7301,
    "start_time": "2024-07-19T19:00:36.480Z"
   },
   {
    "duration": 1287,
    "start_time": "2024-07-19T19:00:43.784Z"
   },
   {
    "duration": 1032,
    "start_time": "2024-07-19T19:00:45.073Z"
   },
   {
    "duration": 4,
    "start_time": "2024-07-19T19:00:46.108Z"
   },
   {
    "duration": 13,
    "start_time": "2024-07-19T19:00:46.114Z"
   },
   {
    "duration": 915,
    "start_time": "2024-07-19T19:00:46.129Z"
   },
   {
    "duration": 13,
    "start_time": "2024-07-19T19:00:47.046Z"
   },
   {
    "duration": 39,
    "start_time": "2024-07-19T19:00:47.061Z"
   },
   {
    "duration": 71,
    "start_time": "2024-07-19T19:00:47.102Z"
   },
   {
    "duration": 482,
    "start_time": "2024-07-19T19:00:47.177Z"
   },
   {
    "duration": 430,
    "start_time": "2024-07-19T19:00:47.660Z"
   },
   {
    "duration": 5,
    "start_time": "2024-07-19T19:00:48.091Z"
   },
   {
    "duration": 8,
    "start_time": "2024-07-19T19:00:48.098Z"
   },
   {
    "duration": 6,
    "start_time": "2024-07-19T19:00:48.108Z"
   },
   {
    "duration": 60,
    "start_time": "2024-07-19T19:00:48.115Z"
   },
   {
    "duration": 14,
    "start_time": "2024-07-19T19:00:48.177Z"
   },
   {
    "duration": 53,
    "start_time": "2024-07-19T19:00:48.193Z"
   },
   {
    "duration": 337,
    "start_time": "2024-07-19T19:00:48.248Z"
   },
   {
    "duration": 14,
    "start_time": "2024-07-19T19:00:48.587Z"
   },
   {
    "duration": 152,
    "start_time": "2024-07-19T19:00:48.603Z"
   },
   {
    "duration": 16,
    "start_time": "2024-07-19T19:00:48.757Z"
   },
   {
    "duration": 404,
    "start_time": "2024-07-19T19:00:48.775Z"
   },
   {
    "duration": 23,
    "start_time": "2024-07-19T19:00:49.181Z"
   },
   {
    "duration": 297,
    "start_time": "2024-07-19T19:00:49.205Z"
   },
   {
    "duration": 8,
    "start_time": "2024-07-19T19:00:49.504Z"
   },
   {
    "duration": 40,
    "start_time": "2024-07-19T19:00:49.514Z"
   },
   {
    "duration": 8,
    "start_time": "2024-07-19T19:00:49.556Z"
   },
   {
    "duration": 90,
    "start_time": "2024-07-19T19:00:49.569Z"
   },
   {
    "duration": 28,
    "start_time": "2024-07-19T19:00:49.661Z"
   },
   {
    "duration": 281,
    "start_time": "2024-07-19T19:00:49.691Z"
   },
   {
    "duration": 116,
    "start_time": "2024-07-19T19:00:49.973Z"
   },
   {
    "duration": 27,
    "start_time": "2024-07-19T19:00:50.091Z"
   },
   {
    "duration": 42,
    "start_time": "2024-07-19T19:00:50.120Z"
   },
   {
    "duration": 283,
    "start_time": "2024-07-19T19:00:50.163Z"
   },
   {
    "duration": 25,
    "start_time": "2024-07-19T19:00:50.448Z"
   },
   {
    "duration": 156,
    "start_time": "2024-07-19T19:00:50.475Z"
   },
   {
    "duration": 183,
    "start_time": "2024-07-19T19:00:50.633Z"
   },
   {
    "duration": 6,
    "start_time": "2024-07-19T19:00:50.817Z"
   },
   {
    "duration": 37,
    "start_time": "2024-07-19T19:00:50.825Z"
   },
   {
    "duration": 9,
    "start_time": "2024-07-19T19:00:50.864Z"
   },
   {
    "duration": 38,
    "start_time": "2024-07-19T19:00:50.875Z"
   },
   {
    "duration": 307,
    "start_time": "2024-07-19T19:00:50.915Z"
   },
   {
    "duration": 100,
    "start_time": "2024-07-19T19:00:51.224Z"
   },
   {
    "duration": 27,
    "start_time": "2024-07-19T19:00:51.338Z"
   },
   {
    "duration": 16,
    "start_time": "2024-07-19T19:00:51.367Z"
   },
   {
    "duration": 68,
    "start_time": "2024-07-19T19:00:51.385Z"
   },
   {
    "duration": 34,
    "start_time": "2024-07-19T19:00:51.455Z"
   },
   {
    "duration": 40,
    "start_time": "2024-07-19T19:00:51.490Z"
   },
   {
    "duration": 380,
    "start_time": "2024-07-19T19:00:51.531Z"
   },
   {
    "duration": 112,
    "start_time": "2024-07-19T19:00:51.913Z"
   },
   {
    "duration": 17,
    "start_time": "2024-07-19T19:00:52.037Z"
   },
   {
    "duration": 52,
    "start_time": "2024-07-19T19:00:52.056Z"
   },
   {
    "duration": 342,
    "start_time": "2024-07-19T19:00:52.111Z"
   },
   {
    "duration": 119,
    "start_time": "2024-07-19T19:00:52.455Z"
   },
   {
    "duration": 123,
    "start_time": "2024-07-19T19:00:52.575Z"
   },
   {
    "duration": 15,
    "start_time": "2024-07-19T19:00:52.700Z"
   },
   {
    "duration": 296,
    "start_time": "2024-07-19T19:00:52.717Z"
   },
   {
    "duration": 297,
    "start_time": "2024-07-19T19:00:53.014Z"
   },
   {
    "duration": 322,
    "start_time": "2024-07-19T19:00:53.313Z"
   },
   {
    "duration": 5,
    "start_time": "2024-07-19T19:00:53.636Z"
   },
   {
    "duration": 5663,
    "start_time": "2024-07-19T19:00:53.643Z"
   },
   {
    "duration": 11,
    "start_time": "2024-07-19T19:00:59.308Z"
   },
   {
    "duration": 14,
    "start_time": "2024-07-19T19:00:59.321Z"
   },
   {
    "duration": 56,
    "start_time": "2024-07-19T19:00:59.337Z"
   },
   {
    "duration": 2,
    "start_time": "2024-07-19T19:00:59.395Z"
   },
   {
    "duration": 1429,
    "start_time": "2024-07-19T19:00:59.399Z"
   },
   {
    "duration": 27,
    "start_time": "2024-07-19T19:01:00.830Z"
   },
   {
    "duration": 2413,
    "start_time": "2024-07-19T19:01:00.859Z"
   },
   {
    "duration": 982,
    "start_time": "2024-07-19T19:01:03.274Z"
   },
   {
    "duration": 27907,
    "start_time": "2024-07-19T19:01:04.259Z"
   },
   {
    "duration": 276,
    "start_time": "2024-07-19T19:01:32.167Z"
   },
   {
    "duration": 7,
    "start_time": "2024-07-19T19:01:32.445Z"
   },
   {
    "duration": 12800,
    "start_time": "2024-07-19T19:01:32.454Z"
   },
   {
    "duration": 3924,
    "start_time": "2024-07-19T19:01:45.256Z"
   },
   {
    "duration": 78,
    "start_time": "2024-07-19T19:01:49.182Z"
   },
   {
    "duration": 5,
    "start_time": "2024-07-19T19:01:49.262Z"
   },
   {
    "duration": 213682,
    "start_time": "2024-07-19T19:01:49.269Z"
   },
   {
    "duration": 608,
    "start_time": "2024-07-19T19:05:22.954Z"
   },
   {
    "duration": 7,
    "start_time": "2024-07-19T19:05:23.638Z"
   },
   {
    "duration": 39,
    "start_time": "2024-07-19T19:05:23.646Z"
   },
   {
    "duration": 12619,
    "start_time": "2024-07-21T07:09:02.062Z"
   },
   {
    "duration": 2047,
    "start_time": "2024-07-21T07:09:14.683Z"
   },
   {
    "duration": 3122,
    "start_time": "2024-07-21T07:09:16.732Z"
   },
   {
    "duration": 5,
    "start_time": "2024-07-21T07:09:19.857Z"
   },
   {
    "duration": 18,
    "start_time": "2024-07-21T07:09:19.864Z"
   },
   {
    "duration": 1014,
    "start_time": "2024-07-21T07:09:19.884Z"
   },
   {
    "duration": 13,
    "start_time": "2024-07-21T07:09:20.900Z"
   },
   {
    "duration": 47,
    "start_time": "2024-07-21T07:09:20.915Z"
   },
   {
    "duration": 42,
    "start_time": "2024-07-21T07:09:20.964Z"
   },
   {
    "duration": 501,
    "start_time": "2024-07-21T07:09:21.008Z"
   },
   {
    "duration": 465,
    "start_time": "2024-07-21T07:09:21.510Z"
   },
   {
    "duration": 5,
    "start_time": "2024-07-21T07:09:21.977Z"
   },
   {
    "duration": 6,
    "start_time": "2024-07-21T07:09:21.983Z"
   },
   {
    "duration": 8,
    "start_time": "2024-07-21T07:09:21.991Z"
   },
   {
    "duration": 45,
    "start_time": "2024-07-21T07:09:22.001Z"
   },
   {
    "duration": 14,
    "start_time": "2024-07-21T07:09:22.048Z"
   },
   {
    "duration": 44,
    "start_time": "2024-07-21T07:09:22.064Z"
   },
   {
    "duration": 367,
    "start_time": "2024-07-21T07:09:22.110Z"
   },
   {
    "duration": 15,
    "start_time": "2024-07-21T07:09:22.479Z"
   },
   {
    "duration": 135,
    "start_time": "2024-07-21T07:09:22.495Z"
   },
   {
    "duration": 18,
    "start_time": "2024-07-21T07:09:22.646Z"
   },
   {
    "duration": 376,
    "start_time": "2024-07-21T07:09:22.666Z"
   },
   {
    "duration": 20,
    "start_time": "2024-07-21T07:09:23.045Z"
   },
   {
    "duration": 310,
    "start_time": "2024-07-21T07:09:23.067Z"
   },
   {
    "duration": 13,
    "start_time": "2024-07-21T07:09:23.379Z"
   },
   {
    "duration": 29,
    "start_time": "2024-07-21T07:09:23.394Z"
   },
   {
    "duration": 25,
    "start_time": "2024-07-21T07:09:23.425Z"
   },
   {
    "duration": 95,
    "start_time": "2024-07-21T07:09:23.454Z"
   },
   {
    "duration": 37,
    "start_time": "2024-07-21T07:09:23.551Z"
   },
   {
    "duration": 302,
    "start_time": "2024-07-21T07:09:23.592Z"
   },
   {
    "duration": 123,
    "start_time": "2024-07-21T07:09:23.896Z"
   },
   {
    "duration": 40,
    "start_time": "2024-07-21T07:09:24.021Z"
   },
   {
    "duration": 17,
    "start_time": "2024-07-21T07:09:24.063Z"
   },
   {
    "duration": 294,
    "start_time": "2024-07-21T07:09:24.082Z"
   },
   {
    "duration": 20,
    "start_time": "2024-07-21T07:09:24.377Z"
   },
   {
    "duration": 34,
    "start_time": "2024-07-21T07:09:24.398Z"
   },
   {
    "duration": 161,
    "start_time": "2024-07-21T07:09:24.433Z"
   },
   {
    "duration": 6,
    "start_time": "2024-07-21T07:09:24.595Z"
   },
   {
    "duration": 24,
    "start_time": "2024-07-21T07:09:24.603Z"
   },
   {
    "duration": 23,
    "start_time": "2024-07-21T07:09:24.629Z"
   },
   {
    "duration": 25,
    "start_time": "2024-07-21T07:09:24.654Z"
   },
   {
    "duration": 324,
    "start_time": "2024-07-21T07:09:24.681Z"
   },
   {
    "duration": 96,
    "start_time": "2024-07-21T07:09:25.007Z"
   },
   {
    "duration": 45,
    "start_time": "2024-07-21T07:09:25.105Z"
   },
   {
    "duration": 23,
    "start_time": "2024-07-21T07:09:25.151Z"
   },
   {
    "duration": 25,
    "start_time": "2024-07-21T07:09:25.176Z"
   },
   {
    "duration": 12,
    "start_time": "2024-07-21T07:09:25.203Z"
   },
   {
    "duration": 42,
    "start_time": "2024-07-21T07:09:25.216Z"
   },
   {
    "duration": 414,
    "start_time": "2024-07-21T07:09:25.260Z"
   },
   {
    "duration": 117,
    "start_time": "2024-07-21T07:09:25.676Z"
   },
   {
    "duration": 16,
    "start_time": "2024-07-21T07:09:25.794Z"
   },
   {
    "duration": 50,
    "start_time": "2024-07-21T07:09:25.811Z"
   },
   {
    "duration": 355,
    "start_time": "2024-07-21T07:09:25.863Z"
   },
   {
    "duration": 132,
    "start_time": "2024-07-21T07:09:26.219Z"
   },
   {
    "duration": 115,
    "start_time": "2024-07-21T07:09:26.352Z"
   },
   {
    "duration": 18,
    "start_time": "2024-07-21T07:09:26.469Z"
   },
   {
    "duration": 339,
    "start_time": "2024-07-21T07:09:26.489Z"
   },
   {
    "duration": 332,
    "start_time": "2024-07-21T07:09:26.837Z"
   },
   {
    "duration": 328,
    "start_time": "2024-07-21T07:09:27.170Z"
   },
   {
    "duration": 4,
    "start_time": "2024-07-21T07:09:27.500Z"
   },
   {
    "duration": 6139,
    "start_time": "2024-07-21T07:09:27.506Z"
   },
   {
    "duration": 13,
    "start_time": "2024-07-21T07:09:33.647Z"
   },
   {
    "duration": 130,
    "start_time": "2024-07-21T07:09:33.661Z"
   },
   {
    "duration": 0,
    "start_time": "2024-07-21T07:09:33.793Z"
   },
   {
    "duration": 0,
    "start_time": "2024-07-21T07:09:33.794Z"
   },
   {
    "duration": 0,
    "start_time": "2024-07-21T07:09:33.795Z"
   },
   {
    "duration": 0,
    "start_time": "2024-07-21T07:09:33.796Z"
   },
   {
    "duration": 0,
    "start_time": "2024-07-21T07:09:33.798Z"
   },
   {
    "duration": 0,
    "start_time": "2024-07-21T07:09:33.799Z"
   },
   {
    "duration": 0,
    "start_time": "2024-07-21T07:09:33.800Z"
   },
   {
    "duration": 0,
    "start_time": "2024-07-21T07:09:33.801Z"
   },
   {
    "duration": 0,
    "start_time": "2024-07-21T07:09:33.802Z"
   },
   {
    "duration": 0,
    "start_time": "2024-07-21T07:09:33.803Z"
   },
   {
    "duration": 0,
    "start_time": "2024-07-21T07:09:33.805Z"
   },
   {
    "duration": 0,
    "start_time": "2024-07-21T07:09:33.806Z"
   },
   {
    "duration": 0,
    "start_time": "2024-07-21T07:09:33.807Z"
   },
   {
    "duration": 0,
    "start_time": "2024-07-21T07:09:33.808Z"
   },
   {
    "duration": 0,
    "start_time": "2024-07-21T07:09:33.809Z"
   },
   {
    "duration": 0,
    "start_time": "2024-07-21T07:09:33.810Z"
   },
   {
    "duration": 0,
    "start_time": "2024-07-21T07:09:33.811Z"
   },
   {
    "duration": 0,
    "start_time": "2024-07-21T07:09:33.813Z"
   },
   {
    "duration": 17,
    "start_time": "2024-07-21T07:20:36.389Z"
   },
   {
    "duration": 86,
    "start_time": "2024-07-21T07:24:27.471Z"
   },
   {
    "duration": 3,
    "start_time": "2024-07-21T07:26:52.788Z"
   },
   {
    "duration": 1607,
    "start_time": "2024-07-21T07:53:48.588Z"
   },
   {
    "duration": 1753,
    "start_time": "2024-07-21T07:54:40.114Z"
   },
   {
    "duration": 1622,
    "start_time": "2024-07-21T07:54:51.102Z"
   },
   {
    "duration": 30,
    "start_time": "2024-07-21T08:10:04.479Z"
   },
   {
    "duration": 32,
    "start_time": "2024-07-21T08:10:15.056Z"
   },
   {
    "duration": 30,
    "start_time": "2024-07-21T08:10:43.299Z"
   },
   {
    "duration": 25,
    "start_time": "2024-07-21T08:11:36.862Z"
   },
   {
    "duration": 87,
    "start_time": "2024-07-21T08:11:38.646Z"
   },
   {
    "duration": 3,
    "start_time": "2024-07-21T08:11:40.529Z"
   },
   {
    "duration": 29,
    "start_time": "2024-07-21T08:11:41.994Z"
   },
   {
    "duration": 25,
    "start_time": "2024-07-21T08:13:55.604Z"
   },
   {
    "duration": 1722,
    "start_time": "2024-07-21T08:15:04.395Z"
   },
   {
    "duration": 2052,
    "start_time": "2024-07-21T08:18:32.994Z"
   },
   {
    "duration": 955,
    "start_time": "2024-07-21T08:18:43.281Z"
   },
   {
    "duration": 21,
    "start_time": "2024-07-21T08:22:25.853Z"
   },
   {
    "duration": 96,
    "start_time": "2024-07-21T08:22:27.242Z"
   },
   {
    "duration": 4,
    "start_time": "2024-07-21T08:22:28.315Z"
   },
   {
    "duration": 33,
    "start_time": "2024-07-21T08:22:30.553Z"
   },
   {
    "duration": 1616,
    "start_time": "2024-07-21T08:22:32.747Z"
   },
   {
    "duration": 2013,
    "start_time": "2024-07-21T08:22:36.460Z"
   },
   {
    "duration": 933,
    "start_time": "2024-07-21T08:22:58.868Z"
   },
   {
    "duration": 943,
    "start_time": "2024-07-21T08:23:17.039Z"
   },
   {
    "duration": 1402,
    "start_time": "2024-07-21T08:23:53.758Z"
   },
   {
    "duration": 8,
    "start_time": "2024-07-21T08:24:40.117Z"
   },
   {
    "duration": 7875,
    "start_time": "2024-07-21T08:24:45.389Z"
   },
   {
    "duration": 1400,
    "start_time": "2024-07-21T08:24:53.266Z"
   },
   {
    "duration": 1006,
    "start_time": "2024-07-21T08:24:54.668Z"
   },
   {
    "duration": 5,
    "start_time": "2024-07-21T08:24:55.676Z"
   },
   {
    "duration": 7,
    "start_time": "2024-07-21T08:24:55.683Z"
   },
   {
    "duration": 1011,
    "start_time": "2024-07-21T08:24:55.691Z"
   },
   {
    "duration": 13,
    "start_time": "2024-07-21T08:24:56.704Z"
   },
   {
    "duration": 50,
    "start_time": "2024-07-21T08:24:56.719Z"
   },
   {
    "duration": 42,
    "start_time": "2024-07-21T08:24:56.770Z"
   },
   {
    "duration": 460,
    "start_time": "2024-07-21T08:24:56.814Z"
   },
   {
    "duration": 480,
    "start_time": "2024-07-21T08:24:57.275Z"
   },
   {
    "duration": 8,
    "start_time": "2024-07-21T08:24:57.757Z"
   },
   {
    "duration": 25,
    "start_time": "2024-07-21T08:24:57.766Z"
   },
   {
    "duration": 58,
    "start_time": "2024-07-21T08:24:57.795Z"
   },
   {
    "duration": 35,
    "start_time": "2024-07-21T08:24:57.859Z"
   },
   {
    "duration": 13,
    "start_time": "2024-07-21T08:24:57.896Z"
   },
   {
    "duration": 21,
    "start_time": "2024-07-21T08:24:57.911Z"
   },
   {
    "duration": 386,
    "start_time": "2024-07-21T08:24:57.933Z"
   },
   {
    "duration": 13,
    "start_time": "2024-07-21T08:24:58.320Z"
   },
   {
    "duration": 150,
    "start_time": "2024-07-21T08:24:58.335Z"
   },
   {
    "duration": 18,
    "start_time": "2024-07-21T08:24:58.487Z"
   },
   {
    "duration": 429,
    "start_time": "2024-07-21T08:24:58.507Z"
   },
   {
    "duration": 28,
    "start_time": "2024-07-21T08:24:58.938Z"
   },
   {
    "duration": 313,
    "start_time": "2024-07-21T08:24:58.968Z"
   },
   {
    "duration": 7,
    "start_time": "2024-07-21T08:24:59.282Z"
   },
   {
    "duration": 29,
    "start_time": "2024-07-21T08:24:59.290Z"
   },
   {
    "duration": 33,
    "start_time": "2024-07-21T08:24:59.320Z"
   },
   {
    "duration": 21,
    "start_time": "2024-07-21T08:24:59.355Z"
   },
   {
    "duration": 28,
    "start_time": "2024-07-21T08:24:59.378Z"
   },
   {
    "duration": 393,
    "start_time": "2024-07-21T08:24:59.408Z"
   },
   {
    "duration": 138,
    "start_time": "2024-07-21T08:24:59.803Z"
   },
   {
    "duration": 38,
    "start_time": "2024-07-21T08:24:59.945Z"
   },
   {
    "duration": 28,
    "start_time": "2024-07-21T08:24:59.984Z"
   },
   {
    "duration": 366,
    "start_time": "2024-07-21T08:25:00.014Z"
   },
   {
    "duration": 20,
    "start_time": "2024-07-21T08:25:00.382Z"
   },
   {
    "duration": 76,
    "start_time": "2024-07-21T08:25:00.404Z"
   },
   {
    "duration": 335,
    "start_time": "2024-07-21T08:25:00.482Z"
   },
   {
    "duration": 8,
    "start_time": "2024-07-21T08:25:00.819Z"
   },
   {
    "duration": 60,
    "start_time": "2024-07-21T08:25:00.828Z"
   },
   {
    "duration": 51,
    "start_time": "2024-07-21T08:25:00.889Z"
   },
   {
    "duration": 54,
    "start_time": "2024-07-21T08:25:00.944Z"
   },
   {
    "duration": 385,
    "start_time": "2024-07-21T08:25:01.000Z"
   },
   {
    "duration": 104,
    "start_time": "2024-07-21T08:25:01.387Z"
   },
   {
    "duration": 29,
    "start_time": "2024-07-21T08:25:01.493Z"
   },
   {
    "duration": 37,
    "start_time": "2024-07-21T08:25:01.524Z"
   },
   {
    "duration": 72,
    "start_time": "2024-07-21T08:25:01.563Z"
   },
   {
    "duration": 31,
    "start_time": "2024-07-21T08:25:01.636Z"
   },
   {
    "duration": 47,
    "start_time": "2024-07-21T08:25:01.669Z"
   },
   {
    "duration": 411,
    "start_time": "2024-07-21T08:25:01.718Z"
   },
   {
    "duration": 128,
    "start_time": "2024-07-21T08:25:02.130Z"
   },
   {
    "duration": 16,
    "start_time": "2024-07-21T08:25:02.260Z"
   },
   {
    "duration": 60,
    "start_time": "2024-07-21T08:25:02.278Z"
   },
   {
    "duration": 442,
    "start_time": "2024-07-21T08:25:02.340Z"
   },
   {
    "duration": 131,
    "start_time": "2024-07-21T08:25:02.784Z"
   },
   {
    "duration": 455,
    "start_time": "2024-07-21T08:25:02.917Z"
   },
   {
    "duration": 19,
    "start_time": "2024-07-21T08:25:03.374Z"
   },
   {
    "duration": 319,
    "start_time": "2024-07-21T08:25:03.395Z"
   },
   {
    "duration": 304,
    "start_time": "2024-07-21T08:25:03.716Z"
   },
   {
    "duration": 316,
    "start_time": "2024-07-21T08:25:04.022Z"
   },
   {
    "duration": 9,
    "start_time": "2024-07-21T08:25:04.351Z"
   },
   {
    "duration": 6419,
    "start_time": "2024-07-21T08:25:04.362Z"
   },
   {
    "duration": 12,
    "start_time": "2024-07-21T08:25:10.783Z"
   },
   {
    "duration": 100,
    "start_time": "2024-07-21T08:25:10.797Z"
   },
   {
    "duration": 88,
    "start_time": "2024-07-21T08:25:10.899Z"
   },
   {
    "duration": 3,
    "start_time": "2024-07-21T08:25:10.988Z"
   },
   {
    "duration": 31,
    "start_time": "2024-07-21T08:25:10.993Z"
   },
   {
    "duration": 1635,
    "start_time": "2024-07-21T08:25:11.026Z"
   },
   {
    "duration": 2053,
    "start_time": "2024-07-21T08:25:12.663Z"
   },
   {
    "duration": 902,
    "start_time": "2024-07-21T08:25:14.717Z"
   },
   {
    "duration": 138,
    "start_time": "2024-07-21T08:25:15.620Z"
   },
   {
    "duration": 0,
    "start_time": "2024-07-21T08:25:15.760Z"
   },
   {
    "duration": 0,
    "start_time": "2024-07-21T08:25:15.761Z"
   },
   {
    "duration": 0,
    "start_time": "2024-07-21T08:25:15.763Z"
   },
   {
    "duration": 0,
    "start_time": "2024-07-21T08:25:15.764Z"
   },
   {
    "duration": 0,
    "start_time": "2024-07-21T08:25:15.765Z"
   },
   {
    "duration": 0,
    "start_time": "2024-07-21T08:25:15.766Z"
   },
   {
    "duration": 0,
    "start_time": "2024-07-21T08:25:15.767Z"
   },
   {
    "duration": 0,
    "start_time": "2024-07-21T08:25:15.768Z"
   },
   {
    "duration": 0,
    "start_time": "2024-07-21T08:25:15.769Z"
   },
   {
    "duration": 0,
    "start_time": "2024-07-21T08:25:15.770Z"
   },
   {
    "duration": 0,
    "start_time": "2024-07-21T08:25:15.771Z"
   },
   {
    "duration": 12,
    "start_time": "2024-07-21T08:29:22.905Z"
   },
   {
    "duration": 8,
    "start_time": "2024-07-21T08:29:58.569Z"
   },
   {
    "duration": 469,
    "start_time": "2024-07-21T08:30:13.896Z"
   },
   {
    "duration": 407,
    "start_time": "2024-07-21T08:31:49.412Z"
   },
   {
    "duration": 421,
    "start_time": "2024-07-21T08:32:19.359Z"
   },
   {
    "duration": 7610,
    "start_time": "2024-07-21T08:32:48.779Z"
   },
   {
    "duration": 1325,
    "start_time": "2024-07-21T08:32:56.391Z"
   },
   {
    "duration": 1005,
    "start_time": "2024-07-21T08:32:57.718Z"
   },
   {
    "duration": 6,
    "start_time": "2024-07-21T08:32:58.725Z"
   },
   {
    "duration": 23,
    "start_time": "2024-07-21T08:32:58.733Z"
   },
   {
    "duration": 928,
    "start_time": "2024-07-21T08:32:58.758Z"
   },
   {
    "duration": 12,
    "start_time": "2024-07-21T08:32:59.688Z"
   },
   {
    "duration": 38,
    "start_time": "2024-07-21T08:32:59.702Z"
   },
   {
    "duration": 21,
    "start_time": "2024-07-21T08:32:59.742Z"
   },
   {
    "duration": 457,
    "start_time": "2024-07-21T08:32:59.766Z"
   },
   {
    "duration": 501,
    "start_time": "2024-07-21T08:33:00.225Z"
   },
   {
    "duration": 5,
    "start_time": "2024-07-21T08:33:00.727Z"
   },
   {
    "duration": 147,
    "start_time": "2024-07-21T08:33:00.734Z"
   },
   {
    "duration": 44,
    "start_time": "2024-07-21T08:33:00.883Z"
   },
   {
    "duration": 92,
    "start_time": "2024-07-21T08:33:00.928Z"
   },
   {
    "duration": 35,
    "start_time": "2024-07-21T08:33:01.022Z"
   },
   {
    "duration": 35,
    "start_time": "2024-07-21T08:33:01.059Z"
   },
   {
    "duration": 375,
    "start_time": "2024-07-21T08:33:01.096Z"
   },
   {
    "duration": 14,
    "start_time": "2024-07-21T08:33:01.473Z"
   },
   {
    "duration": 206,
    "start_time": "2024-07-21T08:33:01.489Z"
   },
   {
    "duration": 17,
    "start_time": "2024-07-21T08:33:01.697Z"
   },
   {
    "duration": 428,
    "start_time": "2024-07-21T08:33:01.716Z"
   },
   {
    "duration": 24,
    "start_time": "2024-07-21T08:33:02.146Z"
   },
   {
    "duration": 702,
    "start_time": "2024-07-21T08:33:02.172Z"
   },
   {
    "duration": 245,
    "start_time": "2024-07-21T08:33:02.875Z"
   },
   {
    "duration": 62,
    "start_time": "2024-07-21T08:33:03.121Z"
   },
   {
    "duration": 7,
    "start_time": "2024-07-21T08:33:03.184Z"
   },
   {
    "duration": 91,
    "start_time": "2024-07-21T08:33:03.196Z"
   },
   {
    "duration": 35,
    "start_time": "2024-07-21T08:33:03.288Z"
   },
   {
    "duration": 297,
    "start_time": "2024-07-21T08:33:03.325Z"
   },
   {
    "duration": 138,
    "start_time": "2024-07-21T08:33:03.623Z"
   },
   {
    "duration": 33,
    "start_time": "2024-07-21T08:33:03.762Z"
   },
   {
    "duration": 19,
    "start_time": "2024-07-21T08:33:03.797Z"
   },
   {
    "duration": 338,
    "start_time": "2024-07-21T08:33:03.818Z"
   },
   {
    "duration": 21,
    "start_time": "2024-07-21T08:33:04.158Z"
   },
   {
    "duration": 9,
    "start_time": "2024-07-21T08:33:04.180Z"
   },
   {
    "duration": 185,
    "start_time": "2024-07-21T08:33:04.191Z"
   },
   {
    "duration": 6,
    "start_time": "2024-07-21T08:33:04.378Z"
   },
   {
    "duration": 22,
    "start_time": "2024-07-21T08:33:04.386Z"
   },
   {
    "duration": 12,
    "start_time": "2024-07-21T08:33:04.410Z"
   },
   {
    "duration": 23,
    "start_time": "2024-07-21T08:33:04.446Z"
   },
   {
    "duration": 338,
    "start_time": "2024-07-21T08:33:04.470Z"
   },
   {
    "duration": 101,
    "start_time": "2024-07-21T08:33:04.810Z"
   },
   {
    "duration": 42,
    "start_time": "2024-07-21T08:33:04.913Z"
   },
   {
    "duration": 20,
    "start_time": "2024-07-21T08:33:04.956Z"
   },
   {
    "duration": 26,
    "start_time": "2024-07-21T08:33:04.978Z"
   },
   {
    "duration": 25,
    "start_time": "2024-07-21T08:33:05.006Z"
   },
   {
    "duration": 60,
    "start_time": "2024-07-21T08:33:05.032Z"
   },
   {
    "duration": 417,
    "start_time": "2024-07-21T08:33:05.093Z"
   },
   {
    "duration": 148,
    "start_time": "2024-07-21T08:33:05.512Z"
   },
   {
    "duration": 16,
    "start_time": "2024-07-21T08:33:05.662Z"
   },
   {
    "duration": 69,
    "start_time": "2024-07-21T08:33:05.680Z"
   },
   {
    "duration": 338,
    "start_time": "2024-07-21T08:33:05.751Z"
   },
   {
    "duration": 120,
    "start_time": "2024-07-21T08:33:06.091Z"
   },
   {
    "duration": 111,
    "start_time": "2024-07-21T08:33:06.213Z"
   },
   {
    "duration": 31,
    "start_time": "2024-07-21T08:33:06.326Z"
   },
   {
    "duration": 320,
    "start_time": "2024-07-21T08:33:06.359Z"
   },
   {
    "duration": 295,
    "start_time": "2024-07-21T08:33:06.681Z"
   },
   {
    "duration": 297,
    "start_time": "2024-07-21T08:33:06.978Z"
   },
   {
    "duration": 4,
    "start_time": "2024-07-21T08:33:07.277Z"
   },
   {
    "duration": 6102,
    "start_time": "2024-07-21T08:33:07.283Z"
   },
   {
    "duration": 13,
    "start_time": "2024-07-21T08:33:13.386Z"
   },
   {
    "duration": 27,
    "start_time": "2024-07-21T08:33:13.402Z"
   },
   {
    "duration": 82,
    "start_time": "2024-07-21T08:33:13.431Z"
   },
   {
    "duration": 3,
    "start_time": "2024-07-21T08:33:13.515Z"
   },
   {
    "duration": 43,
    "start_time": "2024-07-21T08:33:13.520Z"
   },
   {
    "duration": 1627,
    "start_time": "2024-07-21T08:33:13.565Z"
   },
   {
    "duration": 2298,
    "start_time": "2024-07-21T08:33:15.195Z"
   },
   {
    "duration": 873,
    "start_time": "2024-07-21T08:33:17.495Z"
   },
   {
    "duration": 506,
    "start_time": "2024-07-21T08:33:18.370Z"
   },
   {
    "duration": 135,
    "start_time": "2024-07-21T08:33:18.877Z"
   },
   {
    "duration": 0,
    "start_time": "2024-07-21T08:33:19.014Z"
   },
   {
    "duration": 0,
    "start_time": "2024-07-21T08:33:19.016Z"
   },
   {
    "duration": 0,
    "start_time": "2024-07-21T08:33:19.017Z"
   },
   {
    "duration": 0,
    "start_time": "2024-07-21T08:33:19.019Z"
   },
   {
    "duration": 0,
    "start_time": "2024-07-21T08:33:19.020Z"
   },
   {
    "duration": 0,
    "start_time": "2024-07-21T08:33:19.021Z"
   },
   {
    "duration": 0,
    "start_time": "2024-07-21T08:33:19.022Z"
   },
   {
    "duration": 0,
    "start_time": "2024-07-21T08:33:19.023Z"
   },
   {
    "duration": 0,
    "start_time": "2024-07-21T08:33:19.024Z"
   },
   {
    "duration": 0,
    "start_time": "2024-07-21T08:33:19.046Z"
   },
   {
    "duration": 0,
    "start_time": "2024-07-21T08:33:19.047Z"
   },
   {
    "duration": 411,
    "start_time": "2024-07-21T08:34:43.300Z"
   },
   {
    "duration": 14,
    "start_time": "2024-07-21T08:36:57.341Z"
   },
   {
    "duration": 431,
    "start_time": "2024-07-21T08:37:21.020Z"
   },
   {
    "duration": 18611,
    "start_time": "2024-07-21T10:17:55.755Z"
   },
   {
    "duration": 147,
    "start_time": "2024-07-21T10:18:34.108Z"
   },
   {
    "duration": 23,
    "start_time": "2024-07-21T10:18:45.760Z"
   },
   {
    "duration": 7,
    "start_time": "2024-07-21T10:19:40.027Z"
   },
   {
    "duration": 13,
    "start_time": "2024-07-21T10:23:35.841Z"
   },
   {
    "duration": 155,
    "start_time": "2024-07-21T10:23:51.901Z"
   },
   {
    "duration": 1176,
    "start_time": "2024-07-21T10:24:00.631Z"
   },
   {
    "duration": 333,
    "start_time": "2024-07-21T10:24:26.482Z"
   },
   {
    "duration": 12,
    "start_time": "2024-07-21T10:24:58.176Z"
   },
   {
    "duration": 27,
    "start_time": "2024-07-21T10:25:05.256Z"
   },
   {
    "duration": 7,
    "start_time": "2024-07-21T10:25:22.073Z"
   },
   {
    "duration": 32287,
    "start_time": "2024-07-21T10:27:06.083Z"
   },
   {
    "duration": 373,
    "start_time": "2024-07-21T10:27:38.372Z"
   },
   {
    "duration": 197,
    "start_time": "2024-07-21T10:27:58.871Z"
   },
   {
    "duration": 12,
    "start_time": "2024-07-21T10:28:18.901Z"
   },
   {
    "duration": 7,
    "start_time": "2024-07-21T10:28:28.052Z"
   },
   {
    "duration": 11,
    "start_time": "2024-07-21T10:28:37.026Z"
   },
   {
    "duration": 11,
    "start_time": "2024-07-21T10:36:33.648Z"
   },
   {
    "duration": 214,
    "start_time": "2024-07-21T10:36:41.848Z"
   },
   {
    "duration": 147,
    "start_time": "2024-07-21T10:37:36.618Z"
   },
   {
    "duration": 250,
    "start_time": "2024-07-21T10:38:27.904Z"
   },
   {
    "duration": 5,
    "start_time": "2024-07-21T10:38:34.804Z"
   },
   {
    "duration": 12,
    "start_time": "2024-07-21T10:48:15.735Z"
   },
   {
    "duration": 11,
    "start_time": "2024-07-21T10:51:14.003Z"
   },
   {
    "duration": 10,
    "start_time": "2024-07-21T10:51:42.888Z"
   },
   {
    "duration": 9,
    "start_time": "2024-07-21T10:51:50.328Z"
   },
   {
    "duration": 13,
    "start_time": "2024-07-21T10:51:56.943Z"
   },
   {
    "duration": 10,
    "start_time": "2024-07-21T10:53:17.037Z"
   },
   {
    "duration": 10,
    "start_time": "2024-07-21T10:54:38.822Z"
   },
   {
    "duration": 10,
    "start_time": "2024-07-21T10:58:14.398Z"
   },
   {
    "duration": 192,
    "start_time": "2024-07-21T11:04:18.724Z"
   },
   {
    "duration": 7488,
    "start_time": "2024-07-21T11:13:46.938Z"
   },
   {
    "duration": 1383,
    "start_time": "2024-07-21T11:13:54.429Z"
   },
   {
    "duration": 974,
    "start_time": "2024-07-21T11:13:55.813Z"
   },
   {
    "duration": 5,
    "start_time": "2024-07-21T11:13:56.789Z"
   },
   {
    "duration": 3,
    "start_time": "2024-07-21T11:13:56.797Z"
   },
   {
    "duration": 951,
    "start_time": "2024-07-21T11:13:56.802Z"
   },
   {
    "duration": 13,
    "start_time": "2024-07-21T11:13:57.756Z"
   },
   {
    "duration": 36,
    "start_time": "2024-07-21T11:13:57.771Z"
   },
   {
    "duration": 55,
    "start_time": "2024-07-21T11:13:57.809Z"
   },
   {
    "duration": 412,
    "start_time": "2024-07-21T11:13:57.866Z"
   },
   {
    "duration": 474,
    "start_time": "2024-07-21T11:13:58.280Z"
   },
   {
    "duration": 5,
    "start_time": "2024-07-21T11:13:58.756Z"
   },
   {
    "duration": 9,
    "start_time": "2024-07-21T11:13:58.762Z"
   },
   {
    "duration": 6,
    "start_time": "2024-07-21T11:13:58.774Z"
   },
   {
    "duration": 35,
    "start_time": "2024-07-21T11:13:58.781Z"
   },
   {
    "duration": 36,
    "start_time": "2024-07-21T11:13:58.818Z"
   },
   {
    "duration": 20,
    "start_time": "2024-07-21T11:13:58.856Z"
   },
   {
    "duration": 387,
    "start_time": "2024-07-21T11:13:58.878Z"
   },
   {
    "duration": 15,
    "start_time": "2024-07-21T11:13:59.266Z"
   },
   {
    "duration": 126,
    "start_time": "2024-07-21T11:13:59.282Z"
   },
   {
    "duration": 16,
    "start_time": "2024-07-21T11:13:59.410Z"
   },
   {
    "duration": 375,
    "start_time": "2024-07-21T11:13:59.428Z"
   },
   {
    "duration": 20,
    "start_time": "2024-07-21T11:13:59.805Z"
   },
   {
    "duration": 313,
    "start_time": "2024-07-21T11:13:59.827Z"
   },
   {
    "duration": 7,
    "start_time": "2024-07-21T11:14:00.146Z"
   },
   {
    "duration": 160,
    "start_time": "2024-07-21T11:14:00.155Z"
   },
   {
    "duration": 254,
    "start_time": "2024-07-21T11:14:00.317Z"
   },
   {
    "duration": 372,
    "start_time": "2024-07-21T11:14:00.573Z"
   },
   {
    "duration": 139,
    "start_time": "2024-07-21T11:14:00.947Z"
   },
   {
    "duration": 383,
    "start_time": "2024-07-21T11:14:01.088Z"
   },
   {
    "duration": 123,
    "start_time": "2024-07-21T11:14:01.473Z"
   },
   {
    "duration": 241,
    "start_time": "2024-07-21T11:14:01.598Z"
   },
   {
    "duration": 40,
    "start_time": "2024-07-21T11:14:01.841Z"
   },
   {
    "duration": 299,
    "start_time": "2024-07-21T11:14:01.882Z"
   },
   {
    "duration": 25,
    "start_time": "2024-07-21T11:14:02.183Z"
   },
   {
    "duration": 46,
    "start_time": "2024-07-21T11:14:02.210Z"
   },
   {
    "duration": 288,
    "start_time": "2024-07-21T11:14:02.258Z"
   },
   {
    "duration": 7,
    "start_time": "2024-07-21T11:14:02.547Z"
   },
   {
    "duration": 510,
    "start_time": "2024-07-21T11:14:02.556Z"
   },
   {
    "duration": 145,
    "start_time": "2024-07-21T11:14:03.067Z"
   },
   {
    "duration": 35,
    "start_time": "2024-07-21T11:14:03.217Z"
   },
   {
    "duration": 320,
    "start_time": "2024-07-21T11:14:03.254Z"
   },
   {
    "duration": 97,
    "start_time": "2024-07-21T11:14:03.576Z"
   },
   {
    "duration": 55,
    "start_time": "2024-07-21T11:14:03.674Z"
   },
   {
    "duration": 21,
    "start_time": "2024-07-21T11:14:03.730Z"
   },
   {
    "duration": 66,
    "start_time": "2024-07-21T11:14:03.753Z"
   },
   {
    "duration": 33,
    "start_time": "2024-07-21T11:14:03.821Z"
   },
   {
    "duration": 34,
    "start_time": "2024-07-21T11:14:03.856Z"
   },
   {
    "duration": 409,
    "start_time": "2024-07-21T11:14:03.893Z"
   },
   {
    "duration": 121,
    "start_time": "2024-07-21T11:14:04.304Z"
   },
   {
    "duration": 31,
    "start_time": "2024-07-21T11:14:04.427Z"
   },
   {
    "duration": 60,
    "start_time": "2024-07-21T11:14:04.460Z"
   },
   {
    "duration": 339,
    "start_time": "2024-07-21T11:14:04.522Z"
   },
   {
    "duration": 123,
    "start_time": "2024-07-21T11:14:04.864Z"
   },
   {
    "duration": 113,
    "start_time": "2024-07-21T11:14:04.988Z"
   },
   {
    "duration": 18,
    "start_time": "2024-07-21T11:14:05.103Z"
   },
   {
    "duration": 345,
    "start_time": "2024-07-21T11:14:05.123Z"
   },
   {
    "duration": 289,
    "start_time": "2024-07-21T11:14:05.470Z"
   },
   {
    "duration": 308,
    "start_time": "2024-07-21T11:14:05.761Z"
   },
   {
    "duration": 4,
    "start_time": "2024-07-21T11:14:06.070Z"
   },
   {
    "duration": 6277,
    "start_time": "2024-07-21T11:14:06.076Z"
   },
   {
    "duration": 13,
    "start_time": "2024-07-21T11:14:12.354Z"
   },
   {
    "duration": 28,
    "start_time": "2024-07-21T11:14:12.369Z"
   },
   {
    "duration": 88,
    "start_time": "2024-07-21T11:14:12.398Z"
   },
   {
    "duration": 3,
    "start_time": "2024-07-21T11:14:12.488Z"
   },
   {
    "duration": 41,
    "start_time": "2024-07-21T11:14:12.492Z"
   },
   {
    "duration": 1562,
    "start_time": "2024-07-21T11:14:12.535Z"
   },
   {
    "duration": 2552,
    "start_time": "2024-07-21T11:14:14.098Z"
   },
   {
    "duration": 854,
    "start_time": "2024-07-21T11:14:16.652Z"
   },
   {
    "duration": 453,
    "start_time": "2024-07-21T11:14:17.508Z"
   },
   {
    "duration": 13,
    "start_time": "2024-07-21T11:14:17.963Z"
   },
   {
    "duration": 21306,
    "start_time": "2024-07-21T11:14:17.977Z"
   },
   {
    "duration": 264,
    "start_time": "2024-07-21T11:14:39.284Z"
   },
   {
    "duration": 96,
    "start_time": "2024-07-21T11:14:39.550Z"
   },
   {
    "duration": 1175,
    "start_time": "2024-07-21T11:14:39.648Z"
   },
   {
    "duration": 331,
    "start_time": "2024-07-21T11:14:40.825Z"
   },
   {
    "duration": 11,
    "start_time": "2024-07-21T11:14:41.158Z"
   },
   {
    "duration": 5,
    "start_time": "2024-07-21T11:14:41.171Z"
   },
   {
    "duration": 3973,
    "start_time": "2024-07-21T11:14:41.177Z"
   },
   {
    "duration": 299,
    "start_time": "2024-07-21T11:14:45.152Z"
   },
   {
    "duration": 6,
    "start_time": "2024-07-21T11:14:45.453Z"
   },
   {
    "duration": 38,
    "start_time": "2024-07-21T11:14:45.460Z"
   },
   {
    "duration": 274,
    "start_time": "2024-07-21T11:14:45.500Z"
   },
   {
    "duration": 6,
    "start_time": "2024-07-21T11:14:45.776Z"
   },
   {
    "duration": 203,
    "start_time": "2024-07-21T11:14:45.849Z"
   },
   {
    "duration": 12815,
    "start_time": "2024-07-21T14:22:56.006Z"
   },
   {
    "duration": 1445,
    "start_time": "2024-07-21T14:23:08.824Z"
   },
   {
    "duration": 1160,
    "start_time": "2024-07-21T14:23:10.270Z"
   },
   {
    "duration": 5,
    "start_time": "2024-07-21T14:23:11.432Z"
   },
   {
    "duration": 19,
    "start_time": "2024-07-21T14:23:11.439Z"
   },
   {
    "duration": 852,
    "start_time": "2024-07-21T14:23:11.460Z"
   },
   {
    "duration": 12,
    "start_time": "2024-07-21T14:23:12.314Z"
   },
   {
    "duration": 29,
    "start_time": "2024-07-21T14:23:12.328Z"
   },
   {
    "duration": 58,
    "start_time": "2024-07-21T14:23:12.359Z"
   },
   {
    "duration": 404,
    "start_time": "2024-07-21T14:23:12.420Z"
   },
   {
    "duration": 424,
    "start_time": "2024-07-21T14:23:12.825Z"
   },
   {
    "duration": 5,
    "start_time": "2024-07-21T14:23:13.251Z"
   },
   {
    "duration": 6,
    "start_time": "2024-07-21T14:23:13.258Z"
   },
   {
    "duration": 7,
    "start_time": "2024-07-21T14:23:13.266Z"
   },
   {
    "duration": 46,
    "start_time": "2024-07-21T14:23:13.275Z"
   },
   {
    "duration": 14,
    "start_time": "2024-07-21T14:23:13.322Z"
   },
   {
    "duration": 19,
    "start_time": "2024-07-21T14:23:13.337Z"
   },
   {
    "duration": 366,
    "start_time": "2024-07-21T14:23:13.358Z"
   },
   {
    "duration": 12,
    "start_time": "2024-07-21T14:23:13.726Z"
   },
   {
    "duration": 130,
    "start_time": "2024-07-21T14:23:13.739Z"
   },
   {
    "duration": 17,
    "start_time": "2024-07-21T14:23:13.870Z"
   },
   {
    "duration": 370,
    "start_time": "2024-07-21T14:23:13.888Z"
   },
   {
    "duration": 19,
    "start_time": "2024-07-21T14:23:14.259Z"
   },
   {
    "duration": 303,
    "start_time": "2024-07-21T14:23:14.279Z"
   },
   {
    "duration": 22,
    "start_time": "2024-07-21T14:23:14.585Z"
   },
   {
    "duration": 23,
    "start_time": "2024-07-21T14:23:14.608Z"
   },
   {
    "duration": 7,
    "start_time": "2024-07-21T14:23:14.632Z"
   },
   {
    "duration": 96,
    "start_time": "2024-07-21T14:23:14.643Z"
   },
   {
    "duration": 18,
    "start_time": "2024-07-21T14:23:14.741Z"
   },
   {
    "duration": 284,
    "start_time": "2024-07-21T14:23:14.760Z"
   },
   {
    "duration": 128,
    "start_time": "2024-07-21T14:23:15.045Z"
   },
   {
    "duration": 38,
    "start_time": "2024-07-21T14:23:15.174Z"
   },
   {
    "duration": 30,
    "start_time": "2024-07-21T14:23:15.213Z"
   },
   {
    "duration": 307,
    "start_time": "2024-07-21T14:23:15.245Z"
   },
   {
    "duration": 18,
    "start_time": "2024-07-21T14:23:15.554Z"
   },
   {
    "duration": 13,
    "start_time": "2024-07-21T14:23:15.574Z"
   },
   {
    "duration": 171,
    "start_time": "2024-07-21T14:23:15.588Z"
   },
   {
    "duration": 6,
    "start_time": "2024-07-21T14:23:15.761Z"
   },
   {
    "duration": 40,
    "start_time": "2024-07-21T14:23:15.768Z"
   },
   {
    "duration": 9,
    "start_time": "2024-07-21T14:23:15.809Z"
   },
   {
    "duration": 32,
    "start_time": "2024-07-21T14:23:15.819Z"
   },
   {
    "duration": 319,
    "start_time": "2024-07-21T14:23:15.853Z"
   },
   {
    "duration": 94,
    "start_time": "2024-07-21T14:23:16.173Z"
   },
   {
    "duration": 45,
    "start_time": "2024-07-21T14:23:16.269Z"
   },
   {
    "duration": 18,
    "start_time": "2024-07-21T14:23:16.316Z"
   },
   {
    "duration": 31,
    "start_time": "2024-07-21T14:23:16.335Z"
   },
   {
    "duration": 15,
    "start_time": "2024-07-21T14:23:16.368Z"
   },
   {
    "duration": 29,
    "start_time": "2024-07-21T14:23:16.384Z"
   },
   {
    "duration": 367,
    "start_time": "2024-07-21T14:23:16.415Z"
   },
   {
    "duration": 125,
    "start_time": "2024-07-21T14:23:16.784Z"
   },
   {
    "duration": 13,
    "start_time": "2024-07-21T14:23:16.911Z"
   },
   {
    "duration": 32,
    "start_time": "2024-07-21T14:23:16.925Z"
   },
   {
    "duration": 353,
    "start_time": "2024-07-21T14:23:16.958Z"
   },
   {
    "duration": 144,
    "start_time": "2024-07-21T14:23:17.313Z"
   },
   {
    "duration": 110,
    "start_time": "2024-07-21T14:23:17.458Z"
   },
   {
    "duration": 19,
    "start_time": "2024-07-21T14:23:17.570Z"
   },
   {
    "duration": 315,
    "start_time": "2024-07-21T14:23:17.607Z"
   },
   {
    "duration": 286,
    "start_time": "2024-07-21T14:23:17.923Z"
   },
   {
    "duration": 289,
    "start_time": "2024-07-21T14:23:18.211Z"
   },
   {
    "duration": 8,
    "start_time": "2024-07-21T14:23:18.502Z"
   },
   {
    "duration": 5873,
    "start_time": "2024-07-21T14:23:18.511Z"
   },
   {
    "duration": 11,
    "start_time": "2024-07-21T14:23:24.386Z"
   },
   {
    "duration": 14,
    "start_time": "2024-07-21T14:23:24.399Z"
   },
   {
    "duration": 81,
    "start_time": "2024-07-21T14:23:24.414Z"
   },
   {
    "duration": 11,
    "start_time": "2024-07-21T14:23:24.496Z"
   },
   {
    "duration": 25,
    "start_time": "2024-07-21T14:23:24.509Z"
   },
   {
    "duration": 1462,
    "start_time": "2024-07-21T14:23:24.536Z"
   },
   {
    "duration": 2124,
    "start_time": "2024-07-21T14:23:26.000Z"
   },
   {
    "duration": 1483,
    "start_time": "2024-07-21T14:23:28.126Z"
   },
   {
    "duration": 422,
    "start_time": "2024-07-21T14:23:29.610Z"
   },
   {
    "duration": 13,
    "start_time": "2024-07-21T14:23:30.034Z"
   },
   {
    "duration": 18768,
    "start_time": "2024-07-21T14:23:30.049Z"
   },
   {
    "duration": 193,
    "start_time": "2024-07-21T14:23:48.818Z"
   },
   {
    "duration": 97,
    "start_time": "2024-07-21T14:23:49.015Z"
   },
   {
    "duration": 1206,
    "start_time": "2024-07-21T14:23:49.115Z"
   },
   {
    "duration": 335,
    "start_time": "2024-07-21T14:23:50.322Z"
   },
   {
    "duration": 10,
    "start_time": "2024-07-21T14:23:50.659Z"
   },
   {
    "duration": 6,
    "start_time": "2024-07-21T14:23:50.670Z"
   },
   {
    "duration": 2433,
    "start_time": "2024-07-21T14:23:50.678Z"
   },
   {
    "duration": 302,
    "start_time": "2024-07-21T14:23:53.113Z"
   },
   {
    "duration": 5,
    "start_time": "2024-07-21T14:23:53.416Z"
   },
   {
    "duration": 13,
    "start_time": "2024-07-21T14:23:53.426Z"
   },
   {
    "duration": 273,
    "start_time": "2024-07-21T14:23:53.441Z"
   },
   {
    "duration": 5,
    "start_time": "2024-07-21T14:23:53.716Z"
   },
   {
    "duration": 270,
    "start_time": "2024-07-21T14:23:53.722Z"
   },
   {
    "duration": 12648,
    "start_time": "2024-08-03T10:15:37.577Z"
   },
   {
    "duration": 1529,
    "start_time": "2024-08-03T10:15:50.227Z"
   },
   {
    "duration": 3000,
    "start_time": "2024-08-03T10:15:51.758Z"
   },
   {
    "duration": 6,
    "start_time": "2024-08-03T10:15:54.760Z"
   },
   {
    "duration": 26,
    "start_time": "2024-08-03T10:15:54.767Z"
   },
   {
    "duration": 944,
    "start_time": "2024-08-03T10:15:54.795Z"
   },
   {
    "duration": 13,
    "start_time": "2024-08-03T10:15:55.741Z"
   },
   {
    "duration": 23,
    "start_time": "2024-08-03T10:15:55.756Z"
   },
   {
    "duration": 56,
    "start_time": "2024-08-03T10:15:55.781Z"
   },
   {
    "duration": 432,
    "start_time": "2024-08-03T10:15:55.839Z"
   },
   {
    "duration": 403,
    "start_time": "2024-08-03T10:15:56.272Z"
   },
   {
    "duration": 5,
    "start_time": "2024-08-03T10:15:56.676Z"
   },
   {
    "duration": 4,
    "start_time": "2024-08-03T10:15:56.683Z"
   },
   {
    "duration": 41,
    "start_time": "2024-08-03T10:15:56.689Z"
   },
   {
    "duration": 32,
    "start_time": "2024-08-03T10:15:56.731Z"
   },
   {
    "duration": 13,
    "start_time": "2024-08-03T10:15:56.765Z"
   },
   {
    "duration": 25,
    "start_time": "2024-08-03T10:15:56.780Z"
   },
   {
    "duration": 400,
    "start_time": "2024-08-03T10:15:56.806Z"
   },
   {
    "duration": 14,
    "start_time": "2024-08-03T10:15:57.208Z"
   },
   {
    "duration": 129,
    "start_time": "2024-08-03T10:15:57.223Z"
   },
   {
    "duration": 16,
    "start_time": "2024-08-03T10:15:57.354Z"
   },
   {
    "duration": 370,
    "start_time": "2024-08-03T10:15:57.372Z"
   },
   {
    "duration": 19,
    "start_time": "2024-08-03T10:15:57.744Z"
   },
   {
    "duration": 301,
    "start_time": "2024-08-03T10:15:57.765Z"
   },
   {
    "duration": 6,
    "start_time": "2024-08-03T10:15:58.068Z"
   },
   {
    "duration": 49,
    "start_time": "2024-08-03T10:15:58.076Z"
   },
   {
    "duration": 10,
    "start_time": "2024-08-03T10:15:58.127Z"
   },
   {
    "duration": 97,
    "start_time": "2024-08-03T10:15:58.142Z"
   },
   {
    "duration": 22,
    "start_time": "2024-08-03T10:15:58.241Z"
   },
   {
    "duration": 318,
    "start_time": "2024-08-03T10:15:58.265Z"
   },
   {
    "duration": 129,
    "start_time": "2024-08-03T10:15:58.585Z"
   },
   {
    "duration": 30,
    "start_time": "2024-08-03T10:15:58.715Z"
   },
   {
    "duration": 18,
    "start_time": "2024-08-03T10:15:58.747Z"
   },
   {
    "duration": 316,
    "start_time": "2024-08-03T10:15:58.767Z"
   },
   {
    "duration": 35,
    "start_time": "2024-08-03T10:15:59.085Z"
   },
   {
    "duration": 9,
    "start_time": "2024-08-03T10:15:59.122Z"
   },
   {
    "duration": 182,
    "start_time": "2024-08-03T10:15:59.132Z"
   },
   {
    "duration": 6,
    "start_time": "2024-08-03T10:15:59.316Z"
   },
   {
    "duration": 83,
    "start_time": "2024-08-03T10:15:59.323Z"
   },
   {
    "duration": 10,
    "start_time": "2024-08-03T10:15:59.407Z"
   },
   {
    "duration": 23,
    "start_time": "2024-08-03T10:15:59.419Z"
   },
   {
    "duration": 348,
    "start_time": "2024-08-03T10:15:59.443Z"
   },
   {
    "duration": 101,
    "start_time": "2024-08-03T10:15:59.792Z"
   },
   {
    "duration": 31,
    "start_time": "2024-08-03T10:15:59.905Z"
   },
   {
    "duration": 32,
    "start_time": "2024-08-03T10:15:59.938Z"
   },
   {
    "duration": 34,
    "start_time": "2024-08-03T10:15:59.972Z"
   },
   {
    "duration": 11,
    "start_time": "2024-08-03T10:16:00.007Z"
   },
   {
    "duration": 87,
    "start_time": "2024-08-03T10:16:00.020Z"
   },
   {
    "duration": 387,
    "start_time": "2024-08-03T10:16:00.109Z"
   },
   {
    "duration": 112,
    "start_time": "2024-08-03T10:16:00.498Z"
   },
   {
    "duration": 15,
    "start_time": "2024-08-03T10:16:00.612Z"
   },
   {
    "duration": 95,
    "start_time": "2024-08-03T10:16:00.628Z"
   },
   {
    "duration": 437,
    "start_time": "2024-08-03T10:16:00.725Z"
   },
   {
    "duration": 127,
    "start_time": "2024-08-03T10:16:01.163Z"
   },
   {
    "duration": 189,
    "start_time": "2024-08-03T10:16:01.292Z"
   },
   {
    "duration": 60,
    "start_time": "2024-08-03T10:16:01.483Z"
   },
   {
    "duration": 419,
    "start_time": "2024-08-03T10:16:01.545Z"
   },
   {
    "duration": 283,
    "start_time": "2024-08-03T10:16:01.966Z"
   },
   {
    "duration": 287,
    "start_time": "2024-08-03T10:16:02.250Z"
   },
   {
    "duration": 4,
    "start_time": "2024-08-03T10:16:02.539Z"
   },
   {
    "duration": 5964,
    "start_time": "2024-08-03T10:16:02.545Z"
   },
   {
    "duration": 11,
    "start_time": "2024-08-03T10:16:08.511Z"
   },
   {
    "duration": 21,
    "start_time": "2024-08-03T10:16:08.524Z"
   },
   {
    "duration": 85,
    "start_time": "2024-08-03T10:16:08.547Z"
   },
   {
    "duration": 3,
    "start_time": "2024-08-03T10:16:08.634Z"
   },
   {
    "duration": 28,
    "start_time": "2024-08-03T10:16:08.638Z"
   },
   {
    "duration": 1663,
    "start_time": "2024-08-03T10:16:08.667Z"
   },
   {
    "duration": 2274,
    "start_time": "2024-08-03T10:16:10.332Z"
   },
   {
    "duration": 858,
    "start_time": "2024-08-03T10:16:12.607Z"
   },
   {
    "duration": 420,
    "start_time": "2024-08-03T10:16:13.467Z"
   },
   {
    "duration": 18,
    "start_time": "2024-08-03T10:16:13.889Z"
   },
   {
    "duration": 20113,
    "start_time": "2024-08-03T10:16:13.908Z"
   },
   {
    "duration": 283,
    "start_time": "2024-08-03T10:16:34.023Z"
   },
   {
    "duration": 8,
    "start_time": "2024-08-03T10:16:34.309Z"
   },
   {
    "duration": 1152,
    "start_time": "2024-08-03T10:16:34.405Z"
   },
   {
    "duration": 350,
    "start_time": "2024-08-03T10:16:35.559Z"
   },
   {
    "duration": 11,
    "start_time": "2024-08-03T10:16:35.911Z"
   },
   {
    "duration": 11,
    "start_time": "2024-08-03T10:16:35.923Z"
   },
   {
    "duration": 3372,
    "start_time": "2024-08-03T10:16:35.935Z"
   },
   {
    "duration": 304,
    "start_time": "2024-08-03T10:16:39.309Z"
   },
   {
    "duration": 6,
    "start_time": "2024-08-03T10:16:39.615Z"
   },
   {
    "duration": 10,
    "start_time": "2024-08-03T10:16:39.626Z"
   },
   {
    "duration": 275,
    "start_time": "2024-08-03T10:16:39.638Z"
   },
   {
    "duration": 5,
    "start_time": "2024-08-03T10:16:39.915Z"
   },
   {
    "duration": 275,
    "start_time": "2024-08-03T10:16:39.921Z"
   }
  ],
  "kernelspec": {
   "display_name": "Python 3 (ipykernel)",
   "language": "python",
   "name": "python3"
  },
  "language_info": {
   "codemirror_mode": {
    "name": "ipython",
    "version": 3
   },
   "file_extension": ".py",
   "mimetype": "text/x-python",
   "name": "python",
   "nbconvert_exporter": "python",
   "pygments_lexer": "ipython3",
   "version": "3.11.5"
  },
  "toc": {
   "base_numbering": 1,
   "nav_menu": {},
   "number_sections": true,
   "sideBar": true,
   "skip_h1_title": true,
   "title_cell": "Table of Contents",
   "title_sidebar": "Contents",
   "toc_cell": false,
   "toc_position": {
    "height": "calc(100% - 180px)",
    "left": "10px",
    "top": "150px",
    "width": "384px"
   },
   "toc_section_display": true,
   "toc_window_display": true
  }
 },
 "nbformat": 4,
 "nbformat_minor": 2
}
